{
  "nbformat": 4,
  "nbformat_minor": 0,
  "metadata": {
    "colab": {
      "name": "Module-2 Assignment.ipynb",
      "provenance": [],
      "collapsed_sections": [],
      "authorship_tag": "ABX9TyMi3uvSSK9tA5hOqkea9LMM",
      "include_colab_link": true
    },
    "kernelspec": {
      "name": "python3",
      "display_name": "Python 3"
    },
    "language_info": {
      "name": "python"
    }
  },
  "cells": [
    {
      "cell_type": "markdown",
      "metadata": {
        "id": "view-in-github",
        "colab_type": "text"
      },
      "source": [
        "<a href=\"https://colab.research.google.com/github/ILikhitha/Python-Programs/blob/main/Module_2_Assignment.ipynb\" target=\"_parent\"><img src=\"https://colab.research.google.com/assets/colab-badge.svg\" alt=\"Open In Colab\"/></a>"
      ]
    },
    {
      "cell_type": "code",
      "execution_count": 21,
      "metadata": {
        "id": "JrIPSNnudegE",
        "colab": {
          "base_uri": "https://localhost:8080/"
        },
        "outputId": "2a8f5242-e2e4-47f4-df97-ee191c83e1a5"
      },
      "outputs": [
        {
          "output_type": "stream",
          "name": "stdout",
          "text": [
            "Enter n value: 6\n",
            "ENter r value: 4\n",
            "Answer for ncr is:  15.0\n"
          ]
        }
      ],
      "source": [
        "# Create a function which accepts two inputs from the user and compute nCr\n",
        "def factorial(x):\n",
        "    fact = 1\n",
        "    for i in range(1,x+1):\n",
        "        fact = fact * i\n",
        "    return fact\n",
        "n = int(input(\"Enter n value: \"))\n",
        "r = int(input(\"ENter r value: \"))\n",
        "a= factorial(n)/(factorial(r)*factorial(n-r))\n",
        "print(\"Answer for ncr is: \",a)"
      ]
    },
    {
      "cell_type": "code",
      "source": [
        "# Program to print a specified list after removing the 0th, 4th and 5th elements.\n",
        "# Sample List : ['Red', 'Green', 'White', 'Black', 'Pink', 'Yellow']\n",
        "# Expected Output : ['Green', 'White', 'Black']\n",
        "Colors=['Red', 'Green', 'White', 'Black', 'Pink', 'Yellow']\n",
        "del Colors[0]\n",
        "del Colors[3]\n",
        "del Colors[3]\n",
        "print(Colors)"
      ],
      "metadata": {
        "colab": {
          "base_uri": "https://localhost:8080/"
        },
        "id": "J9H5waswtSj6",
        "outputId": "5b6f73a3-f440-4da7-dbae-c51501537b6b"
      },
      "execution_count": 40,
      "outputs": [
        {
          "output_type": "stream",
          "name": "stdout",
          "text": [
            "['Green', 'White', 'Black']\n"
          ]
        }
      ]
    },
    {
      "cell_type": "code",
      "source": [
        ""
      ],
      "metadata": {
        "id": "PPSsMPr7ysUR"
      },
      "execution_count": null,
      "outputs": []
    }
  ]
}