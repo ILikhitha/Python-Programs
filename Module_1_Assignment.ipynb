{
  "nbformat": 4,
  "nbformat_minor": 0,
  "metadata": {
    "colab": {
      "name": "Module-1 Assignment.ipynb",
      "provenance": [],
      "collapsed_sections": [],
      "authorship_tag": "ABX9TyM3vjovBR2Xb9EsuUudkcgo",
      "include_colab_link": true
    },
    "kernelspec": {
      "name": "python3",
      "display_name": "Python 3"
    },
    "language_info": {
      "name": "python"
    }
  },
  "cells": [
    {
      "cell_type": "markdown",
      "metadata": {
        "id": "view-in-github",
        "colab_type": "text"
      },
      "source": [
        "<a href=\"https://colab.research.google.com/github/ILikhitha/Python-Programs/blob/main/Module_1_Assignment.ipynb\" target=\"_parent\"><img src=\"https://colab.research.google.com/assets/colab-badge.svg\" alt=\"Open In Colab\"/></a>"
      ]
    },
    {
      "cell_type": "markdown",
      "source": [
        "## Accept input from user and store it in variable and print the value"
      ],
      "metadata": {
        "id": "8FDL-f6qyM6w"
      }
    },
    {
      "cell_type": "code",
      "source": [
        "# Taking input(Static) and printing value\n",
        "a=5\n",
        "print(a)\n",
        "print(type(a))"
      ],
      "metadata": {
        "colab": {
          "base_uri": "https://localhost:8080/"
        },
        "id": "RUCyQ83wx8S9",
        "outputId": "5b6635ba-fa55-4f88-b9f4-ae157338a7dc"
      },
      "execution_count": null,
      "outputs": [
        {
          "output_type": "stream",
          "name": "stdout",
          "text": [
            "5\n",
            "<class 'int'>\n"
          ]
        }
      ]
    },
    {
      "cell_type": "code",
      "source": [
        "# Taking input(Dynamic) and printing value\n",
        "a=int(input(\"Enter a number:\"))\n",
        "print(a)"
      ],
      "metadata": {
        "colab": {
          "base_uri": "https://localhost:8080/"
        },
        "id": "A9QE7OicyEY-",
        "outputId": "6c50b851-7f3b-4956-8475-da94f0d208a8"
      },
      "execution_count": null,
      "outputs": [
        {
          "output_type": "stream",
          "name": "stdout",
          "text": [
            "Enter a number:55\n",
            "55\n"
          ]
        }
      ]
    },
    {
      "cell_type": "code",
      "source": [
        "# Different datatypes\n",
        "a=5\n",
        "print(type(a))"
      ],
      "metadata": {
        "colab": {
          "base_uri": "https://localhost:8080/"
        },
        "id": "D8yks1huQc_L",
        "outputId": "826ee94e-bb5f-48cd-ce30-a0ad412f8198"
      },
      "execution_count": null,
      "outputs": [
        {
          "output_type": "stream",
          "name": "stdout",
          "text": [
            "<class 'int'>\n"
          ]
        }
      ]
    },
    {
      "cell_type": "code",
      "source": [
        "a='Hello'\n",
        "print(type(a))"
      ],
      "metadata": {
        "colab": {
          "base_uri": "https://localhost:8080/"
        },
        "id": "qGixkV0lQdBV",
        "outputId": "b390286b-029e-4eed-f957-e0968af711b6"
      },
      "execution_count": null,
      "outputs": [
        {
          "output_type": "stream",
          "name": "stdout",
          "text": [
            "<class 'str'>\n"
          ]
        }
      ]
    },
    {
      "cell_type": "code",
      "source": [
        "a=5.5\n",
        "print(type(a))"
      ],
      "metadata": {
        "colab": {
          "base_uri": "https://localhost:8080/"
        },
        "id": "bFY81QyoQdCk",
        "outputId": "bf398ea9-dd9c-414e-e840-ebae276ef34b"
      },
      "execution_count": null,
      "outputs": [
        {
          "output_type": "stream",
          "name": "stdout",
          "text": [
            "<class 'float'>\n"
          ]
        }
      ]
    },
    {
      "cell_type": "markdown",
      "source": [
        "## Use of print statements and use of (.format )for printing different datatypes"
      ],
      "metadata": {
        "id": "H-QkFZNxyaKe"
      }
    },
    {
      "cell_type": "code",
      "source": [
        "Quantity=5\n",
        "Price=500\n",
        "Item=4\n",
        "Name=\"Ferrero Rocher\"\n",
        "Order=\"I bought {3} costs {1} having {0} and purchased {2}\"\n",
        "print(Order.format(Quantity,Price,Item,Name))"
      ],
      "metadata": {
        "colab": {
          "base_uri": "https://localhost:8080/"
        },
        "id": "ODOhFg8syd78",
        "outputId": "8418749a-c8a4-4f50-d4a3-6df2c4c04439"
      },
      "execution_count": null,
      "outputs": [
        {
          "output_type": "stream",
          "name": "stdout",
          "text": [
            "I bought Ferrero Rocher costs 500 having 5 and purchased 4\n"
          ]
        }
      ]
    },
    {
      "cell_type": "markdown",
      "source": [
        "## Take 2 numbers as user input and add, multiply, divide, subtract, remainder and print the output (Same operations on floating point input as well)"
      ],
      "metadata": {
        "id": "QFm21r8jwKSH"
      }
    },
    {
      "cell_type": "markdown",
      "source": [
        "### Integers as input\n"
      ],
      "metadata": {
        "id": "sabZIslkwZeZ"
      }
    },
    {
      "cell_type": "code",
      "source": [
        "# Add two numbers\n",
        "a=10\n",
        "b=20\n",
        "add=a+b\n",
        "print(add)"
      ],
      "metadata": {
        "colab": {
          "base_uri": "https://localhost:8080/"
        },
        "id": "e-5Y_Jf-wfjE",
        "outputId": "b97a4f9e-20b5-4903-8ab0-2dcb168daf8f"
      },
      "execution_count": null,
      "outputs": [
        {
          "output_type": "stream",
          "name": "stdout",
          "text": [
            "30\n"
          ]
        }
      ]
    },
    {
      "cell_type": "code",
      "source": [
        "# Subtract two numbers\n",
        "a=100\n",
        "b=50\n",
        "subtract=a-b\n",
        "print(subtract)"
      ],
      "metadata": {
        "colab": {
          "base_uri": "https://localhost:8080/"
        },
        "id": "B7-xOS1ywk-k",
        "outputId": "13bfcced-41dc-472d-a92d-6d95201b7efc"
      },
      "execution_count": null,
      "outputs": [
        {
          "output_type": "stream",
          "name": "stdout",
          "text": [
            "50\n"
          ]
        }
      ]
    },
    {
      "cell_type": "code",
      "source": [
        "# Multiply two numbers\n",
        "a=50\n",
        "b=50\n",
        "multiply=a*b\n",
        "print(multiply)"
      ],
      "metadata": {
        "colab": {
          "base_uri": "https://localhost:8080/"
        },
        "id": "ucxFSdBiw0vZ",
        "outputId": "82490ad5-e63c-4681-c699-5b3fb73eb3e3"
      },
      "execution_count": null,
      "outputs": [
        {
          "output_type": "stream",
          "name": "stdout",
          "text": [
            "2500\n"
          ]
        }
      ]
    },
    {
      "cell_type": "code",
      "source": [
        "# Divide two numbers\n",
        "a=25\n",
        "b=5\n",
        "divide=a/b\n",
        "print(divide)"
      ],
      "metadata": {
        "colab": {
          "base_uri": "https://localhost:8080/"
        },
        "id": "_1EFA7Upw1F0",
        "outputId": "58a5f26c-0df2-4db6-cf30-c32fe0d10358"
      },
      "execution_count": null,
      "outputs": [
        {
          "output_type": "stream",
          "name": "stdout",
          "text": [
            "5.0\n"
          ]
        }
      ]
    },
    {
      "cell_type": "code",
      "source": [
        "# remainder\n",
        "a=5\n",
        "b=2\n",
        "remainder=a%b\n",
        "print(remainder)"
      ],
      "metadata": {
        "colab": {
          "base_uri": "https://localhost:8080/"
        },
        "id": "SYLHe1r7w1P1",
        "outputId": "1ef244ec-d4d2-41d2-8c80-2925d0ae9363"
      },
      "execution_count": null,
      "outputs": [
        {
          "output_type": "stream",
          "name": "stdout",
          "text": [
            "1\n"
          ]
        }
      ]
    },
    {
      "cell_type": "markdown",
      "source": [
        "### Floating numbers as input"
      ],
      "metadata": {
        "id": "me5Zu7fExT9z"
      }
    },
    {
      "cell_type": "code",
      "source": [
        "# Add two numbers\n",
        "a=10.5\n",
        "b=20.7\n",
        "add=a+b\n",
        "print(add)"
      ],
      "metadata": {
        "colab": {
          "base_uri": "https://localhost:8080/"
        },
        "id": "FU6sWjsHxYzL",
        "outputId": "07ebc324-b6f8-4827-d78d-5f626e7ecfca"
      },
      "execution_count": null,
      "outputs": [
        {
          "output_type": "stream",
          "name": "stdout",
          "text": [
            "31.2\n"
          ]
        }
      ]
    },
    {
      "cell_type": "code",
      "source": [
        "# Subtract two numbers\n",
        "a=40.6\n",
        "b=20.2\n",
        "subtract=a-b\n",
        "print(subtract)"
      ],
      "metadata": {
        "colab": {
          "base_uri": "https://localhost:8080/"
        },
        "id": "TAVGsye1xY8s",
        "outputId": "d75c87e9-a3bc-47bd-cd89-b853bad49dc2"
      },
      "execution_count": null,
      "outputs": [
        {
          "output_type": "stream",
          "name": "stdout",
          "text": [
            "20.400000000000002\n"
          ]
        }
      ]
    },
    {
      "cell_type": "code",
      "source": [
        "# Multiply two numbers\n",
        "a=50.3\n",
        "b=50.4\n",
        "multiply=a*b\n",
        "print(multiply)"
      ],
      "metadata": {
        "colab": {
          "base_uri": "https://localhost:8080/"
        },
        "id": "y9IusF98xZEu",
        "outputId": "76227cdf-b40c-462e-ff5a-93e0a94a6b8b"
      },
      "execution_count": null,
      "outputs": [
        {
          "output_type": "stream",
          "name": "stdout",
          "text": [
            "2535.12\n"
          ]
        }
      ]
    },
    {
      "cell_type": "code",
      "source": [
        "# Divide two numbers\n",
        "a=25.5\n",
        "b=5\n",
        "divide=a/b\n",
        "print(divide)"
      ],
      "metadata": {
        "colab": {
          "base_uri": "https://localhost:8080/"
        },
        "id": "jbc_1SXtxZMi",
        "outputId": "3f36d4a4-2c48-4788-bb0c-a0f066b4d948"
      },
      "execution_count": null,
      "outputs": [
        {
          "output_type": "stream",
          "name": "stdout",
          "text": [
            "5.1\n"
          ]
        }
      ]
    },
    {
      "cell_type": "code",
      "source": [
        "# remainder\n",
        "a=5.5\n",
        "b=2\n",
        "remainder=a%b\n",
        "print(remainder)"
      ],
      "metadata": {
        "colab": {
          "base_uri": "https://localhost:8080/"
        },
        "id": "p3FRu2WFxZVr",
        "outputId": "99e03815-884b-4be9-95cb-37326a82af80"
      },
      "execution_count": null,
      "outputs": [
        {
          "output_type": "stream",
          "name": "stdout",
          "text": [
            "1.5\n"
          ]
        }
      ]
    },
    {
      "cell_type": "markdown",
      "source": [
        "## Conversion of one unit to another (such as hours to minutes, miles to km and etc)"
      ],
      "metadata": {
        "id": "sqg6n_bPvt7p"
      }
    },
    {
      "cell_type": "code",
      "source": [
        "# Time units conversion\n",
        "a=int(input(\"Enter time in hours:\"))\n",
        "b=a*60\n",
        "print(b)"
      ],
      "metadata": {
        "colab": {
          "base_uri": "https://localhost:8080/"
        },
        "id": "fhDAwJ9Av0HX",
        "outputId": "93e825c7-4130-4343-8ee3-8388b2c327fe"
      },
      "execution_count": null,
      "outputs": [
        {
          "output_type": "stream",
          "name": "stdout",
          "text": [
            "Enter time in hours:5\n",
            "300\n"
          ]
        }
      ]
    },
    {
      "cell_type": "code",
      "source": [
        "# Distance units conversion\n",
        "a=int(input(\"Enter distance in miles:\"))\n",
        "b=1.60934*a\n",
        "print(b)"
      ],
      "metadata": {
        "colab": {
          "base_uri": "https://localhost:8080/"
        },
        "id": "6An2XOTzv_F2",
        "outputId": "b95deb93-2003-47e1-aab6-794c1117a1ae"
      },
      "execution_count": null,
      "outputs": [
        {
          "output_type": "stream",
          "name": "stdout",
          "text": [
            "Enter distance in miles:5\n",
            "8.0467\n"
          ]
        }
      ]
    },
    {
      "cell_type": "markdown",
      "source": [
        "## Usage of mathematical functions in python like math.ceil, floor, fabs, fmod, trunc,pow, sqrt etc."
      ],
      "metadata": {
        "id": "rO7OoNeoujLQ"
      }
    },
    {
      "cell_type": "code",
      "source": [
        "# math.ceil\n",
        "import math\n",
        "print(math.ceil(5.5))"
      ],
      "metadata": {
        "colab": {
          "base_uri": "https://localhost:8080/"
        },
        "id": "Y76_ZLfqutEm",
        "outputId": "de092996-ea9c-43e4-e093-6580ee140748"
      },
      "execution_count": null,
      "outputs": [
        {
          "output_type": "stream",
          "name": "stdout",
          "text": [
            "6\n"
          ]
        }
      ]
    },
    {
      "cell_type": "code",
      "source": [
        "# math.floor\n",
        "import math\n",
        "print(math.floor(5.5))"
      ],
      "metadata": {
        "colab": {
          "base_uri": "https://localhost:8080/"
        },
        "id": "flv4VWv4vAJd",
        "outputId": "ea89e12c-8df3-44cc-a5fa-292def86c5e2"
      },
      "execution_count": null,
      "outputs": [
        {
          "output_type": "stream",
          "name": "stdout",
          "text": [
            "5\n"
          ]
        }
      ]
    },
    {
      "cell_type": "code",
      "source": [
        "# math.fabs\n",
        "import math\n",
        "print(math.fabs(-1))"
      ],
      "metadata": {
        "colab": {
          "base_uri": "https://localhost:8080/"
        },
        "id": "i109hZfavF3t",
        "outputId": "47206b0b-fa82-440d-c07c-81eb446cd857"
      },
      "execution_count": null,
      "outputs": [
        {
          "output_type": "stream",
          "name": "stdout",
          "text": [
            "1.0\n"
          ]
        }
      ]
    },
    {
      "cell_type": "code",
      "source": [
        "# math.fmod\n",
        "import math\n",
        "print(math.fmod(20,5))"
      ],
      "metadata": {
        "colab": {
          "base_uri": "https://localhost:8080/"
        },
        "id": "5slxiwKwvKUd",
        "outputId": "0a31d32c-dfb1-4ac7-96ec-95c93ebf751a"
      },
      "execution_count": null,
      "outputs": [
        {
          "output_type": "stream",
          "name": "stdout",
          "text": [
            "0.0\n"
          ]
        }
      ]
    },
    {
      "cell_type": "code",
      "source": [
        "# math.trunc\n",
        "import math\n",
        "print(math.trunc(5.55))"
      ],
      "metadata": {
        "colab": {
          "base_uri": "https://localhost:8080/"
        },
        "id": "_YizOu_UvR2j",
        "outputId": "7dead65a-fc80-4b29-d3e5-c4b61a2e23f4"
      },
      "execution_count": null,
      "outputs": [
        {
          "output_type": "stream",
          "name": "stdout",
          "text": [
            "5\n"
          ]
        }
      ]
    },
    {
      "cell_type": "code",
      "source": [
        "# math.pow\n",
        "import math\n",
        "print(math.pow(2,5))"
      ],
      "metadata": {
        "colab": {
          "base_uri": "https://localhost:8080/"
        },
        "id": "wSHv86JqvUko",
        "outputId": "1b532f1b-29d3-40a3-a76a-56f652b617c0"
      },
      "execution_count": null,
      "outputs": [
        {
          "output_type": "stream",
          "name": "stdout",
          "text": [
            "32.0\n"
          ]
        }
      ]
    },
    {
      "cell_type": "code",
      "source": [
        "# math.sqrt\n",
        "import math\n",
        "print(math.sqrt(25))"
      ],
      "metadata": {
        "colab": {
          "base_uri": "https://localhost:8080/"
        },
        "id": "fWyS5NYovb0r",
        "outputId": "dd485893-8e58-4b83-fd84-0196491adc27"
      },
      "execution_count": null,
      "outputs": [
        {
          "output_type": "stream",
          "name": "stdout",
          "text": [
            "5.0\n"
          ]
        }
      ]
    },
    {
      "cell_type": "code",
      "source": [
        "# Building a mathematical calculator that can perform operations according to user input.Use decision making statement\n",
        "a=float(input(\"Enter first number:\"))\n",
        "b=float(input(\"Enter second number:\"))\n",
        "x=input(\"Enter an operation:\")\n",
        "if x==\"+\":\n",
        "  print(a+b)\n",
        "elif x==\"-\":\n",
        "  print(a-b)\n",
        "elif x==\"*\":\n",
        "  print(a*b)\n",
        "elif x==\"/\":\n",
        "  print(a/b)\n",
        "else:\n",
        "  print(a%b)"
      ],
      "metadata": {
        "colab": {
          "base_uri": "https://localhost:8080/"
        },
        "id": "B4OHVQQOK2Ss",
        "outputId": "74eef5ca-698e-4643-ed42-b2ae28c5e1fc"
      },
      "execution_count": null,
      "outputs": [
        {
          "output_type": "stream",
          "name": "stdout",
          "text": [
            "Enter first number:55\n",
            "Enter second number:5\n",
            "Enter an operation:/\n",
            "11.0\n"
          ]
        }
      ]
    },
    {
      "cell_type": "code",
      "source": [
        "# Accepting 5 different subject marks from user and displaying the grade of the student\n",
        "a=int(input(\"Enter 1st subject marks:\"))\n",
        "b=int(input(\"Enter 2nd subject marks:\"))\n",
        "c=int(input(\"Enter 3rd subject marks:\"))\n",
        "d=int(input(\"Enter 4th subject marks:\"))\n",
        "e=int(input(\"Enter 5th subject marks:\"))\n",
        "avg=(a+b+c+d+e)/5\n",
        "print(avg) \n",
        "if(avg>=90):\n",
        "        print(\"Grade: A\")\n",
        "elif(avg>=80 and avg<90):\n",
        "        print(\"Grade: B\")\n",
        "elif(avg>=70 and avg<80):\n",
        "        print(\"Grade: C\")\n",
        "elif(avg>=60 and avg<70):\n",
        "        print(\"Grade: D\")\n",
        "else:\n",
        "        print(\"Grade: F\")"
      ],
      "metadata": {
        "id": "X1jUCr4CpzqR",
        "colab": {
          "base_uri": "https://localhost:8080/"
        },
        "outputId": "85817c65-2c95-4d83-de2c-3ffbbee0f5f8"
      },
      "execution_count": null,
      "outputs": [
        {
          "output_type": "stream",
          "name": "stdout",
          "text": [
            "Enter 1st subject marks:90\n",
            "Enter 2nd subject marks:90\n",
            "Enter 3rd subject marks:95\n",
            "Enter 4th subject marks:85\n",
            "Enter 5th subject marks:90\n",
            "90.0\n",
            "Grade: A\n"
          ]
        }
      ]
    },
    {
      "cell_type": "code",
      "execution_count": null,
      "metadata": {
        "id": "er1FylumdSwj",
        "colab": {
          "base_uri": "https://localhost:8080/"
        },
        "outputId": "ea9f19a9-5d99-4c0a-bbfa-8fe6fc6a6228"
      },
      "outputs": [
        {
          "output_type": "stream",
          "name": "stdout",
          "text": [
            "5\n",
            "7\n",
            "9\n",
            "11\n",
            "13\n",
            "15\n",
            "17\n",
            "19\n",
            "21\n",
            "23\n",
            "25\n",
            "27\n",
            "29\n",
            "31\n",
            "33\n",
            "35\n",
            "37\n",
            "39\n",
            "41\n",
            "43\n",
            "45\n",
            "47\n",
            "49\n",
            "51\n",
            "53\n",
            "55\n",
            "57\n",
            "59\n",
            "61\n",
            "63\n",
            "65\n",
            "67\n",
            "69\n",
            "71\n",
            "73\n",
            "75\n",
            "77\n",
            "79\n",
            "81\n",
            "83\n",
            "85\n",
            "87\n",
            "89\n",
            "91\n",
            "93\n",
            "95\n",
            "97\n",
            "99\n"
          ]
        }
      ],
      "source": [
        "# Printing all odd numbers within given range\n",
        "for i in range(5,100,2):\n",
        "                      print(i)"
      ]
    },
    {
      "cell_type": "code",
      "source": [
        "# Printing all Even numbers within given range\n",
        "for i in range(4,100,2):\n",
        "  print(i)"
      ],
      "metadata": {
        "colab": {
          "base_uri": "https://localhost:8080/"
        },
        "id": "jvPQfz56jLyf",
        "outputId": "dfb6829b-0dd5-4453-bdaf-f8aa07c329d1"
      },
      "execution_count": null,
      "outputs": [
        {
          "output_type": "stream",
          "name": "stdout",
          "text": [
            "4\n",
            "6\n",
            "8\n",
            "10\n",
            "12\n",
            "14\n",
            "16\n",
            "18\n",
            "20\n",
            "22\n",
            "24\n",
            "26\n",
            "28\n",
            "30\n",
            "32\n",
            "34\n",
            "36\n",
            "38\n",
            "40\n",
            "42\n",
            "44\n",
            "46\n",
            "48\n",
            "50\n",
            "52\n",
            "54\n",
            "56\n",
            "58\n",
            "60\n",
            "62\n",
            "64\n",
            "66\n",
            "68\n",
            "70\n",
            "72\n",
            "74\n",
            "76\n",
            "78\n",
            "80\n",
            "82\n",
            "84\n",
            "86\n",
            "88\n",
            "90\n",
            "92\n",
            "94\n",
            "96\n",
            "98\n"
          ]
        }
      ]
    },
    {
      "cell_type": "code",
      "source": [
        "# count of even and odd numbers\n",
        "a=(5,2,4,6,9,13,8,60)\n",
        "even_count,odd_count=0,0\n",
        "for n in a:\n",
        "  if n%2==0:\n",
        "    even_count+=1\n",
        "  else:\n",
        "    odd_count+=1\n",
        "print(\"Even numbers count\",even_count)\n",
        "print(\"Odd numbers count\",odd_count)"
      ],
      "metadata": {
        "colab": {
          "base_uri": "https://localhost:8080/"
        },
        "id": "v6x_wqHkjZ71",
        "outputId": "ec6f72bf-e120-4d0d-9600-eaa31c980eb0"
      },
      "execution_count": null,
      "outputs": [
        {
          "output_type": "stream",
          "name": "stdout",
          "text": [
            "Even numbers count 5\n",
            "Odd numbers count 3\n"
          ]
        }
      ]
    },
    {
      "cell_type": "code",
      "source": [
        "# Compute the factorial of a given number\n",
        "def factorial(n):\n",
        "    if n == 0:\n",
        "        return 1\n",
        "    else:\n",
        "        return n * factorial(n-1)\n",
        "n=int(input(\"Enter a number: \"))\n",
        "print(factorial(n))"
      ],
      "metadata": {
        "colab": {
          "base_uri": "https://localhost:8080/"
        },
        "id": "mGocUgXekL4l",
        "outputId": "6492c9fb-44fc-491b-9f64-214854c14aa0"
      },
      "execution_count": null,
      "outputs": [
        {
          "output_type": "stream",
          "name": "stdout",
          "text": [
            "Enter a number: 5\n",
            "120\n"
          ]
        }
      ]
    },
    {
      "cell_type": "code",
      "source": [
        "# Compute the factorial of a given number\n",
        "num = int(input(\"Enter a number:\"))    \n",
        "factorial = 1    \n",
        "if num < 0:    \n",
        "   print(\"Factorial not exist for negative numbers\")    \n",
        "elif num == 0:    \n",
        "   print(\"The factorial of 0 is 1\")    \n",
        "else:    \n",
        "   for i in range(1,num + 1):    \n",
        "       factorial = factorial*i    \n",
        "   print(\"The factorial of\",num,\"is\",factorial)    "
      ],
      "metadata": {
        "id": "A_aMb9ScpE6m",
        "colab": {
          "base_uri": "https://localhost:8080/"
        },
        "outputId": "e537e821-7843-46ee-a2a0-8f3a399632df"
      },
      "execution_count": null,
      "outputs": [
        {
          "output_type": "stream",
          "name": "stdout",
          "text": [
            "Enter a number:3\n",
            "The factorial of 3 is 6\n"
          ]
        }
      ]
    },
    {
      "cell_type": "code",
      "source": [
        "# b) Compute GCD of two given numbers\n",
        "num1 = int(input(\"Enter 1st number: \"))\n",
        "num2 = int(input(\"Enter 2nd number: \"))\n",
        "i = 1\n",
        "while(i <= num1 and i <= num2):\n",
        "  if(num1 % i == 0 and num2 % i == 0):\n",
        "    gcd = i\n",
        "  i = i + 1\n",
        "print(\"GCD is\", gcd)"
      ],
      "metadata": {
        "colab": {
          "base_uri": "https://localhost:8080/"
        },
        "id": "vsBbKcVJnM64",
        "outputId": "bc1d3085-f4e7-4ac5-8a69-e8b9a3e6bd8b"
      },
      "execution_count": null,
      "outputs": [
        {
          "output_type": "stream",
          "name": "stdout",
          "text": [
            "Enter 1st number: 5\n",
            "Enter 2nd number: 15\n",
            "GCD is 5\n"
          ]
        }
      ]
    },
    {
      "cell_type": "code",
      "source": [
        "#  c) Generate Fibonacci series up to N numbers\n",
        "num = int(input(\"Enter the Number:\"))\n",
        "n1, n2 = 0, 1\n",
        "print(\"Fibonacci Series:\", n1, n2, end=\" \")\n",
        "for i in range(2, num):\n",
        "    n3 = n1 + n2\n",
        "    n1 = n2\n",
        "    n2 = n3\n",
        "    print(n3, end=\" \")"
      ],
      "metadata": {
        "colab": {
          "base_uri": "https://localhost:8080/"
        },
        "id": "oQvjJHaJMMoL",
        "outputId": "aada6957-1c46-44f9-b3ca-00e18e57ab20"
      },
      "execution_count": null,
      "outputs": [
        {
          "output_type": "stream",
          "name": "stdout",
          "text": [
            "Enter the Number:10\n",
            "Fibonacci Series: 0 1 1 2 3 5 8 13 21 34 "
          ]
        }
      ]
    },
    {
      "cell_type": "code",
      "source": [
        "# Check whether the given input is\n",
        "# a) palindrome \n",
        "num=int(input(\"Enter a number:\"))\n",
        "temp=num\n",
        "rev=0\n",
        "while(num>0):\n",
        "    digit=num%10\n",
        "    rev=rev*10+digit\n",
        "    num=num//10\n",
        "if(temp==rev):\n",
        "    print(\"Number is palindrome\")\n",
        "else:\n",
        "    print(\"Not a palindrome\")"
      ],
      "metadata": {
        "colab": {
          "base_uri": "https://localhost:8080/"
        },
        "id": "NeiwuyOHiEiK",
        "outputId": "2ae7d606-99f7-4eac-ebb0-b4c4c1e754bc"
      },
      "execution_count": null,
      "outputs": [
        {
          "output_type": "stream",
          "name": "stdout",
          "text": [
            "Enter a number:5005\n",
            "Number is palindrome\n"
          ]
        }
      ]
    },
    {
      "cell_type": "code",
      "source": [
        "# b) strong  \n",
        "sum=0  \n",
        "num=int(input(\"Enter a number:\"))  \n",
        "temp=num    \n",
        "while(num):  \n",
        "    i=1  \n",
        "    fact=1  \n",
        "    rem=num%10  \n",
        "    while(i<=rem):  \n",
        "        fact=fact*i \n",
        "        i=i+1  \n",
        "    sum=sum+fact  \n",
        "    num=num//10  \n",
        "if(sum==temp):  \n",
        "    print(\"Number is a strong number\")  \n",
        "else:  \n",
        "    print(\"Number is not a strong number\")  "
      ],
      "metadata": {
        "colab": {
          "base_uri": "https://localhost:8080/"
        },
        "id": "FiASOEnTjHeX",
        "outputId": "edd2aae4-8dc9-4faa-ccb9-2901e2fd0a11"
      },
      "execution_count": null,
      "outputs": [
        {
          "output_type": "stream",
          "name": "stdout",
          "text": [
            "Enter a number:145\n",
            "Number is a strong number\n"
          ]
        }
      ]
    },
    {
      "cell_type": "code",
      "source": [
        "# c) perfect\n",
        "n = int(input(\"Enter any number: \"))\n",
        "sum = 0\n",
        "for i in range(1, n):\n",
        "    if(n % i == 0):\n",
        "        sum = sum + i\n",
        "if (sum == n):\n",
        "    print(\"Number is a Perfect number\")\n",
        "else:\n",
        "    print(\"Number is not a Perfect number!\")"
      ],
      "metadata": {
        "colab": {
          "base_uri": "https://localhost:8080/"
        },
        "id": "nfbZGp3fl7AL",
        "outputId": "50875627-18bf-406e-ed1e-0e1cc4b1fba2"
      },
      "execution_count": null,
      "outputs": [
        {
          "output_type": "stream",
          "name": "stdout",
          "text": [
            "Enter any number: 6\n",
            "Number is a Perfect number\n"
          ]
        }
      ]
    },
    {
      "cell_type": "code",
      "source": [
        "# Compute compound interest using loop for a certain principal and interest amount\n",
        "n=int(input(\"Enter the principle amount:\"))\n",
        "rate=int(input('Enter the rate:'))\n",
        "years=int(input(\"Enter the number of years:\"))\n",
        "for i in range(years):\n",
        "  n=n+((n*rate)/100)\n",
        "print(n)"
      ],
      "metadata": {
        "colab": {
          "base_uri": "https://localhost:8080/"
        },
        "id": "o0KFP84uZHfI",
        "outputId": "aed071ac-0c99-4360-ad23-bc2108165407"
      },
      "execution_count": null,
      "outputs": [
        {
          "output_type": "stream",
          "name": "stdout",
          "text": [
            "Enter the principle amount:100\n",
            "Enter the rate:2\n",
            "Enter the number of years:2\n",
            "104.04\n"
          ]
        }
      ]
    }
  ]
}