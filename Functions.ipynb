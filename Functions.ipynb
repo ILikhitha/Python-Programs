{
  "nbformat": 4,
  "nbformat_minor": 0,
  "metadata": {
    "colab": {
      "name": "Functions.ipynb",
      "provenance": [],
      "collapsed_sections": [],
      "authorship_tag": "ABX9TyNnfCR7qdXe3TRMFXk8QCg8",
      "include_colab_link": true
    },
    "kernelspec": {
      "name": "python3",
      "display_name": "Python 3"
    },
    "language_info": {
      "name": "python"
    }
  },
  "cells": [
    {
      "cell_type": "markdown",
      "metadata": {
        "id": "view-in-github",
        "colab_type": "text"
      },
      "source": [
        "<a href=\"https://colab.research.google.com/github/ILikhitha/Python-Programs/blob/main/Functions.ipynb\" target=\"_parent\"><img src=\"https://colab.research.google.com/assets/colab-badge.svg\" alt=\"Open In Colab\"/></a>"
      ]
    },
    {
      "cell_type": "code",
      "execution_count": 4,
      "metadata": {
        "colab": {
          "base_uri": "https://localhost:8080/"
        },
        "id": "dlawbSO7Lux5",
        "outputId": "7d3f4afa-1829-4835-d6dc-fe5960c55a78"
      },
      "outputs": [
        {
          "output_type": "stream",
          "name": "stdout",
          "text": [
            "I saw kgf2 movie\n"
          ]
        }
      ],
      "source": [
        "# Creating a function,Calling \n",
        "def Likhitha():\n",
        "  print(\"I saw kgf2 movie\")                 # no argument,no return value #\n",
        "\n",
        "Likhitha()"
      ]
    },
    {
      "cell_type": "code",
      "source": [
        "# Arguments\n",
        "def Example(Name):\n",
        "  print(\"Hello\"+ ' '+Name)\n",
        "\n",
        "Example(\"Yang\")\n",
        "Example(\"Wang\")\n",
        "Example(\"Kai\")\n",
        "Example(\"Lin\")"
      ],
      "metadata": {
        "colab": {
          "base_uri": "https://localhost:8080/"
        },
        "id": "9eWcznI-VPiZ",
        "outputId": "ba1f05c9-202f-4f1a-e191-6ee50bfc5596"
      },
      "execution_count": 9,
      "outputs": [
        {
          "output_type": "stream",
          "name": "stdout",
          "text": [
            "Hello Yang\n",
            "Hello Wang\n",
            "Hello Kai\n",
            "Hello Lin\n"
          ]
        }
      ]
    },
    {
      "cell_type": "code",
      "source": [
        "# Number of Arguments\n",
        "def Example(Name,Genius):\n",
        "  print(Name+' '+\"is\"+ ' '+Genius)                      # with argument,no return value#\n",
        "Example(\"Wang\",\"Talented\")"
      ],
      "metadata": {
        "colab": {
          "base_uri": "https://localhost:8080/"
        },
        "id": "zrWTQBkUX9Xg",
        "outputId": "8a4a4056-b7b2-41bf-e30c-f60aef7e98f7"
      },
      "execution_count": 14,
      "outputs": [
        {
          "output_type": "stream",
          "name": "stdout",
          "text": [
            "Wang is Talented\n"
          ]
        }
      ]
    },
    {
      "cell_type": "code",
      "source": [
        "# Arbitrary Arguments\n",
        "def Example(*Stars):\n",
        "  print(\"The top stars are\"+' '+ Stars[1])\n",
        "Example(\"Yang\",\"Wang\",\"Kai\",\"Lin\")"
      ],
      "metadata": {
        "colab": {
          "base_uri": "https://localhost:8080/"
        },
        "id": "V5tmFYCXZV5w",
        "outputId": "b1238a58-00e3-405f-ef82-7f120dde34a4"
      },
      "execution_count": 19,
      "outputs": [
        {
          "output_type": "stream",
          "name": "stdout",
          "text": [
            "The top stars are Wang\n"
          ]
        }
      ]
    },
    {
      "cell_type": "code",
      "source": [
        "# With Argument,No return value\n",
        "def voting(Name,Age,Gender):\n",
        "  print(\"Name:\" +Name )\n",
        "  print(\"Age:\" +Age )\n",
        "  print(\"Gender:\" +Gender )\n",
        "voting(\"Wang\",\"25\",\"Male\")"
      ],
      "metadata": {
        "colab": {
          "base_uri": "https://localhost:8080/"
        },
        "id": "3rk02a00akh9",
        "outputId": "7b717d6a-4044-4eb2-81a2-cdef849a6445"
      },
      "execution_count": 24,
      "outputs": [
        {
          "output_type": "stream",
          "name": "stdout",
          "text": [
            "Name:Wang\n",
            "Age:25\n",
            "Gender:Male\n"
          ]
        }
      ]
    },
    {
      "cell_type": "code",
      "source": [
        "# Keyword arguments\n",
        "def Example(Star1,Star2,Star3):\n",
        "  print(\"The top star is\"+' '+ Star1)\n",
        "Example(Star1=\"Wang\",Star2=\"yang\",Star3=\"Kai\")"
      ],
      "metadata": {
        "colab": {
          "base_uri": "https://localhost:8080/"
        },
        "id": "LeN3VEB3fdbs",
        "outputId": "71cc1e1a-3eb5-4842-afb2-ed9e30cde687"
      },
      "execution_count": 26,
      "outputs": [
        {
          "output_type": "stream",
          "name": "stdout",
          "text": [
            "The top star is Wang\n"
          ]
        }
      ]
    },
    {
      "cell_type": "code",
      "source": [
        "# Using **\n",
        "def Example(**Stars):\n",
        "  print(\"The top star is\"+' '+ Stars[\"Star1\"])\n",
        "Example(Star1=\"Wang\",Star2=\"yang\")"
      ],
      "metadata": {
        "colab": {
          "base_uri": "https://localhost:8080/"
        },
        "id": "_4TZttqYjjrj",
        "outputId": "d8af3acf-32ed-4e11-9989-392794c0cf66"
      },
      "execution_count": 28,
      "outputs": [
        {
          "output_type": "stream",
          "name": "stdout",
          "text": [
            "The top star is Wang\n"
          ]
        }
      ]
    }
  ]
}