{
  "nbformat": 4,
  "nbformat_minor": 0,
  "metadata": {
    "colab": {
      "name": "Strings.ipynb",
      "provenance": [],
      "authorship_tag": "ABX9TyN5kzrTqKg1Mrn1VE/n3GCE",
      "include_colab_link": true
    },
    "kernelspec": {
      "name": "python3",
      "display_name": "Python 3"
    },
    "language_info": {
      "name": "python"
    }
  },
  "cells": [
    {
      "cell_type": "markdown",
      "metadata": {
        "id": "view-in-github",
        "colab_type": "text"
      },
      "source": [
        "<a href=\"https://colab.research.google.com/github/ILikhitha/Python-Programs/blob/main/Strings.ipynb\" target=\"_parent\"><img src=\"https://colab.research.google.com/assets/colab-badge.svg\" alt=\"Open In Colab\"/></a>"
      ]
    },
    {
      "cell_type": "markdown",
      "source": [
        "# Strings"
      ],
      "metadata": {
        "id": "I4es5yp160aT"
      }
    },
    {
      "cell_type": "code",
      "source": [
        "a='Likhitha'\n",
        "print(a)\n",
        "print(type(a))\n"
      ],
      "metadata": {
        "colab": {
          "base_uri": "https://localhost:8080/"
        },
        "id": "WJLGADk263da",
        "outputId": "61dd8a93-c234-4f00-8924-3520f000fba6"
      },
      "execution_count": 6,
      "outputs": [
        {
          "output_type": "stream",
          "name": "stdout",
          "text": [
            "Likhitha\n",
            "<class 'str'>\n"
          ]
        }
      ]
    },
    {
      "cell_type": "code",
      "source": [
        "a='Likhitha'\n",
        "print(a)\n",
        "print(type(a))\n",
        "print(a[2])"
      ],
      "metadata": {
        "colab": {
          "base_uri": "https://localhost:8080/"
        },
        "id": "TpUHJFtZ7iYi",
        "outputId": "851947cf-f2ec-4eab-a8b0-a192483cfcd3"
      },
      "execution_count": 5,
      "outputs": [
        {
          "output_type": "stream",
          "name": "stdout",
          "text": [
            "Likhitha\n",
            "<class 'str'>\n",
            "k\n"
          ]
        }
      ]
    },
    {
      "cell_type": "code",
      "source": [
        "a='Likhitha'\n",
        "print(a)\n",
        "print(type(a))\n",
        "print(len(a))"
      ],
      "metadata": {
        "colab": {
          "base_uri": "https://localhost:8080/"
        },
        "id": "nS7U3rNV70wq",
        "outputId": "40a3ec89-5d6f-4d71-b143-95520a2015ee"
      },
      "execution_count": 7,
      "outputs": [
        {
          "output_type": "stream",
          "name": "stdout",
          "text": [
            "Likhitha\n",
            "<class 'str'>\n",
            "8\n"
          ]
        }
      ]
    },
    {
      "cell_type": "code",
      "source": [
        "a='Hello,Likhitha!'\n",
        "print(a)\n",
        "print(len(a))"
      ],
      "metadata": {
        "colab": {
          "base_uri": "https://localhost:8080/"
        },
        "id": "_kYJePf-8PGz",
        "outputId": "cdcdb769-3094-4672-ad65-dda7059ca7eb"
      },
      "execution_count": 8,
      "outputs": [
        {
          "output_type": "stream",
          "name": "stdout",
          "text": [
            "Hello,Likhitha!\n",
            "15\n"
          ]
        }
      ]
    },
    {
      "cell_type": "code",
      "source": [
        "a='RRR is a 2022 Indian Telugu language epic period action drama film directed by S. S. Rajamouli'\n",
        "print(\"RRR\"in a)"
      ],
      "metadata": {
        "colab": {
          "base_uri": "https://localhost:8080/"
        },
        "id": "2VuATwmq8dvz",
        "outputId": "5c7ff2a6-3538-4ef8-bdc0-9baee249e24a"
      },
      "execution_count": 9,
      "outputs": [
        {
          "output_type": "stream",
          "name": "stdout",
          "text": [
            "True\n"
          ]
        }
      ]
    },
    {
      "cell_type": "code",
      "source": [
        "a='RRR is a 2022 Indian Telugu language epic period action drama film directed by S. S. Rajamouli'\n",
        "print(\"DS\"in a)"
      ],
      "metadata": {
        "colab": {
          "base_uri": "https://localhost:8080/"
        },
        "id": "pEWxFKYk9MAF",
        "outputId": "1ab1ac6a-30d1-4de9-cce4-9508a1027208"
      },
      "execution_count": 12,
      "outputs": [
        {
          "output_type": "stream",
          "name": "stdout",
          "text": [
            "False\n"
          ]
        }
      ]
    },
    {
      "cell_type": "code",
      "source": [
        "a='RRR is a 2022 Indian Telugu language epic period action drama film directed by S. S. Rajamouli'\n",
        "print(\"RRR\" not in a)"
      ],
      "metadata": {
        "colab": {
          "base_uri": "https://localhost:8080/"
        },
        "id": "T6xk38AK9eAz",
        "outputId": "4b64e63e-5138-4ee4-8b70-539e3ed91d9b"
      },
      "execution_count": 13,
      "outputs": [
        {
          "output_type": "stream",
          "name": "stdout",
          "text": [
            "False\n"
          ]
        }
      ]
    },
    {
      "cell_type": "markdown",
      "source": [
        "## Slicing"
      ],
      "metadata": {
        "id": "mJNoYZ869r-k"
      }
    },
    {
      "cell_type": "code",
      "source": [
        "a='RRR is a 2022 Indian Telugu language epic period action drama film directed by S. S. Rajamouli'\n",
        "print(a[2:5])"
      ],
      "metadata": {
        "colab": {
          "base_uri": "https://localhost:8080/"
        },
        "id": "jUXTQIDo9uk_",
        "outputId": "fa796663-fc12-412b-fbd6-a41373b853b6"
      },
      "execution_count": 16,
      "outputs": [
        {
          "output_type": "stream",
          "name": "stdout",
          "text": [
            "R i\n"
          ]
        }
      ]
    }
  ]
}