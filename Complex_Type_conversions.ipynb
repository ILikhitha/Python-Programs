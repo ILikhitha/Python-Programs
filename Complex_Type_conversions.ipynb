{
  "nbformat": 4,
  "nbformat_minor": 0,
  "metadata": {
    "colab": {
      "name": "Complex Type conversions.ipynb",
      "provenance": [],
      "authorship_tag": "ABX9TyPZzG+ZIhiGFxH7bU+zeYeN",
      "include_colab_link": true
    },
    "kernelspec": {
      "name": "python3",
      "display_name": "Python 3"
    },
    "language_info": {
      "name": "python"
    }
  },
  "cells": [
    {
      "cell_type": "markdown",
      "metadata": {
        "id": "view-in-github",
        "colab_type": "text"
      },
      "source": [
        "<a href=\"https://colab.research.google.com/github/ILikhitha/Python-Programs/blob/main/Complex_Type_conversions.ipynb\" target=\"_parent\"><img src=\"https://colab.research.google.com/assets/colab-badge.svg\" alt=\"Open In Colab\"/></a>"
      ]
    },
    {
      "cell_type": "code",
      "execution_count": null,
      "metadata": {
        "id": "zJZiDXe7zmfu"
      },
      "outputs": [],
      "source": [
        "# Complex conversions"
      ]
    },
    {
      "cell_type": "code",
      "source": [
        "a=complex(6,2)\n",
        "print(a)\n",
        "print(type(a))"
      ],
      "metadata": {
        "colab": {
          "base_uri": "https://localhost:8080/"
        },
        "id": "qaG9WiGbzywF",
        "outputId": "b6cdef1a-675e-45f5-f682-94c6bc28d034"
      },
      "execution_count": 11,
      "outputs": [
        {
          "output_type": "stream",
          "name": "stdout",
          "text": [
            "(6+2j)\n",
            "<class 'complex'>\n"
          ]
        }
      ]
    },
    {
      "cell_type": "code",
      "source": [
        "a=complex(-1,-1)\n",
        "print(a)\n",
        "print(type(a))"
      ],
      "metadata": {
        "colab": {
          "base_uri": "https://localhost:8080/"
        },
        "id": "dHe84AKT2Juh",
        "outputId": "e6479fbf-2c15-4a3a-94a4-0059a8074191"
      },
      "execution_count": 12,
      "outputs": [
        {
          "output_type": "stream",
          "name": "stdout",
          "text": [
            "(-1-1j)\n",
            "<class 'complex'>\n"
          ]
        }
      ]
    },
    {
      "cell_type": "code",
      "source": [
        "# complex to int and float not possible"
      ],
      "metadata": {
        "id": "vUhO-zXF2P1E"
      },
      "execution_count": null,
      "outputs": []
    },
    {
      "cell_type": "code",
      "source": [
        "# complex to string\n",
        "a=complex(-1,-1)\n",
        "print(a)\n",
        "b=str(a)\n",
        "print(b)"
      ],
      "metadata": {
        "colab": {
          "base_uri": "https://localhost:8080/"
        },
        "id": "GsmN9_aQ2YRE",
        "outputId": "07c779c4-bf19-48e5-e32e-fe49cfd40068"
      },
      "execution_count": 7,
      "outputs": [
        {
          "output_type": "stream",
          "name": "stdout",
          "text": [
            "(-1-1j)\n",
            "(-1-1j)\n"
          ]
        }
      ]
    },
    {
      "cell_type": "code",
      "source": [
        "# int to complex\n",
        "a=5\n",
        "print(a)\n",
        "b=complex(a)\n",
        "print(b)"
      ],
      "metadata": {
        "colab": {
          "base_uri": "https://localhost:8080/"
        },
        "id": "1P36ScD_2v67",
        "outputId": "6e612924-4c2c-40e7-e476-75c3b79ad132"
      },
      "execution_count": 8,
      "outputs": [
        {
          "output_type": "stream",
          "name": "stdout",
          "text": [
            "5\n",
            "(5+0j)\n"
          ]
        }
      ]
    },
    {
      "cell_type": "code",
      "source": [
        "# float to complex\n",
        "a=5.5\n",
        "print(b)\n",
        "b=complex(a)\n",
        "print(b)"
      ],
      "metadata": {
        "colab": {
          "base_uri": "https://localhost:8080/"
        },
        "id": "llZSI-J12--H",
        "outputId": "d63af093-1b45-4104-85aa-6fbceb43068f"
      },
      "execution_count": 9,
      "outputs": [
        {
          "output_type": "stream",
          "name": "stdout",
          "text": [
            "(5+0j)\n",
            "(5.5+0j)\n"
          ]
        }
      ]
    },
    {
      "cell_type": "code",
      "source": [
        "# string to complex\n",
        "a='5'\n",
        "print(a)\n",
        "b=complex(a)\n",
        "print(b)"
      ],
      "metadata": {
        "colab": {
          "base_uri": "https://localhost:8080/"
        },
        "id": "bEehJb013M5o",
        "outputId": "bef6ff4a-440f-4af2-9814-d3f14d0bf43b"
      },
      "execution_count": 10,
      "outputs": [
        {
          "output_type": "stream",
          "name": "stdout",
          "text": [
            "5\n",
            "(5+0j)\n"
          ]
        }
      ]
    }
  ]
}