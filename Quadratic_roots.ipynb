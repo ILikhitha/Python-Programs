{
  "nbformat": 4,
  "nbformat_minor": 0,
  "metadata": {
    "colab": {
      "name": "Quadratic roots.ipynb",
      "provenance": [],
      "authorship_tag": "ABX9TyN+PVKy0qUkDu1Fo/FDej9D",
      "include_colab_link": true
    },
    "kernelspec": {
      "name": "python3",
      "display_name": "Python 3"
    },
    "language_info": {
      "name": "python"
    }
  },
  "cells": [
    {
      "cell_type": "markdown",
      "metadata": {
        "id": "view-in-github",
        "colab_type": "text"
      },
      "source": [
        "<a href=\"https://colab.research.google.com/github/ILikhitha/Python-Programs/blob/main/Quadratic_roots.ipynb\" target=\"_parent\"><img src=\"https://colab.research.google.com/assets/colab-badge.svg\" alt=\"Open In Colab\"/></a>"
      ]
    },
    {
      "cell_type": "code",
      "execution_count": 1,
      "metadata": {
        "colab": {
          "base_uri": "https://localhost:8080/"
        },
        "id": "RcB34L_E441I",
        "outputId": "d30003a3-7087-444b-e804-d2f62942e29c"
      },
      "outputs": [
        {
          "output_type": "stream",
          "name": "stdout",
          "text": [
            "Enter a value:4\n",
            "Enter b value:5\n",
            "Enter c value:55\n",
            "Imaginary roots\n"
          ]
        }
      ],
      "source": [
        "import math\n",
        "a=int(input(\"Enter a value:\"))\n",
        "b=int(input(\"Enter b value:\"))\n",
        "c=int(input(\"Enter c value:\"))\n",
        "d=b*b-4*a*c\n",
        "if d>0:\n",
        " x=-b+sqrt(d)/2*a\n",
        " y=-b-sqrt(d)/2*a\n",
        " print(x,y)\n",
        "elif d==0:\n",
        "          print(\"Equal roots\")\n",
        "else:\n",
        "          print(\"Imaginary roots\")"
      ]
    }
  ]
}