{
  "nbformat": 4,
  "nbformat_minor": 0,
  "metadata": {
    "colab": {
      "name": "VU21CEN0101846-Likhitha Lists Assignment.ipynb",
      "provenance": [],
      "collapsed_sections": [],
      "authorship_tag": "ABX9TyOTD8DYV449e78dILhxjLnb",
      "include_colab_link": true
    },
    "kernelspec": {
      "name": "python3",
      "display_name": "Python 3"
    },
    "language_info": {
      "name": "python"
    }
  },
  "cells": [
    {
      "cell_type": "markdown",
      "metadata": {
        "id": "view-in-github",
        "colab_type": "text"
      },
      "source": [
        "<a href=\"https://colab.research.google.com/github/ILikhitha/Python-Programs/blob/main/VU21CEN0101846_Likhitha_Lists_Assignment.ipynb\" target=\"_parent\"><img src=\"https://colab.research.google.com/assets/colab-badge.svg\" alt=\"Open In Colab\"/></a>"
      ]
    },
    {
      "cell_type": "markdown",
      "source": [
        "# PYTHON LISTS"
      ],
      "metadata": {
        "id": "Mf2d5KmE1o0i"
      }
    },
    {
      "cell_type": "markdown",
      "source": [
        "## 1. Python lists"
      ],
      "metadata": {
        "id": "AQ2TlYU7Xi_H"
      }
    },
    {
      "cell_type": "markdown",
      "source": [
        "### Creating list"
      ],
      "metadata": {
        "id": "LKfGbgqK4L2y"
      }
    },
    {
      "cell_type": "code",
      "source": [
        "Fruits=['Apple','Mango','Litchi','Kiwi']\n",
        "print(Fruits)"
      ],
      "metadata": {
        "colab": {
          "base_uri": "https://localhost:8080/"
        },
        "id": "wIwlq4v44TUf",
        "outputId": "0a4455cf-3b2c-48f9-af38-7379160acb96"
      },
      "execution_count": null,
      "outputs": [
        {
          "output_type": "stream",
          "name": "stdout",
          "text": [
            "['Apple', 'Mango', 'Litchi', 'Kiwi']\n"
          ]
        }
      ]
    },
    {
      "cell_type": "markdown",
      "source": [
        "### Allow Duplicates"
      ],
      "metadata": {
        "id": "FnfO0-gp5YCh"
      }
    },
    {
      "cell_type": "code",
      "source": [
        "Fruits=['Apple','Mango','Litchi','Mango','Kiwi']\n",
        "print(Fruits)"
      ],
      "metadata": {
        "colab": {
          "base_uri": "https://localhost:8080/"
        },
        "id": "nSVXtUrQ5e4w",
        "outputId": "423c84fb-d1ce-48c8-d73d-1f328980d8e4"
      },
      "execution_count": null,
      "outputs": [
        {
          "output_type": "stream",
          "name": "stdout",
          "text": [
            "['Apple', 'Mango', 'Litchi', 'Mango', 'Kiwi']\n"
          ]
        }
      ]
    },
    {
      "cell_type": "markdown",
      "source": [
        "### List length"
      ],
      "metadata": {
        "id": "KoZ574mJ51qL"
      }
    },
    {
      "cell_type": "code",
      "source": [
        "Fruits=['Apple','Mango','Litchi','Kiwi']\n",
        "print(len(Fruits))"
      ],
      "metadata": {
        "colab": {
          "base_uri": "https://localhost:8080/"
        },
        "id": "xUO1s7Rb53x5",
        "outputId": "1480f093-5315-42a3-f61c-c17e436fa708"
      },
      "execution_count": null,
      "outputs": [
        {
          "output_type": "stream",
          "name": "stdout",
          "text": [
            "4\n"
          ]
        }
      ]
    },
    {
      "cell_type": "markdown",
      "source": [
        "## List items- Data types"
      ],
      "metadata": {
        "id": "1hU3KRNH6BSy"
      }
    },
    {
      "cell_type": "code",
      "source": [
        "A_1=['Apple','Mango','Litchi','Kiwi']\n",
        "A_2=[1,2,3,4]\n",
        "A_3=[True,True,False]\n",
        "print(A_1)\n",
        "print(A_2)\n",
        "print(A_3)"
      ],
      "metadata": {
        "colab": {
          "base_uri": "https://localhost:8080/"
        },
        "id": "NTxXquMQ0SyF",
        "outputId": "ad7a72e2-6f76-4e8c-fc82-808f53d88649"
      },
      "execution_count": null,
      "outputs": [
        {
          "output_type": "stream",
          "name": "stdout",
          "text": [
            "['Apple', 'Mango', 'Litchi', 'Kiwi']\n",
            "[1, 2, 3, 4]\n",
            "[True, True, False]\n"
          ]
        }
      ]
    },
    {
      "cell_type": "code",
      "source": [
        "# Different data types\n",
        "A_1=['award',5,True,50,\"Mango\"]\n",
        "print(A_1)"
      ],
      "metadata": {
        "id": "5q-t7trr1dZE",
        "colab": {
          "base_uri": "https://localhost:8080/"
        },
        "outputId": "c5d6d9b3-514b-40c7-b995-1fc2e2ec09d5"
      },
      "execution_count": null,
      "outputs": [
        {
          "output_type": "stream",
          "name": "stdout",
          "text": [
            "['award', 5, True, 50, 'Mango']\n"
          ]
        }
      ]
    },
    {
      "cell_type": "code",
      "source": [
        "# data type list\n",
        "Fruits=['Apple','Mango','Litchi','Kiwi']\n",
        "print(Fruits)\n",
        "print(type(Fruits))"
      ],
      "metadata": {
        "colab": {
          "base_uri": "https://localhost:8080/"
        },
        "id": "eix1KreaUjze",
        "outputId": "1e331222-f6d0-41ea-875c-a56b56a26f5b"
      },
      "execution_count": null,
      "outputs": [
        {
          "output_type": "stream",
          "name": "stdout",
          "text": [
            "['Apple', 'Mango', 'Litchi', 'Kiwi']\n",
            "<class 'list'>\n"
          ]
        }
      ]
    },
    {
      "cell_type": "code",
      "source": [
        "# list() constructor\n",
        "Fruits=list(('Apple','Mango','Litchi','Kiwi'))\n",
        "print(Fruits)"
      ],
      "metadata": {
        "colab": {
          "base_uri": "https://localhost:8080/"
        },
        "id": "W5X7i_xBWBdQ",
        "outputId": "9c74c6c6-b55f-4fc6-f05e-69bc3497a83a"
      },
      "execution_count": null,
      "outputs": [
        {
          "output_type": "stream",
          "name": "stdout",
          "text": [
            "['Apple', 'Mango', 'Litchi', 'Kiwi']\n"
          ]
        }
      ]
    },
    {
      "cell_type": "markdown",
      "source": [
        "## 2. Access list items"
      ],
      "metadata": {
        "id": "UezcxzY2Xyyx"
      }
    },
    {
      "cell_type": "code",
      "source": [
        "# Index\n",
        "Fruits=['Apple','Mango','Litchi','Kiwi']\n",
        "print(Fruits[2])"
      ],
      "metadata": {
        "colab": {
          "base_uri": "https://localhost:8080/"
        },
        "id": "SXR-Uv6AX4pf",
        "outputId": "ec7dcbbf-0798-4239-be40-de32a79771c1"
      },
      "execution_count": null,
      "outputs": [
        {
          "output_type": "stream",
          "name": "stdout",
          "text": [
            "Litchi\n"
          ]
        }
      ]
    },
    {
      "cell_type": "code",
      "source": [
        "# Negative Index\n",
        "Fruits=['Apple','Mango','Litchi','Kiwi']\n",
        "print(Fruits[-2])"
      ],
      "metadata": {
        "colab": {
          "base_uri": "https://localhost:8080/"
        },
        "id": "3G4MLQoHYVZS",
        "outputId": "05bcd361-d1a9-464b-e5e7-3584398d21ab"
      },
      "execution_count": null,
      "outputs": [
        {
          "output_type": "stream",
          "name": "stdout",
          "text": [
            "Litchi\n"
          ]
        }
      ]
    },
    {
      "cell_type": "code",
      "source": [
        "# not print fourth item\n",
        "Fruits=['Apple','Mango','Litchi','Kiwi']\n",
        "print(Fruits[:3])"
      ],
      "metadata": {
        "colab": {
          "base_uri": "https://localhost:8080/"
        },
        "id": "BURN0-AQZn4x",
        "outputId": "d359e525-ec47-45e1-ded5-441bc720c651"
      },
      "execution_count": null,
      "outputs": [
        {
          "output_type": "stream",
          "name": "stdout",
          "text": [
            "['Apple', 'Mango', 'Litchi']\n"
          ]
        }
      ]
    },
    {
      "cell_type": "code",
      "source": [
        "# printing the mention index item to end\n",
        "Fruits=['Apple','Mango','Litchi','Kiwi']\n",
        "print(Fruits[1:])"
      ],
      "metadata": {
        "colab": {
          "base_uri": "https://localhost:8080/"
        },
        "id": "M3tTZ8twZ0IQ",
        "outputId": "2646bcc3-b328-4425-ac31-07173d447893"
      },
      "execution_count": null,
      "outputs": [
        {
          "output_type": "stream",
          "name": "stdout",
          "text": [
            "['Mango', 'Litchi', 'Kiwi']\n"
          ]
        }
      ]
    },
    {
      "cell_type": "code",
      "source": [
        "# Range of negative indexes\n",
        "Fruits=['Apple','Mango','Litchi','Kiwi']\n",
        "print(Fruits[-3:-1])"
      ],
      "metadata": {
        "colab": {
          "base_uri": "https://localhost:8080/"
        },
        "id": "kC8hFfcIaZVQ",
        "outputId": "f66bdd01-8123-4432-8cc4-ced16e4f5dc7"
      },
      "execution_count": null,
      "outputs": [
        {
          "output_type": "stream",
          "name": "stdout",
          "text": [
            "['Mango', 'Litchi']\n"
          ]
        }
      ]
    },
    {
      "cell_type": "code",
      "source": [
        "# check if item present in list\n",
        "Fruits=['Apple','Mango','Litchi','Kiwi']\n",
        "if 'Apple' in Fruits:\n",
        "  print(\"'Apple' fruit present in list\")"
      ],
      "metadata": {
        "colab": {
          "base_uri": "https://localhost:8080/"
        },
        "id": "BBAPQ-lsa40F",
        "outputId": "a9576491-3961-4daa-c051-ad38a6889cf0"
      },
      "execution_count": null,
      "outputs": [
        {
          "output_type": "stream",
          "name": "stdout",
          "text": [
            "'Apple' fruit present in list\n"
          ]
        }
      ]
    },
    {
      "cell_type": "markdown",
      "source": [
        "## 3. Change list items"
      ],
      "metadata": {
        "id": "21GOGDpgbweP"
      }
    },
    {
      "cell_type": "code",
      "source": [
        "# change item value\n",
        "Fruits=['Apple','Mango','Litchi','Kiwi']\n",
        "Fruits[2]='Cherry'\n",
        "print(Fruits)"
      ],
      "metadata": {
        "colab": {
          "base_uri": "https://localhost:8080/"
        },
        "id": "ThqDk4Cmb0Tq",
        "outputId": "e7342a2b-d891-4176-effa-5ae00475b3f0"
      },
      "execution_count": null,
      "outputs": [
        {
          "output_type": "stream",
          "name": "stdout",
          "text": [
            "['Apple', 'Mango', 'Cherry', 'Kiwi']\n"
          ]
        }
      ]
    },
    {
      "cell_type": "code",
      "source": [
        "# change range of items\n",
        "Fruits=['Apple','Mango','Litchi','Kiwi']\n",
        "Fruits[1:3]=['Cherry','Dragon fruit']\n",
        "print(Fruits)"
      ],
      "metadata": {
        "colab": {
          "base_uri": "https://localhost:8080/"
        },
        "id": "MsrEpNW2dw5Y",
        "outputId": "a8319168-0758-41fa-a173-1889757ee898"
      },
      "execution_count": null,
      "outputs": [
        {
          "output_type": "stream",
          "name": "stdout",
          "text": [
            "['Apple', 'Cherry', 'Dragon fruit', 'Kiwi']\n"
          ]
        }
      ]
    },
    {
      "cell_type": "code",
      "source": [
        "# one replace with2 items\n",
        "Fruits=['Apple','Mango','Litchi','Kiwi']\n",
        "Fruits[0:1]=['Cherry','Dragon fruit']\n",
        "print(Fruits)"
      ],
      "metadata": {
        "colab": {
          "base_uri": "https://localhost:8080/"
        },
        "id": "FXldRR8zhrbC",
        "outputId": "ec8e81a5-0857-43b5-f525-af2a46ed1808"
      },
      "execution_count": null,
      "outputs": [
        {
          "output_type": "stream",
          "name": "stdout",
          "text": [
            "['Cherry', 'Dragon fruit', 'Mango', 'Litchi', 'Kiwi']\n"
          ]
        }
      ]
    },
    {
      "cell_type": "code",
      "source": [
        "# 2 items replaced by 1 fruit\n",
        "Fruits=['Apple','Mango','Litchi','Kiwi']\n",
        "Fruits[1:3]=['Cherry']\n",
        "print(Fruits)"
      ],
      "metadata": {
        "colab": {
          "base_uri": "https://localhost:8080/"
        },
        "id": "9ghQ5b-yiGed",
        "outputId": "d7378aa6-9670-4438-e548-406ac5293eb8"
      },
      "execution_count": null,
      "outputs": [
        {
          "output_type": "stream",
          "name": "stdout",
          "text": [
            "['Apple', 'Cherry', 'Kiwi']\n"
          ]
        }
      ]
    },
    {
      "cell_type": "code",
      "source": [
        "# insert items\n",
        "Fruits=['Apple','Mango','Litchi','Kiwi']\n",
        "Fruits.insert(2,'Cherry')\n",
        "print(Fruits)"
      ],
      "metadata": {
        "colab": {
          "base_uri": "https://localhost:8080/"
        },
        "id": "Ka7DRAHxlNy7",
        "outputId": "00733480-0f9f-4b25-db83-50839915f22d"
      },
      "execution_count": null,
      "outputs": [
        {
          "output_type": "stream",
          "name": "stdout",
          "text": [
            "['Apple', 'Mango', 'Cherry', 'Litchi', 'Kiwi']\n"
          ]
        }
      ]
    },
    {
      "cell_type": "code",
      "source": [
        ""
      ],
      "metadata": {
        "id": "Xw0zDjUXlcHR"
      },
      "execution_count": null,
      "outputs": []
    },
    {
      "cell_type": "markdown",
      "source": [
        "## 4. Add list items"
      ],
      "metadata": {
        "id": "MOc5DL6Tlhj3"
      }
    },
    {
      "cell_type": "code",
      "source": [
        "# Append items\n",
        "Fruits=['Apple','Mango','Litchi','Kiwi']\n",
        "Fruits.append('watermelon')\n",
        "print(Fruits)"
      ],
      "metadata": {
        "colab": {
          "base_uri": "https://localhost:8080/"
        },
        "id": "fKbKtt8qlmjg",
        "outputId": "90f7b453-90b9-413b-f739-7261dab6ca8c"
      },
      "execution_count": null,
      "outputs": [
        {
          "output_type": "stream",
          "name": "stdout",
          "text": [
            "['Apple', 'Mango', 'Litchi', 'Kiwi', 'watermelon']\n"
          ]
        }
      ]
    },
    {
      "cell_type": "code",
      "source": [
        "# insert items\n",
        "Fruits=['Apple','Mango','Litchi','Kiwi']\n",
        "Fruits.insert(1,'Cherry')\n",
        "print(Fruits)"
      ],
      "metadata": {
        "colab": {
          "base_uri": "https://localhost:8080/"
        },
        "id": "JnaxPOs2myws",
        "outputId": "8526ef18-0857-4fd8-ebbf-27a352a3666d"
      },
      "execution_count": null,
      "outputs": [
        {
          "output_type": "stream",
          "name": "stdout",
          "text": [
            "['Apple', 'Cherry', 'Mango', 'Litchi', 'Kiwi']\n"
          ]
        }
      ]
    },
    {
      "cell_type": "code",
      "source": [
        "# Extend list\n",
        "Fruits=['Apple','Mango','Litchi','Kiwi']\n",
        "New=['cherry','Banana','Guava']\n",
        "Fruits.extend(New)\n",
        "print(Fruits)"
      ],
      "metadata": {
        "colab": {
          "base_uri": "https://localhost:8080/"
        },
        "id": "qOW8zuanm7qF",
        "outputId": "c1217aad-1c83-40b0-c2a4-a889bb1a6c38"
      },
      "execution_count": null,
      "outputs": [
        {
          "output_type": "stream",
          "name": "stdout",
          "text": [
            "['Apple', 'Mango', 'Litchi', 'Kiwi', 'cherry', 'Banana', 'Guava']\n"
          ]
        }
      ]
    },
    {
      "cell_type": "code",
      "source": [
        "# adding tuple to list\n",
        "Fruits=['Apple','Mango','Litchi','Kiwi']\n",
        "Newtuple=['pineapple','strawberry']\n",
        "Fruits.extend(Newtuple)\n",
        "print(Fruits)"
      ],
      "metadata": {
        "colab": {
          "base_uri": "https://localhost:8080/"
        },
        "id": "Mm_aIomsm4Sq",
        "outputId": "bdf467ba-5bb9-4588-a80b-e00edbf2b816"
      },
      "execution_count": null,
      "outputs": [
        {
          "output_type": "stream",
          "name": "stdout",
          "text": [
            "['Apple', 'Mango', 'Litchi', 'Kiwi', 'pineapple', 'strawberry']\n"
          ]
        }
      ]
    },
    {
      "cell_type": "markdown",
      "source": [
        "## 5. Remove list items"
      ],
      "metadata": {
        "id": "C_4iQwoKoY9w"
      }
    },
    {
      "cell_type": "code",
      "source": [
        "# Remove specified item(remove)\n",
        "Fruits=['Apple','Mango','Litchi','Kiwi']\n",
        "Fruits.remove('Mango')\n",
        "print(Fruits)"
      ],
      "metadata": {
        "colab": {
          "base_uri": "https://localhost:8080/"
        },
        "id": "YvK5HIo0oeBZ",
        "outputId": "39a2e82f-d1da-4c11-8895-74d50587714d"
      },
      "execution_count": null,
      "outputs": [
        {
          "output_type": "stream",
          "name": "stdout",
          "text": [
            "['Apple', 'Litchi', 'Kiwi']\n"
          ]
        }
      ]
    },
    {
      "cell_type": "code",
      "source": [
        "# Remove specified index(pop)\n",
        "Fruits=['Apple','Mango','Litchi','Kiwi']\n",
        "Fruits.pop(1)\n",
        "print(Fruits)"
      ],
      "metadata": {
        "colab": {
          "base_uri": "https://localhost:8080/"
        },
        "id": "7DmV3g6Do7Nl",
        "outputId": "e5e3948e-1a36-41ee-8316-54c6b95b778a"
      },
      "execution_count": null,
      "outputs": [
        {
          "output_type": "stream",
          "name": "stdout",
          "text": [
            "['Apple', 'Litchi', 'Kiwi']\n"
          ]
        }
      ]
    },
    {
      "cell_type": "code",
      "source": [
        "# Remove last item\n",
        "Fruits=['Apple','Mango','Litchi','Kiwi']\n",
        "Fruits.pop()\n",
        "print(Fruits)"
      ],
      "metadata": {
        "colab": {
          "base_uri": "https://localhost:8080/"
        },
        "id": "OudqrWfCpMty",
        "outputId": "1d0202c0-4f45-4169-91bf-4f2cc2915147"
      },
      "execution_count": null,
      "outputs": [
        {
          "output_type": "stream",
          "name": "stdout",
          "text": [
            "['Apple', 'Mango', 'Litchi']\n"
          ]
        }
      ]
    },
    {
      "cell_type": "code",
      "source": [
        "# del\n",
        "Fruits=['Apple','Mango','Litchi','Kiwi']\n",
        "del Fruits[0]\n",
        "print(Fruits)"
      ],
      "metadata": {
        "colab": {
          "base_uri": "https://localhost:8080/"
        },
        "id": "oWOGD2Eqpa-i",
        "outputId": "06d8d4bf-2cf6-4785-c3d4-0481c3b2ba16"
      },
      "execution_count": null,
      "outputs": [
        {
          "output_type": "stream",
          "name": "stdout",
          "text": [
            "['Mango', 'Litchi', 'Kiwi']\n"
          ]
        }
      ]
    },
    {
      "cell_type": "code",
      "source": [
        "# del entire list\n",
        "Fruits=['Apple','Mango','Litchi','Kiwi']\n",
        "del Fruits"
      ],
      "metadata": {
        "id": "5T6VQUlipvXf"
      },
      "execution_count": null,
      "outputs": []
    },
    {
      "cell_type": "code",
      "source": [
        "# clear list\n",
        "Fruits=['Apple','Mango','Litchi','Kiwi']\n",
        "Fruits.clear()\n",
        "print(Fruits)"
      ],
      "metadata": {
        "colab": {
          "base_uri": "https://localhost:8080/"
        },
        "id": "Tkj1a7uzqD91",
        "outputId": "8678c073-2c0c-4041-9cd2-1e97053607dc"
      },
      "execution_count": null,
      "outputs": [
        {
          "output_type": "stream",
          "name": "stdout",
          "text": [
            "[]\n"
          ]
        }
      ]
    },
    {
      "cell_type": "markdown",
      "source": [
        "## 6. Loop lists"
      ],
      "metadata": {
        "id": "wYJNyU7vqVjz"
      }
    },
    {
      "cell_type": "code",
      "source": [
        "# loop through a list\n",
        "Fruits=['Apple','Mango','Litchi','Kiwi']\n",
        "for x in Fruits:\n",
        "                print(x)"
      ],
      "metadata": {
        "colab": {
          "base_uri": "https://localhost:8080/"
        },
        "id": "sRXhaq2wqYmO",
        "outputId": "5b4dd7fc-086e-4aa6-c410-f14b4f0fe3f5"
      },
      "execution_count": null,
      "outputs": [
        {
          "output_type": "stream",
          "name": "stdout",
          "text": [
            "Apple\n",
            "Mango\n",
            "Litchi\n",
            "Kiwi\n"
          ]
        }
      ]
    },
    {
      "cell_type": "code",
      "source": [
        "# Loop through index numbers\n",
        "Fruits=['Apple','Mango','Litchi','Kiwi']\n",
        "for i in range(len(Fruits)):\n",
        "  print(Fruits[i])"
      ],
      "metadata": {
        "colab": {
          "base_uri": "https://localhost:8080/"
        },
        "id": "Q1BBwRrgq3xF",
        "outputId": "c0b565ff-4612-4fc5-d74a-2ac44b1ba83b"
      },
      "execution_count": null,
      "outputs": [
        {
          "output_type": "stream",
          "name": "stdout",
          "text": [
            "Apple\n",
            "Mango\n",
            "Litchi\n",
            "Kiwi\n"
          ]
        }
      ]
    },
    {
      "cell_type": "code",
      "source": [
        "# using while loop\n",
        "Fruits = ['Apple','Mango','Litchi','Kiwi']\n",
        "i = 0\n",
        "while i < len(Fruits):\n",
        "  print(Fruits[i])\n",
        "  i = i + 1"
      ],
      "metadata": {
        "colab": {
          "base_uri": "https://localhost:8080/"
        },
        "id": "Ya7PMo36uB_c",
        "outputId": "e7e5756e-48b6-48c1-c59a-5009a1d8b326"
      },
      "execution_count": null,
      "outputs": [
        {
          "output_type": "stream",
          "name": "stdout",
          "text": [
            "Apple\n",
            "Mango\n",
            "Litchi\n",
            "Kiwi\n"
          ]
        }
      ]
    },
    {
      "cell_type": "code",
      "source": [
        "# looping list comprehension\n",
        "Fruits = ['Apple','Mango','Litchi','Kiwi']\n",
        "[print(x) for x in Fruits]"
      ],
      "metadata": {
        "colab": {
          "base_uri": "https://localhost:8080/"
        },
        "id": "UIN50PTjuTKC",
        "outputId": "071663bd-be1d-4eac-f2a5-78fb9e5b43fa"
      },
      "execution_count": null,
      "outputs": [
        {
          "output_type": "stream",
          "name": "stdout",
          "text": [
            "Apple\n",
            "Mango\n",
            "Litchi\n",
            "Kiwi\n"
          ]
        },
        {
          "output_type": "execute_result",
          "data": {
            "text/plain": [
              "[None, None, None, None]"
            ]
          },
          "metadata": {},
          "execution_count": 67
        }
      ]
    },
    {
      "cell_type": "markdown",
      "source": [
        "## 7. List comprehension"
      ],
      "metadata": {
        "id": "l7fTd3NPvxrs"
      }
    },
    {
      "cell_type": "code",
      "source": [
        "# list fruits contain i\n",
        "Fruits=['Apple','Mango','Litchi','Kiwi']\n",
        "new=[]\n",
        "for x in Fruits:\n",
        "  if 'i' in x:\n",
        "    new.append(x)\n",
        "print(new)"
      ],
      "metadata": {
        "id": "lW_tJxN2v2qH",
        "colab": {
          "base_uri": "https://localhost:8080/"
        },
        "outputId": "a0e4e5e3-a851-43f5-b96f-0cdf252543f0"
      },
      "execution_count": 3,
      "outputs": [
        {
          "output_type": "stream",
          "name": "stdout",
          "text": [
            "['Litchi', 'Kiwi']\n"
          ]
        }
      ]
    },
    {
      "cell_type": "code",
      "source": [
        "# simplified list comprehension\n",
        "Fruits=['Apple','Mango','Litchi','Kiwi']\n",
        "new=[x for x in Fruits if 'i' in x]\n",
        "print(new)"
      ],
      "metadata": {
        "colab": {
          "base_uri": "https://localhost:8080/"
        },
        "id": "5fMZNGLachxF",
        "outputId": "1cf5c7dc-b3f8-4743-d862-a6ff1ea00142"
      },
      "execution_count": 5,
      "outputs": [
        {
          "output_type": "stream",
          "name": "stdout",
          "text": [
            "['Litchi', 'Kiwi']\n"
          ]
        }
      ]
    },
    {
      "cell_type": "code",
      "source": [
        "# Syntax: newlist = [expression for item in iterable if condition == True]"
      ],
      "metadata": {
        "id": "xOl5WXh1dCEb"
      },
      "execution_count": null,
      "outputs": []
    },
    {
      "cell_type": "code",
      "source": [
        "# Accept not Apple\n",
        "Fruits=['Apple','Mango','Litchi','Kiwi']\n",
        "New= [x for x in Fruits if x!= 'Apple' ]\n",
        "print(New)"
      ],
      "metadata": {
        "colab": {
          "base_uri": "https://localhost:8080/"
        },
        "id": "ye92Mkkhdb8c",
        "outputId": "8895d836-94d9-463b-9e34-199fbc2dc641"
      },
      "execution_count": 7,
      "outputs": [
        {
          "output_type": "stream",
          "name": "stdout",
          "text": [
            "['Mango', 'Litchi', 'Kiwi']\n"
          ]
        }
      ]
    },
    {
      "cell_type": "code",
      "source": [
        "# Without using if \n",
        "New=[x for x in range(10)]\n",
        "print(New)"
      ],
      "metadata": {
        "colab": {
          "base_uri": "https://localhost:8080/"
        },
        "id": "DzwPTVlbe7pX",
        "outputId": "4230849c-6ae6-4d10-aba6-d52d7ecc4ad6"
      },
      "execution_count": 9,
      "outputs": [
        {
          "output_type": "stream",
          "name": "stdout",
          "text": [
            "[0, 1, 2, 3, 4, 5, 6, 7, 8, 9]\n"
          ]
        }
      ]
    },
    {
      "cell_type": "code",
      "source": [
        "# With condition\n",
        "New=[x for x in range(10) if x<5]\n",
        "print(New)"
      ],
      "metadata": {
        "colab": {
          "base_uri": "https://localhost:8080/"
        },
        "id": "7HNT0rWTfZmn",
        "outputId": "e6472951-7d72-4aa0-e692-f9495531a910"
      },
      "execution_count": 10,
      "outputs": [
        {
          "output_type": "stream",
          "name": "stdout",
          "text": [
            "[0, 1, 2, 3, 4]\n"
          ]
        }
      ]
    },
    {
      "cell_type": "code",
      "source": [
        "# Expression\n",
        "Fruits=['Apple','Mango','Litchi','Kiwi']\n",
        "New= [x.upper() for x in Fruits]\n",
        "print(New)"
      ],
      "metadata": {
        "colab": {
          "base_uri": "https://localhost:8080/"
        },
        "id": "BZ4wuJ68g8y1",
        "outputId": "4188a624-41e7-4710-ed54-58388fb0f2cb"
      },
      "execution_count": 13,
      "outputs": [
        {
          "output_type": "stream",
          "name": "stdout",
          "text": [
            "['APPLE', 'MANGO', 'LITCHI', 'KIWI']\n"
          ]
        }
      ]
    },
    {
      "cell_type": "code",
      "source": [
        "Fruits=['Apple','Mango','Litchi','Kiwi']\n",
        "New= ['hello' for x in Fruits]\n",
        "print(New)"
      ],
      "metadata": {
        "colab": {
          "base_uri": "https://localhost:8080/"
        },
        "id": "lG2IiPQiiSTM",
        "outputId": "ee74d9bf-89c9-4ba5-d12a-2f7287d8df9b"
      },
      "execution_count": 14,
      "outputs": [
        {
          "output_type": "stream",
          "name": "stdout",
          "text": [
            "['hello', 'hello', 'hello', 'hello']\n"
          ]
        }
      ]
    },
    {
      "cell_type": "code",
      "source": [
        "# Returning Cherry instead of Mango\n",
        "Fruits=['Apple','Mango','Litchi','Kiwi']\n",
        "New= [x if x != 'Mango' else 'Cherry' for x in Fruits]\n",
        "print(New)"
      ],
      "metadata": {
        "colab": {
          "base_uri": "https://localhost:8080/"
        },
        "id": "7Cg-70WQikcN",
        "outputId": "105b0be4-8c97-44df-eb5f-2fcbedeedc56"
      },
      "execution_count": 15,
      "outputs": [
        {
          "output_type": "stream",
          "name": "stdout",
          "text": [
            "['Apple', 'Cherry', 'Litchi', 'Kiwi']\n"
          ]
        }
      ]
    },
    {
      "cell_type": "markdown",
      "source": [
        "## 8. Sort lists"
      ],
      "metadata": {
        "id": "ID5qkWn4jMMA"
      }
    },
    {
      "cell_type": "code",
      "source": [
        "# Alphabetically arranged words\n",
        "Fruits=['Apple','Mango','Litchi','Kiwi']\n",
        "Fruits.sort()\n",
        "print(Fruits)"
      ],
      "metadata": {
        "colab": {
          "base_uri": "https://localhost:8080/"
        },
        "id": "qtIwLdPmjQxy",
        "outputId": "9bbc8681-a262-40fd-ee5f-0fa720250efb"
      },
      "execution_count": 16,
      "outputs": [
        {
          "output_type": "stream",
          "name": "stdout",
          "text": [
            "['Apple', 'Kiwi', 'Litchi', 'Mango']\n"
          ]
        }
      ]
    },
    {
      "cell_type": "code",
      "source": [
        "# Numerically arranged\n",
        "Numbers=[100,50,40,20,30]\n",
        "Numbers.sort()\n",
        "print(Numbers)"
      ],
      "metadata": {
        "colab": {
          "base_uri": "https://localhost:8080/"
        },
        "id": "a49hJqwZjkgs",
        "outputId": "20ce433f-5c48-4746-b987-9083f611f378"
      },
      "execution_count": 17,
      "outputs": [
        {
          "output_type": "stream",
          "name": "stdout",
          "text": [
            "[20, 30, 40, 50, 100]\n"
          ]
        }
      ]
    },
    {
      "cell_type": "code",
      "source": [
        "# Sort descending\n",
        "Fruits=['Apple','Mango','Litchi','Kiwi']\n",
        "Fruits.sort(reverse=True)\n",
        "print(Fruits)"
      ],
      "metadata": {
        "colab": {
          "base_uri": "https://localhost:8080/"
        },
        "id": "r24qSGD_lDqT",
        "outputId": "bcaf5d03-7341-4a58-91a5-e55e1db6f24f"
      },
      "execution_count": 18,
      "outputs": [
        {
          "output_type": "stream",
          "name": "stdout",
          "text": [
            "['Mango', 'Litchi', 'Kiwi', 'Apple']\n"
          ]
        }
      ]
    },
    {
      "cell_type": "code",
      "source": [
        "# Sort descending numbers\n",
        "Numbers=[100,50,40,20,30]\n",
        "Numbers.sort(reverse=True)\n",
        "print(Numbers)"
      ],
      "metadata": {
        "colab": {
          "base_uri": "https://localhost:8080/"
        },
        "id": "o6e-MFG-lVAd",
        "outputId": "de6dfd92-f93a-4e8a-be78-3db231300df4"
      },
      "execution_count": 19,
      "outputs": [
        {
          "output_type": "stream",
          "name": "stdout",
          "text": [
            "[100, 50, 40, 30, 20]\n"
          ]
        }
      ]
    },
    {
      "cell_type": "code",
      "source": [
        "# Customize sort function\n",
        "def myfunc(n):\n",
        "  return abs(n-50)\n",
        "numbers=[100,50,40,20,30]\n",
        "numbers.sort(key = myfunc)\n",
        "print(numbers)"
      ],
      "metadata": {
        "colab": {
          "base_uri": "https://localhost:8080/"
        },
        "id": "FyDnxrColeXi",
        "outputId": "65f14887-a92b-4a8f-9281-c30ec6746e2f"
      },
      "execution_count": 4,
      "outputs": [
        {
          "output_type": "stream",
          "name": "stdout",
          "text": [
            "[50, 40, 30, 20, 100]\n"
          ]
        }
      ]
    },
    {
      "cell_type": "code",
      "source": [
        "def myfunc(n):\n",
        "  return abs(n - 50)\n",
        "\n",
        "New= [100, 50, 60, 85, 23]\n",
        "New.sort(key = myfunc)\n",
        "print(New)\n"
      ],
      "metadata": {
        "colab": {
          "base_uri": "https://localhost:8080/"
        },
        "id": "VXWUWzCcoUrw",
        "outputId": "2643d4cd-72b3-4bfd-c0ff-cd7730924dee"
      },
      "execution_count": 8,
      "outputs": [
        {
          "output_type": "stream",
          "name": "stdout",
          "text": [
            "[50, 60, 23, 85, 100]\n"
          ]
        }
      ]
    },
    {
      "cell_type": "code",
      "source": [
        "# Case sensitive\n",
        "Fruits= ['Apple','Mango','Litchi','Kiwi']\n",
        "Fruits.sort()\n",
        "print(Fruits)"
      ],
      "metadata": {
        "colab": {
          "base_uri": "https://localhost:8080/"
        },
        "id": "CPj8_nvapRml",
        "outputId": "07d082e0-00e7-484c-b849-dac95f2e2a95"
      },
      "execution_count": 6,
      "outputs": [
        {
          "output_type": "stream",
          "name": "stdout",
          "text": [
            "['Apple', 'Kiwi', 'Litchi', 'Mango']\n"
          ]
        }
      ]
    },
    {
      "cell_type": "code",
      "source": [
        "New = [\"strawberry\", \"Mango\", \"Kiwi\", \"cherry\"]\n",
        "New.sort()\n",
        "print(New)\n"
      ],
      "metadata": {
        "colab": {
          "base_uri": "https://localhost:8080/"
        },
        "id": "FyT20KNMqAVH",
        "outputId": "d79835a2-890f-4158-ab85-1dbe000ecc72"
      },
      "execution_count": 9,
      "outputs": [
        {
          "output_type": "stream",
          "name": "stdout",
          "text": [
            "['Kiwi', 'Mango', 'cherry', 'strawberry']\n"
          ]
        }
      ]
    },
    {
      "cell_type": "code",
      "source": [
        "# Case insensitive\n",
        "Fruits= ['Apple','Mango','Litchi','Kiwi']\n",
        "Fruits.sort(key = str.lower)\n",
        "print(Fruits)"
      ],
      "metadata": {
        "colab": {
          "base_uri": "https://localhost:8080/"
        },
        "id": "4Ge8A-KYqRA2",
        "outputId": "3883f47b-1e8b-45d1-9df5-223a48fe8c78"
      },
      "execution_count": 10,
      "outputs": [
        {
          "output_type": "stream",
          "name": "stdout",
          "text": [
            "['Apple', 'Kiwi', 'Litchi', 'Mango']\n"
          ]
        }
      ]
    },
    {
      "cell_type": "code",
      "source": [
        "New = [\"strawberry\", \"Mango\", \"Kiwi\", \"cherry\"]\n",
        "New.sort()\n",
        "print(New)\n"
      ],
      "metadata": {
        "colab": {
          "base_uri": "https://localhost:8080/"
        },
        "id": "WrId6jSqql5K",
        "outputId": "e0b59c5b-26f7-4ea3-ebae-114f6cde1ac3"
      },
      "execution_count": 13,
      "outputs": [
        {
          "output_type": "stream",
          "name": "stdout",
          "text": [
            "['Kiwi', 'Mango', 'cherry', 'strawberry']\n"
          ]
        }
      ]
    },
    {
      "cell_type": "code",
      "source": [
        "# Reverse order\n",
        "\n",
        "Fruits.reverse()\n",
        "print(Fruits)"
      ],
      "metadata": {
        "colab": {
          "base_uri": "https://localhost:8080/"
        },
        "id": "uVpm_iFPqsKe",
        "outputId": "e76e0598-ef72-410c-ce21-47f770d12cab"
      },
      "execution_count": 17,
      "outputs": [
        {
          "output_type": "stream",
          "name": "stdout",
          "text": [
            "['cherry', 'Kiwi', 'Mango', 'strawberry']\n"
          ]
        }
      ]
    },
    {
      "cell_type": "markdown",
      "source": [
        "## 9. Copy lists"
      ],
      "metadata": {
        "id": "I0n1wlWAsNHT"
      }
    },
    {
      "cell_type": "code",
      "source": [
        "Fruits= ['Apple','Mango','Litchi','Kiwi']\n",
        "New=Fruits.copy()\n",
        "print(New)"
      ],
      "metadata": {
        "colab": {
          "base_uri": "https://localhost:8080/"
        },
        "id": "B1u_k93qsSS5",
        "outputId": "8099a3a7-86b9-4e46-b4c8-301ebe454a2a"
      },
      "execution_count": 21,
      "outputs": [
        {
          "output_type": "stream",
          "name": "stdout",
          "text": [
            "['Apple', 'Mango', 'Litchi', 'Kiwi']\n"
          ]
        }
      ]
    },
    {
      "cell_type": "code",
      "source": [
        "Fruits= ['Apple','Mango','Litchi','Kiwi']\n",
        "New=list(Fruits)\n",
        "print(New)"
      ],
      "metadata": {
        "colab": {
          "base_uri": "https://localhost:8080/"
        },
        "id": "4j0tFzFRsqcZ",
        "outputId": "99eff55d-0ec3-4c8c-b90c-a0a0f52a0c7a"
      },
      "execution_count": 23,
      "outputs": [
        {
          "output_type": "stream",
          "name": "stdout",
          "text": [
            "['Apple', 'Mango', 'Litchi', 'Kiwi']\n"
          ]
        }
      ]
    },
    {
      "cell_type": "markdown",
      "source": [
        "## 10. Join lists"
      ],
      "metadata": {
        "id": "B9wL-bA7tAml"
      }
    },
    {
      "cell_type": "code",
      "source": [
        "A_1=['a','b','c','d']\n",
        "A_2=[1,2,3,4]\n",
        "A_3=A_1+A_2\n",
        "print(A_3)"
      ],
      "metadata": {
        "colab": {
          "base_uri": "https://localhost:8080/"
        },
        "id": "BL71wDUntEpi",
        "outputId": "13a6af97-e9d8-4583-9192-e5d6d9c4de1c"
      },
      "execution_count": 24,
      "outputs": [
        {
          "output_type": "stream",
          "name": "stdout",
          "text": [
            "['a', 'b', 'c', 'd', 1, 2, 3, 4]\n"
          ]
        }
      ]
    },
    {
      "cell_type": "code",
      "source": [
        "list1=['a','b','c','d']\n",
        "list2=[1,2,3,4]\n",
        "for x in list2:\n",
        "    list1.append(x)\n",
        "  \n",
        "print(list2)"
      ],
      "metadata": {
        "colab": {
          "base_uri": "https://localhost:8080/"
        },
        "id": "M1Ay3k5ytcwK",
        "outputId": "ee88cbae-aac6-43de-f1d5-ee7b4a4f88b8"
      },
      "execution_count": 29,
      "outputs": [
        {
          "output_type": "stream",
          "name": "stdout",
          "text": [
            "[1, 2, 3, 4]\n"
          ]
        }
      ]
    },
    {
      "cell_type": "code",
      "source": [
        "# extend()\n",
        "list1=['a','b','c','d']\n",
        "list2=[1,2,3,4]\n",
        "list1.extend(list2)\n",
        "print(list1)"
      ],
      "metadata": {
        "colab": {
          "base_uri": "https://localhost:8080/"
        },
        "id": "qreQXA0PxS5U",
        "outputId": "8bce9a30-178c-4a9e-8fbc-c7003eacd48f"
      },
      "execution_count": 30,
      "outputs": [
        {
          "output_type": "stream",
          "name": "stdout",
          "text": [
            "['a', 'b', 'c', 'd', 1, 2, 3, 4]\n"
          ]
        }
      ]
    },
    {
      "cell_type": "markdown",
      "source": [
        "## 11. List Methods"
      ],
      "metadata": {
        "id": "rfaiOKjNyR5y"
      }
    },
    {
      "cell_type": "code",
      "source": [
        "# Method\tDescription\n",
        "append()\tAdds an element at the end of the list\n",
        "clear()\tRemoves all the elements from the list\n",
        "copy()\tReturns a copy of the list\n",
        "count()\tReturns the number of elements with the specified value\n",
        "extend()\tAdd the elements of a list (or any iterable), to the end of the current list\n",
        "index()\tReturns the index of the first element with the specified value\n",
        "insert()\tAdds an element at the specified position\n",
        "pop()\tRemoves the element at the specified position\n",
        "remove()\tRemoves the item with the specified value\n",
        "reverse()\tReverses the order of the list\n",
        "sort()\tSorts the list\n"
      ],
      "metadata": {
        "id": "vKfO1kxvxxKx"
      },
      "execution_count": null,
      "outputs": []
    },
    {
      "cell_type": "markdown",
      "source": [
        "## 12. List Exercises"
      ],
      "metadata": {
        "id": "CYVSC3sgyDL3"
      }
    },
    {
      "cell_type": "code",
      "source": [
        "# second item in the fruits list\n",
        "fruits = [\"apple\", \"banana\", \"cherry\"]\n",
        "print(fruits[1])"
      ],
      "metadata": {
        "colab": {
          "base_uri": "https://localhost:8080/"
        },
        "id": "S8SGH8hNzoSn",
        "outputId": "7c2517c1-8441-4156-cd52-ba1a86fc2dd4"
      },
      "execution_count": 32,
      "outputs": [
        {
          "output_type": "stream",
          "name": "stdout",
          "text": [
            "banana\n"
          ]
        }
      ]
    },
    {
      "cell_type": "code",
      "source": [
        "# Change the value from \"apple\" to \"kiwi\", in the fruits list.\n",
        "\n",
        "\n",
        "fruits = [\"apple\", \"banana\", \"cherry\"]\n",
        "fruits[0] = \"kiwi\"\n",
        "print(fruits)\n"
      ],
      "metadata": {
        "colab": {
          "base_uri": "https://localhost:8080/"
        },
        "id": "qkJ8JFFM1NGQ",
        "outputId": "415de5f2-bd45-4621-ca2d-909a18443892"
      },
      "execution_count": 37,
      "outputs": [
        {
          "output_type": "stream",
          "name": "stdout",
          "text": [
            "['kiwi', 'banana', 'cherry']\n"
          ]
        }
      ]
    },
    {
      "cell_type": "code",
      "source": [
        "# append\n",
        "fruits = [\"apple\", \"banana\", \"cherry\"]\n",
        "fruits.append(\"orange\")\n",
        "print(fruits)"
      ],
      "metadata": {
        "colab": {
          "base_uri": "https://localhost:8080/"
        },
        "id": "9mPbYsST1pBS",
        "outputId": "dd226a4a-ce69-4134-cf37-410d7ad6e5f8"
      },
      "execution_count": 38,
      "outputs": [
        {
          "output_type": "stream",
          "name": "stdout",
          "text": [
            "['apple', 'banana', 'cherry', 'orange']\n"
          ]
        }
      ]
    },
    {
      "cell_type": "code",
      "source": [
        "# Insert\n",
        "fruits = [\"apple\", \"banana\", \"cherry\"]\n",
        "fruits.insert(1,\"lemon\")\n",
        "print(fruits)"
      ],
      "metadata": {
        "colab": {
          "base_uri": "https://localhost:8080/"
        },
        "id": "cj2pq9051yWs",
        "outputId": "a9a15e39-eeeb-4999-d700-349d2e693e27"
      },
      "execution_count": 40,
      "outputs": [
        {
          "output_type": "stream",
          "name": "stdout",
          "text": [
            "['apple', 'lemon', 'banana', 'cherry']\n"
          ]
        }
      ]
    },
    {
      "cell_type": "code",
      "source": [
        "# remove\n",
        "fruits = [\"apple\", \"banana\", \"cherry\"]\n",
        "fruits.remove(\"banana\")\n",
        "print(fruits)"
      ],
      "metadata": {
        "id": "F0grjZY42CDe"
      },
      "execution_count": null,
      "outputs": []
    },
    {
      "cell_type": "code",
      "source": [
        "# Negative index\n",
        "fruits = [\"apple\", \"banana\", \"cherry\"]\n",
        "print(fruits[-1])"
      ],
      "metadata": {
        "colab": {
          "base_uri": "https://localhost:8080/"
        },
        "id": "YUa0I7k72HIr",
        "outputId": "c3524d25-9313-47a3-bad8-d5fe72acb87e"
      },
      "execution_count": 41,
      "outputs": [
        {
          "output_type": "stream",
          "name": "stdout",
          "text": [
            "cherry\n"
          ]
        }
      ]
    },
    {
      "cell_type": "code",
      "source": [
        "# Range of index\n",
        "fruits = [\"apple\", \"banana\", \"cherry\", \"orange\", \"kiwi\", \"melon\", \"mango\"]\n",
        "print(fruits[2:5])"
      ],
      "metadata": {
        "colab": {
          "base_uri": "https://localhost:8080/"
        },
        "id": "ZAfkOtkT2VAp",
        "outputId": "8369c302-474c-4021-a31f-0cddac6dc740"
      },
      "execution_count": 42,
      "outputs": [
        {
          "output_type": "stream",
          "name": "stdout",
          "text": [
            "['cherry', 'orange', 'kiwi']\n"
          ]
        }
      ]
    },
    {
      "cell_type": "code",
      "source": [
        "# Number of fruits\n",
        "fruits = [\"apple\", \"banana\", \"cherry\"]\n",
        "print(len(fruits))"
      ],
      "metadata": {
        "colab": {
          "base_uri": "https://localhost:8080/"
        },
        "id": "bu1A-YoF21Mn",
        "outputId": "3f139aaa-4b36-41e7-d14f-72ca6e5521eb"
      },
      "execution_count": 43,
      "outputs": [
        {
          "output_type": "stream",
          "name": "stdout",
          "text": [
            "3\n"
          ]
        }
      ]
    }
  ]
}