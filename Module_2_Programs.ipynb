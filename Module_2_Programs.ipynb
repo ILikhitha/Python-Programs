{
  "nbformat": 4,
  "nbformat_minor": 0,
  "metadata": {
    "colab": {
      "name": "Module-2 Programs.ipynb",
      "provenance": [],
      "collapsed_sections": [],
      "authorship_tag": "ABX9TyNnS6BRAtiMx4s8TZaRBEsV",
      "include_colab_link": true
    },
    "kernelspec": {
      "name": "python3",
      "display_name": "Python 3"
    },
    "language_info": {
      "name": "python"
    }
  },
  "cells": [
    {
      "cell_type": "markdown",
      "metadata": {
        "id": "view-in-github",
        "colab_type": "text"
      },
      "source": [
        "<a href=\"https://colab.research.google.com/github/ILikhitha/Python-Programs/blob/main/Module_2_Programs.ipynb\" target=\"_parent\"><img src=\"https://colab.research.google.com/assets/colab-badge.svg\" alt=\"Open In Colab\"/></a>"
      ]
    },
    {
      "cell_type": "code",
      "source": [
        "# 1.Create a function which accepts two inputs from the user and compute nCr\n",
        "def factorial(x):\n",
        "    fact = 1\n",
        "    for i in range(1,x+1):\n",
        "        fact = fact * i\n",
        "    return fact\n",
        "n = int(input(\"Enter n value: \"))\n",
        "r = int(input(\"ENter r value: \"))\n",
        "a= factorial(n)/(factorial(r)*factorial(n-r))\n",
        "print(\"Answer for ncr is: \",a)"
      ],
      "metadata": {
        "colab": {
          "base_uri": "https://localhost:8080/"
        },
        "id": "BQSWprue_PWB",
        "outputId": "803172c4-ca18-4df2-fc06-5d3ca66e4745"
      },
      "execution_count": null,
      "outputs": [
        {
          "output_type": "stream",
          "name": "stdout",
          "text": [
            "Enter n value: 6\n",
            "ENter r value: 4\n",
            "Answer for ncr is:  15.0\n"
          ]
        }
      ]
    },
    {
      "cell_type": "code",
      "source": [
        "# 2.Recursive function to compute GCD of 2 numbers\n",
        "def gcd(a,b):\n",
        "    if(b==0):\n",
        "        return a\n",
        "    else:\n",
        "        return gcd(b,a%b)\n",
        "a=int(input(\"Enter first number:\"))\n",
        "b=int(input(\"Enter second number:\"))\n",
        "GCD=gcd(a,b)\n",
        "print(GCD)"
      ],
      "metadata": {
        "colab": {
          "base_uri": "https://localhost:8080/",
          "height": 0
        },
        "id": "U6fqEIRtXkOY",
        "outputId": "ccc6a201-447c-4fda-f6b1-ddaf470a9be2"
      },
      "execution_count": 7,
      "outputs": [
        {
          "output_type": "stream",
          "name": "stdout",
          "text": [
            "Enter first number:2\n",
            "Enter second number:4\n",
            "2\n"
          ]
        }
      ]
    },
    {
      "cell_type": "code",
      "source": [
        "# 3.Recursive function to find product of two numbers\n",
        "def product(a,b):\n",
        "  if a<b:\n",
        "    return product(b,a)\n",
        "  elif(b!=0):\n",
        "    return (a+product(a,b-1))\n",
        "  else:\n",
        "    return 0\n",
        "a=int(input(\"Enter first number:\"))\n",
        "b=int(input(\"Enter second number:\"))\n",
        "str(a)+' * '+str(b)+' = ',product(a,b)"
      ],
      "metadata": {
        "colab": {
          "base_uri": "https://localhost:8080/",
          "height": 0
        },
        "id": "fV-5uPDEZD1g",
        "outputId": "9794de21-dc90-423a-ac49-1ce118a8382f"
      },
      "execution_count": 11,
      "outputs": [
        {
          "name": "stdout",
          "output_type": "stream",
          "text": [
            "Enter first number:5\n",
            "Enter second number:55\n"
          ]
        },
        {
          "output_type": "execute_result",
          "data": {
            "text/plain": [
              "('5 * 55 = ', 275)"
            ]
          },
          "metadata": {},
          "execution_count": 11
        }
      ]
    },
    {
      "cell_type": "code",
      "source": [
        "# 4.Recursive function to generate Fibonacci series\n",
        "def fibonacci(series):\n",
        "    if(series<=1):\n",
        "        return series\n",
        "    else:\n",
        "        return (fibonacci(series-1)+fibonacci(series-2))\n",
        "series=int(input(\"Enter number of terms:\"))\n",
        "for i in range(series):\n",
        "    print(fibonacci(i))"
      ],
      "metadata": {
        "colab": {
          "base_uri": "https://localhost:8080/",
          "height": 0
        },
        "id": "KoiuzrH2bO1M",
        "outputId": "15f1d7f7-326f-4fe0-e352-911f42b7bd42"
      },
      "execution_count": 14,
      "outputs": [
        {
          "output_type": "stream",
          "name": "stdout",
          "text": [
            "Enter number of terms:10\n",
            "0\n",
            "1\n",
            "1\n",
            "2\n",
            "3\n",
            "5\n",
            "8\n",
            "13\n",
            "21\n",
            "34\n"
          ]
        }
      ]
    },
    {
      "cell_type": "code",
      "source": [
        "# 5.Program to print a specified list after removing the 0th, 4th and 5th elements.\n",
        "# Sample List : ['Red', 'Green', 'White', 'Black', 'Pink', 'Yellow']\n",
        "# Expected Output : ['Green', 'White', 'Black']\n",
        "Colors=['Red', 'Green', 'White', 'Black', 'Pink', 'Yellow']\n",
        "del Colors[0]\n",
        "del Colors[3]\n",
        "del Colors[3]\n",
        "print(Colors)"
      ],
      "metadata": {
        "colab": {
          "base_uri": "https://localhost:8080/"
        },
        "id": "GEG-so90_W6P",
        "outputId": "5d2151fb-9cf3-4792-85b8-9be023cd2b27"
      },
      "execution_count": null,
      "outputs": [
        {
          "output_type": "stream",
          "name": "stdout",
          "text": [
            "['Green', 'White', 'Black']\n"
          ]
        }
      ]
    },
    {
      "cell_type": "code",
      "source": [
        "# 6.Program to get the difference between the two lists.\n",
        "a=[10,20,30,40,50]\n",
        "b=[60,70,75,80,90]\n",
        "c=set(a)\n",
        "d=set(b)\n",
        "print(c)\n",
        "print(d)\n",
        "i=d.difference(c)\n",
        "a=list(c)\n",
        "b=list(d)\n",
        "print(a)\n",
        "print(b)\n",
        "print(i)"
      ],
      "metadata": {
        "colab": {
          "base_uri": "https://localhost:8080/"
        },
        "id": "dcbz1q_i_ez5",
        "outputId": "6b5ad9cf-45f2-4ea7-d7e1-8f3e37843f10"
      },
      "execution_count": null,
      "outputs": [
        {
          "output_type": "stream",
          "name": "stdout",
          "text": [
            "{40, 10, 50, 20, 30}\n",
            "{70, 75, 80, 90, 60}\n",
            "[40, 10, 50, 20, 30]\n",
            "[70, 75, 80, 90, 60]\n",
            "{70, 75, 80, 90, 60}\n"
          ]
        }
      ]
    },
    {
      "cell_type": "code",
      "source": [
        "# 7.Program to find the second smallest number and second largest number in a list\n",
        "a=[10,20,30,40,50,60,70,80,90]\n",
        "a.sort()\n",
        "print(a)\n",
        "print(\"Second largest:\",a[len(a)-2])\n",
        "print(\"Second smallest:\",a[1])"
      ],
      "metadata": {
        "id": "-hrhiTXQAls4",
        "colab": {
          "base_uri": "https://localhost:8080/",
          "height": 0
        },
        "outputId": "627814b3-fa8f-42f2-c5e2-a503cee3fc65"
      },
      "execution_count": 49,
      "outputs": [
        {
          "output_type": "stream",
          "name": "stdout",
          "text": [
            "[10, 20, 30, 40, 50, 60, 70, 80, 90]\n",
            "Second largest: 80\n",
            "Second smallest: 20\n"
          ]
        }
      ]
    },
    {
      "cell_type": "code",
      "source": [
        "# 8. Given a list of numbers of list, write a Python program to create a list of tuples having first element as the number and second element as the square of the number\n",
        "a=int(input(\"Enter the lower range:\"))\n",
        "b=int(input('Enter the upper range:'))\n",
        "x=[(i,i**2)for i in range(a,b+1)]\n",
        "print(x)"
      ],
      "metadata": {
        "colab": {
          "base_uri": "https://localhost:8080/",
          "height": 0
        },
        "id": "iH-yRFXYsHoT",
        "outputId": "c117576e-c095-48d5-dfa2-bb6b4b29bac0"
      },
      "execution_count": 27,
      "outputs": [
        {
          "output_type": "stream",
          "name": "stdout",
          "text": [
            "Enter the lower range:1\n",
            "Enter the upper range:10\n",
            "[(1, 1), (2, 4), (3, 9), (4, 16), (5, 25), (6, 36), (7, 49), (8, 64), (9, 81), (10, 100)]\n"
          ]
        }
      ]
    },
    {
      "cell_type": "code",
      "source": [
        "# 8.Given a list of numbers of list, write a Python program to create a list of tuples having first element as the number and second element as the square of the number.\n",
        "a=[1,2,3,4,5,6,7,8,9,10]\n",
        "print(a)\n",
        "result = [(val, pow(val, 2)) for val in a]\n",
        "print(result)"
      ],
      "metadata": {
        "colab": {
          "base_uri": "https://localhost:8080/",
          "height": 0
        },
        "id": "goKpaqKFIFTi",
        "outputId": "5aad930c-49c3-476a-e4ac-e38c1ba1db5f"
      },
      "execution_count": 53,
      "outputs": [
        {
          "output_type": "stream",
          "name": "stdout",
          "text": [
            "[1, 2, 3, 4, 5, 6, 7, 8, 9, 10]\n",
            "[(1, 1), (2, 4), (3, 9), (4, 16), (5, 25), (6, 36), (7, 49), (8, 64), (9, 81), (10, 100)]\n"
          ]
        }
      ]
    },
    {
      "cell_type": "code",
      "source": [
        "# 9.Given list of tuples, remove all the tuples with length K. \n",
        "# Input : test_list = [(4, 5), (4, ), (8, 6, 7), (1, ), (3, 4, 6, 7)], K = 2 \n",
        "# Output : [(4, ), (8, 6, 7), (1, ), (3, 4, 6, 7)] \n",
        "# Explanation : (4, 5) of len = 2 is removed\n",
        "test_list = [(4, 5), (4, ), (8, 6, 7), (1, ), (3, 4, 6, 7)]\n",
        "print(\"original list:\"+str(test_list))\n",
        "k=1\n",
        "print(k)\n",
        "result=[i for i in test_list if len(i) !=K]\n",
        "print(\"Filtered list : \" + str(result))"
      ],
      "metadata": {
        "colab": {
          "base_uri": "https://localhost:8080/",
          "height": 0
        },
        "id": "9Ec6qC2rt9pI",
        "outputId": "0c519fea-3014-4d8d-f872-2ae2d2edb033"
      },
      "execution_count": 36,
      "outputs": [
        {
          "output_type": "stream",
          "name": "stdout",
          "text": [
            "original list:[(4, 5), (4,), (8, 6, 7), (1,), (3, 4, 6, 7)]\n",
            "1\n",
            "Filtered list : [(4,), (8, 6, 7), (1,), (3, 4, 6, 7)]\n"
          ]
        }
      ]
    },
    {
      "cell_type": "code",
      "source": [
        "# 10.Program to generate and print a dictionary that contains a number (between 1 and n) in the form (x, x*x). \n",
        "# Sample Input: (n=5) : \n",
        "# Expected Output : {1: 1, 2: 4, 3: 9, 4: 16, 5: 25}\n",
        "n=int(input(\"Enter a number:\"))\n",
        "d=dict()\n",
        "for x in range(1,n+1):\n",
        "  d[x]=x*x\n",
        "print(d)"
      ],
      "metadata": {
        "colab": {
          "base_uri": "https://localhost:8080/",
          "height": 0
        },
        "id": "unNW3K_-uKMf",
        "outputId": "76f41c34-d0c5-4b50-e1e0-e6e133af7cb2"
      },
      "execution_count": 39,
      "outputs": [
        {
          "output_type": "stream",
          "name": "stdout",
          "text": [
            "Enter a number:5\n",
            "{1: 1, 2: 4, 3: 9, 4: 16, 5: 25}\n"
          ]
        }
      ]
    },
    {
      "cell_type": "code",
      "source": [
        "# 11.Program to remove a key from a dictionary\n",
        "a={'Yang':20,'Wang':22,'Kai':30,'lin':25}\n",
        "print(a)\n",
        "if 'Wang' in a:\n",
        "  del a['Kai']\n",
        "print(a)"
      ],
      "metadata": {
        "colab": {
          "base_uri": "https://localhost:8080/",
          "height": 0
        },
        "id": "Cpqe-CGnDo0p",
        "outputId": "b78c537d-e568-42a8-cdb1-2dfd6b73e915"
      },
      "execution_count": 54,
      "outputs": [
        {
          "output_type": "stream",
          "name": "stdout",
          "text": [
            "{'Yang': 20, 'Wang': 22, 'Kai': 30, 'lin': 25}\n",
            "{'Yang': 20, 'Wang': 22, 'lin': 25}\n"
          ]
        }
      ]
    },
    {
      "cell_type": "code",
      "source": [
        "# 12.Program to get the maximum and minimum value in a dictionary\n",
        "a={'Yang':20,'Wang':22,'Kai':30,'lin':25}\n",
        "min_key=min(a,key=a.get)\n",
        "max_key=max(a,key=a.get)\n",
        "print(min_key)\n",
        "print(max_key)\n",
        "print(a.get(min_key))\n",
        "print(a.get(max_key))"
      ],
      "metadata": {
        "colab": {
          "base_uri": "https://localhost:8080/",
          "height": 0
        },
        "id": "mSXCrzeME0oX",
        "outputId": "3e392ab5-f843-4461-99ff-c8af25118d02"
      },
      "execution_count": 55,
      "outputs": [
        {
          "output_type": "stream",
          "name": "stdout",
          "text": [
            "Yang\n",
            "Kai\n",
            "20\n",
            "30\n"
          ]
        }
      ]
    },
    {
      "cell_type": "code",
      "source": [
        "# 13.Program to perform operations on string using unicodes,splitting of string,accessing elements of string using locations\n",
        "a='Kgf2 is an excellent movie'\n",
        "print(a.split())\n",
        "print(a[8:20])"
      ],
      "metadata": {
        "colab": {
          "base_uri": "https://localhost:8080/",
          "height": 0
        },
        "id": "RR4dupmhxU4_",
        "outputId": "ed456627-036c-42ae-c36b-15aea105d19e"
      },
      "execution_count": 46,
      "outputs": [
        {
          "output_type": "stream",
          "name": "stdout",
          "text": [
            "['Kgf2', 'is', 'an', 'excellent', 'movie']\n",
            "an excellent\n"
          ]
        }
      ]
    },
    {
      "cell_type": "code",
      "source": [
        "# 14.Program for Counting occurrence of a certain element in a string, getting indexes that  have matching elements.\n",
        "# For Example-1.In Rabbit count how many times b has occurred . \n",
        "a='Rabbit'\n",
        "c=a.count('b')\n",
        "print(c)"
      ],
      "metadata": {
        "colab": {
          "base_uri": "https://localhost:8080/",
          "height": 0
        },
        "id": "j1h3KkMPDSNb",
        "outputId": "158c3159-aa81-4678-8de6-616ffd1efb06"
      },
      "execution_count": 56,
      "outputs": [
        {
          "output_type": "stream",
          "name": "stdout",
          "text": [
            "2\n"
          ]
        }
      ]
    },
    {
      "cell_type": "code",
      "source": [
        "# # 14.Example-2.I have to go to a doctor and get myself checked. Count the number of occurrences of 'to'\n",
        "a='I have to go to a doctor and get myself checked'\n",
        "c=a.count('to')\n",
        "print(c)"
      ],
      "metadata": {
        "colab": {
          "base_uri": "https://localhost:8080/",
          "height": 0
        },
        "id": "cGYcwxhpESQb",
        "outputId": "54f132b9-4bce-4f5b-8bba-6f9fbd54f01f"
      },
      "execution_count": 57,
      "outputs": [
        {
          "output_type": "stream",
          "name": "stdout",
          "text": [
            "3\n"
          ]
        }
      ]
    },
    {
      "cell_type": "code",
      "source": [
        "# 15.Program for replacing one substring by another For example - Rabbit - Replace 'bb' by 'cc'\n",
        "x=\"Rabbit\"\n",
        "print(x)\n",
        "y=a.replace('bb','cc')\n",
        "print(y)"
      ],
      "metadata": {
        "id": "d6o0TOrQH_6N",
        "colab": {
          "base_uri": "https://localhost:8080/",
          "height": 0
        },
        "outputId": "4710b8d5-39d3-4b17-c388-496a7d1774f8"
      },
      "execution_count": 58,
      "outputs": [
        {
          "output_type": "stream",
          "name": "stdout",
          "text": [
            "Rabbit\n",
            "I have to go to a doctor and get myself checked\n"
          ]
        }
      ]
    },
    {
      "cell_type": "code",
      "source": [
        "# 16.Program to Acronym generator for any user input (ex-input is Random memory access then output should be RMA).Example - Random number (RN)\n",
        "a=input(\"Enter a string:\")\n",
        "b=a.split()\n",
        "for i in b:\n",
        "  print(i[0],end='')"
      ],
      "metadata": {
        "id": "kHZ-7Ur86nVv",
        "colab": {
          "base_uri": "https://localhost:8080/",
          "height": 0
        },
        "outputId": "59a715fc-6156-4e3c-b953-e2aa6d67e4f1"
      },
      "execution_count": 59,
      "outputs": [
        {
          "output_type": "stream",
          "name": "stdout",
          "text": [
            "Enter a string:RANDOM NUMBER\n",
            "RN"
          ]
        }
      ]
    },
    {
      "cell_type": "code",
      "source": [
        "# 17.Python function that accepts a string and calculates the number of uppercase letters and lowercase letters.\n",
        "def string(s):\n",
        "  a={'upper':0,'lower':0}\n",
        "  for i in s:\n",
        "    if i.isupper():\n",
        "      a['upper']+=1\n",
        "    elif i.islower():\n",
        "      a['lower']+=1\n",
        "    else:\n",
        "      pass\n",
        "  print(s)\n",
        "  print(a[\"upper\"])\n",
        "  print(a[\"lower\"])\n",
        "\n",
        "string(\"Kgf2 movie is a blockbuster movie\")"
      ],
      "metadata": {
        "colab": {
          "base_uri": "https://localhost:8080/",
          "height": 0
        },
        "id": "tSCBPrjW5W_V",
        "outputId": "fb617ffd-1c16-4bb2-eac7-1636b9b9b58b"
      },
      "execution_count": 60,
      "outputs": [
        {
          "output_type": "stream",
          "name": "stdout",
          "text": [
            "Kgf2 movie is a blockbuster movie\n",
            "1\n",
            "26\n"
          ]
        }
      ]
    },
    {
      "cell_type": "code",
      "execution_count": null,
      "metadata": {
        "colab": {
          "base_uri": "https://localhost:8080/"
        },
        "id": "v_dg0dNK2QfR",
        "outputId": "ffef09f0-74ff-4442-e714-12f902b0637f"
      },
      "outputs": [
        {
          "output_type": "stream",
          "name": "stdout",
          "text": [
            "2\n"
          ]
        }
      ],
      "source": [
        "# 18.Program to count the number of strings where the string length is 2 or more and the first and last character are same from a given list of strings \n",
        "# Sample List : ['abc', 'xyz', 'aba', '1221'] Expected Result : 2\n",
        "def select(words):\n",
        "  c=0\n",
        "\n",
        "  for word in words:\n",
        "    if len(word)>1 and word[0]==word[-1]:\n",
        "      c+=1\n",
        "  return c\n",
        "print(select(['abc', 'xyz', 'aba', '1221']))"
      ]
    }
  ]
}