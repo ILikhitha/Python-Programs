{
  "nbformat": 4,
  "nbformat_minor": 0,
  "metadata": {
    "colab": {
      "name": "LIST.ipynb",
      "provenance": [],
      "authorship_tag": "ABX9TyNIumry8DV9YzGsj0Zg7zPN",
      "include_colab_link": true
    },
    "kernelspec": {
      "name": "python3",
      "display_name": "Python 3"
    },
    "language_info": {
      "name": "python"
    }
  },
  "cells": [
    {
      "cell_type": "markdown",
      "metadata": {
        "id": "view-in-github",
        "colab_type": "text"
      },
      "source": [
        "<a href=\"https://colab.research.google.com/github/ILikhitha/Python-Programs/blob/main/LIST.ipynb\" target=\"_parent\"><img src=\"https://colab.research.google.com/assets/colab-badge.svg\" alt=\"Open In Colab\"/></a>"
      ]
    },
    {
      "cell_type": "code",
      "source": [
        "Fruit=['Apple','Mango','Banana','Guava','Pomogranate']\n",
        "print(Fruit)\n",
        "print(type('Mango'))\n",
        "print(type(Fruit))"
      ],
      "metadata": {
        "colab": {
          "base_uri": "https://localhost:8080/"
        },
        "id": "HuERQPdxV-OS",
        "outputId": "14eb40d3-a355-4e01-e2d6-38113b6b6a00"
      },
      "execution_count": 35,
      "outputs": [
        {
          "output_type": "stream",
          "name": "stdout",
          "text": [
            "['Apple', 'Mango', 'Banana', 'Guava', 'Pomogranate']\n",
            "<class 'str'>\n",
            "<class 'list'>\n"
          ]
        }
      ]
    },
    {
      "cell_type": "code",
      "source": [
        "Fruit=['Apple','Mango','Banana','Guava','Pomogranate']\n",
        "print(Fruit)\n",
        "print(Fruit[0])"
      ],
      "metadata": {
        "colab": {
          "base_uri": "https://localhost:8080/"
        },
        "id": "LCnCfyjdW4kZ",
        "outputId": "0e527e0e-3f06-4327-efe0-09de816fce19"
      },
      "execution_count": 4,
      "outputs": [
        {
          "output_type": "stream",
          "name": "stdout",
          "text": [
            "['Apple', 'Mango', 'Banana', 'Guava', 'Pomogranate']\n",
            "Apple\n"
          ]
        }
      ]
    },
    {
      "cell_type": "code",
      "source": [
        "Fruit=['Apple','Mango','Banana','Guava','Pomogranate']\n",
        "print(Fruit)\n",
        "print(Fruit[0])\n",
        "print(Fruit[1])\n",
        "print(Fruit[2])\n",
        "print(Fruit[3])\n",
        "print(Fruit[4])"
      ],
      "metadata": {
        "colab": {
          "base_uri": "https://localhost:8080/"
        },
        "id": "D3-x7RMkXbYA",
        "outputId": "680fce7f-7166-437e-c1cd-706278687a57"
      },
      "execution_count": 7,
      "outputs": [
        {
          "output_type": "stream",
          "name": "stdout",
          "text": [
            "['Apple', 'Mango', 'Banana', 'Guava', 'Pomogranate']\n",
            "Apple\n",
            "Mango\n",
            "Banana\n",
            "Guava\n",
            "Pomogranate\n"
          ]
        }
      ]
    },
    {
      "cell_type": "code",
      "source": [
        "Fruit=['Apple','Mango','Banana','Guava','Pomogranate']\n",
        "print(Fruit)\n",
        "print(Fruit[0])\n",
        "print(Fruit[-1])"
      ],
      "metadata": {
        "colab": {
          "base_uri": "https://localhost:8080/"
        },
        "id": "z-6jf4oiX4sz",
        "outputId": "2572e3bc-95fa-48c1-b7e4-d7053652ac91"
      },
      "execution_count": 8,
      "outputs": [
        {
          "output_type": "stream",
          "name": "stdout",
          "text": [
            "['Apple', 'Mango', 'Banana', 'Guava', 'Pomogranate']\n",
            "Apple\n",
            "Pomogranate\n"
          ]
        }
      ]
    },
    {
      "cell_type": "code",
      "source": [
        "Fruit=['Apple','Mango','Banana','Guava','Pomogranate']\n",
        "print(Fruit)\n",
        "print(Fruit[0])\n",
        "print(Fruit[-1])\n",
        "print(Fruit[-2])"
      ],
      "metadata": {
        "colab": {
          "base_uri": "https://localhost:8080/"
        },
        "id": "LmrTj2tiYArA",
        "outputId": "89b39ba4-2be4-4cc4-8103-651191c1e8af"
      },
      "execution_count": 9,
      "outputs": [
        {
          "output_type": "stream",
          "name": "stdout",
          "text": [
            "['Apple', 'Mango', 'Banana', 'Guava', 'Pomogranate']\n",
            "Apple\n",
            "Pomogranate\n",
            "Guava\n"
          ]
        }
      ]
    },
    {
      "cell_type": "code",
      "source": [
        "Fruit=['Apple','Mango','Banana','Guava','Pomogranate']\n",
        "print(Fruit)\n",
        "print(Fruit[0:2])"
      ],
      "metadata": {
        "colab": {
          "base_uri": "https://localhost:8080/"
        },
        "id": "83rwpeHWYa7r",
        "outputId": "613f2281-ad16-4475-c406-eb44191d0a7f"
      },
      "execution_count": 11,
      "outputs": [
        {
          "output_type": "stream",
          "name": "stdout",
          "text": [
            "['Apple', 'Mango', 'Banana', 'Guava', 'Pomogranate']\n",
            "['Apple', 'Mango']\n"
          ]
        }
      ]
    },
    {
      "cell_type": "code",
      "source": [
        "Fruit=['Apple','Mango','Banana','Guava','Pomogranate']\n",
        "print(Fruit)\n",
        "print(Fruit[:2])"
      ],
      "metadata": {
        "colab": {
          "base_uri": "https://localhost:8080/"
        },
        "id": "fGZbRWeQZCgp",
        "outputId": "f9c1cb28-93d9-40c5-ad96-1a1255493fdd"
      },
      "execution_count": 12,
      "outputs": [
        {
          "output_type": "stream",
          "name": "stdout",
          "text": [
            "['Apple', 'Mango', 'Banana', 'Guava', 'Pomogranate']\n",
            "['Apple', 'Mango']\n"
          ]
        }
      ]
    },
    {
      "cell_type": "code",
      "source": [
        "Fruit=['Apple','Mango','Banana','Guava','Pomogranate']\n",
        "print(Fruit)\n",
        "print(Fruit[2:3])"
      ],
      "metadata": {
        "colab": {
          "base_uri": "https://localhost:8080/"
        },
        "id": "qqZ7xLy3ZOVD",
        "outputId": "afd4d096-a20e-4854-b47d-608737f12afe"
      },
      "execution_count": 13,
      "outputs": [
        {
          "output_type": "stream",
          "name": "stdout",
          "text": [
            "['Apple', 'Mango', 'Banana', 'Guava', 'Pomogranate']\n",
            "['Banana']\n"
          ]
        }
      ]
    },
    {
      "cell_type": "code",
      "source": [
        "Fruit=['Apple','Mango','Banana','Guava','Pomogranate']\n",
        "print(Fruit)\n",
        "print(Fruit[2:])"
      ],
      "metadata": {
        "colab": {
          "base_uri": "https://localhost:8080/"
        },
        "id": "oDjPefccZfsR",
        "outputId": "62f81baa-054c-48cd-e21e-bcbbde41a38e"
      },
      "execution_count": 14,
      "outputs": [
        {
          "output_type": "stream",
          "name": "stdout",
          "text": [
            "['Apple', 'Mango', 'Banana', 'Guava', 'Pomogranate']\n",
            "['Banana', 'Guava', 'Pomogranate']\n"
          ]
        }
      ]
    },
    {
      "cell_type": "code",
      "source": [
        "# Fruit append\n",
        "Fruit=['Apple','Mango','Banana','Guava','Pomogranate']\n",
        "print(Fruit)\n",
        "Fruit.append('Litchi')\n",
        "print(Fruit)"
      ],
      "metadata": {
        "colab": {
          "base_uri": "https://localhost:8080/"
        },
        "id": "zDiglDbHZ4Kp",
        "outputId": "89416436-1baa-42f1-eaec-593f6357bed6"
      },
      "execution_count": 16,
      "outputs": [
        {
          "output_type": "stream",
          "name": "stdout",
          "text": [
            "['Apple', 'Mango', 'Banana', 'Guava', 'Pomogranate']\n",
            "['Apple', 'Mango', 'Banana', 'Guava', 'Pomogranate', 'Litchi']\n"
          ]
        }
      ]
    },
    {
      "cell_type": "code",
      "source": [
        "# Fruit Insert\n",
        "Fruit=['Apple','Mango','Banana','Guava','Pomogranate']\n",
        "print(Fruit)\n",
        "Fruit.insert(2,'Litchi')\n",
        "print(Fruit)"
      ],
      "metadata": {
        "colab": {
          "base_uri": "https://localhost:8080/"
        },
        "id": "Gtdz-IhNbUSq",
        "outputId": "77487c5b-0a9f-420a-ac56-2d5a081299dc"
      },
      "execution_count": 17,
      "outputs": [
        {
          "output_type": "stream",
          "name": "stdout",
          "text": [
            "['Apple', 'Mango', 'Banana', 'Guava', 'Pomogranate']\n",
            "['Apple', 'Mango', 'Litchi', 'Banana', 'Guava', 'Pomogranate']\n"
          ]
        }
      ]
    },
    {
      "cell_type": "code",
      "source": [
        "from types import new_class\n",
        "# Fruit Extend\n",
        "Fruit=['Apple','Mango','Banana','Guava','Pomogranate']\n",
        "print(Fruit)\n",
        "New=['Litchi','Cherry','Kiwi']\n",
        "print(New)\n",
        "Fruit.extend(New)\n",
        "print(Fruit)"
      ],
      "metadata": {
        "colab": {
          "base_uri": "https://localhost:8080/"
        },
        "id": "9RHkECWlb4tM",
        "outputId": "71fcb1e3-9f22-4c87-e4d2-b3dc89f4afe5"
      },
      "execution_count": 19,
      "outputs": [
        {
          "output_type": "stream",
          "name": "stdout",
          "text": [
            "['Apple', 'Mango', 'Banana', 'Guava', 'Pomogranate']\n",
            "['Litchi', 'Cherry', 'Kiwi']\n",
            "['Apple', 'Mango', 'Banana', 'Guava', 'Pomogranate', 'Litchi', 'Cherry', 'Kiwi']\n"
          ]
        }
      ]
    },
    {
      "cell_type": "code",
      "source": [
        "# Fruit Remove\n",
        "Fruit=['Apple','Mango','Banana','Guava','Pomogranate']\n",
        "print(Fruit)\n",
        "Fruit.remove('Pomogranate')\n",
        "print(Fruit)"
      ],
      "metadata": {
        "colab": {
          "base_uri": "https://localhost:8080/"
        },
        "id": "D2WPc0hzcu0j",
        "outputId": "c429a297-c943-4284-82fc-a7db099a782a"
      },
      "execution_count": 21,
      "outputs": [
        {
          "output_type": "stream",
          "name": "stdout",
          "text": [
            "['Apple', 'Mango', 'Banana', 'Guava', 'Pomogranate']\n",
            "['Apple', 'Mango', 'Banana', 'Guava']\n"
          ]
        }
      ]
    },
    {
      "cell_type": "code",
      "source": [
        "# Fruit remove specified\n",
        "Fruit=['Apple','Mango','Banana','Guava','Pomogranate']\n",
        "print(Fruit)\n",
        "Fruit.pop(4)\n",
        "print(Fruit)"
      ],
      "metadata": {
        "colab": {
          "base_uri": "https://localhost:8080/"
        },
        "id": "jmabXoe6dN_7",
        "outputId": "02c675fc-bfdd-4576-86aa-ec22c0285b75"
      },
      "execution_count": 22,
      "outputs": [
        {
          "output_type": "stream",
          "name": "stdout",
          "text": [
            "['Apple', 'Mango', 'Banana', 'Guava', 'Pomogranate']\n",
            "['Apple', 'Mango', 'Banana', 'Guava']\n"
          ]
        }
      ]
    },
    {
      "cell_type": "code",
      "source": [
        "# Delete\n",
        "Fruit=['Apple','Mango','Banana','Guava','Pomogranate']\n",
        "print(Fruit)\n",
        "del Fruit[1]\n",
        "print(Fruit)"
      ],
      "metadata": {
        "colab": {
          "base_uri": "https://localhost:8080/"
        },
        "id": "UBPzGlQwfy8s",
        "outputId": "c53f9611-11f8-498c-e616-9c261e71f4af"
      },
      "execution_count": 36,
      "outputs": [
        {
          "output_type": "stream",
          "name": "stdout",
          "text": [
            "['Apple', 'Mango', 'Banana', 'Guava', 'Pomogranate']\n",
            "['Apple', 'Banana', 'Guava', 'Pomogranate']\n"
          ]
        }
      ]
    },
    {
      "cell_type": "code",
      "source": [
        "# Clear\n",
        "Fruit=['Apple','Mango','Banana','Guava','Pomogranate']\n",
        "print(Fruit)\n",
        "Fruit.clear()\n",
        "print(Fruit)"
      ],
      "metadata": {
        "colab": {
          "base_uri": "https://localhost:8080/"
        },
        "id": "weCxeM3Ng9OL",
        "outputId": "fa2e094a-600d-42b8-f582-6ed9bd29455b"
      },
      "execution_count": 38,
      "outputs": [
        {
          "output_type": "stream",
          "name": "stdout",
          "text": [
            "['Apple', 'Mango', 'Banana', 'Guava', 'Pomogranate']\n",
            "[]\n"
          ]
        }
      ]
    },
    {
      "cell_type": "code",
      "source": [
        "# Remove\n",
        "Number=[1,2,3,4,5]\n",
        "Number.remove(4)\n",
        "print(Number)"
      ],
      "metadata": {
        "colab": {
          "base_uri": "https://localhost:8080/"
        },
        "id": "B0fE-QSReiS6",
        "outputId": "de7646bf-3414-4dd8-af5e-b8a8a3d81768"
      },
      "execution_count": 27,
      "outputs": [
        {
          "output_type": "stream",
          "name": "stdout",
          "text": [
            "[1, 2, 3, 5]\n"
          ]
        }
      ]
    },
    {
      "cell_type": "code",
      "source": [
        "# Number remove specified\n",
        "Number=[1,2,3,4,5]\n",
        "print(Number)\n",
        "Number.pop(4)\n",
        "print(Number)"
      ],
      "metadata": {
        "colab": {
          "base_uri": "https://localhost:8080/"
        },
        "id": "Jaj1jMahlQTG",
        "outputId": "5cb66666-eb63-4612-8e01-800f03624126"
      },
      "execution_count": 51,
      "outputs": [
        {
          "output_type": "stream",
          "name": "stdout",
          "text": [
            "[1, 2, 3, 4, 5]\n",
            "[1, 2, 3, 4]\n"
          ]
        }
      ]
    },
    {
      "cell_type": "code",
      "source": [
        "# Pop\n",
        "Number=[1,2,3,4,5]\n",
        "Number.pop(0)\n",
        "print(Number)"
      ],
      "metadata": {
        "colab": {
          "base_uri": "https://localhost:8080/"
        },
        "id": "kOGeVMQbfi60",
        "outputId": "20dbce91-f69a-482c-f16c-8e29b046ca24"
      },
      "execution_count": 28,
      "outputs": [
        {
          "output_type": "stream",
          "name": "stdout",
          "text": [
            "[2, 3, 4, 5]\n"
          ]
        }
      ]
    },
    {
      "cell_type": "code",
      "source": [
        "# delete\n",
        "Number=[1,2,3,4,5]\n",
        "print(Number)\n",
        "del Number[1]\n",
        "print(Number)"
      ],
      "metadata": {
        "colab": {
          "base_uri": "https://localhost:8080/"
        },
        "id": "hu9eilmFghTl",
        "outputId": "d92fc5cd-bb6f-4d5f-8de1-04d123e469bb"
      },
      "execution_count": 37,
      "outputs": [
        {
          "output_type": "stream",
          "name": "stdout",
          "text": [
            "[1, 2, 3, 4, 5]\n",
            "[1, 3, 4, 5]\n"
          ]
        }
      ]
    },
    {
      "cell_type": "code",
      "source": [
        "# Clear\n",
        "Number=[1,2,3,4,5]\n",
        "print(Number)\n",
        "Number.clear()\n",
        "print(Number)"
      ],
      "metadata": {
        "colab": {
          "base_uri": "https://localhost:8080/"
        },
        "id": "wCJI-CfPg5TN",
        "outputId": "05e3ae4f-d7f8-442b-b8cb-b061b500e2ed"
      },
      "execution_count": 41,
      "outputs": [
        {
          "output_type": "stream",
          "name": "stdout",
          "text": [
            "[1, 2, 3, 4, 5]\n",
            "[]\n"
          ]
        }
      ]
    },
    {
      "cell_type": "code",
      "source": [
        "# Sorting\n",
        "Number=[10,34,56,1,2,3,4,5,8,20,30]\n",
        "Number.sort()\n",
        "print(Number)"
      ],
      "metadata": {
        "colab": {
          "base_uri": "https://localhost:8080/"
        },
        "id": "7YPStQLmhnCV",
        "outputId": "542e1164-cecc-45d4-cb86-c17a7eae61df"
      },
      "execution_count": 43,
      "outputs": [
        {
          "output_type": "stream",
          "name": "stdout",
          "text": [
            "[1, 2, 3, 4, 5, 8, 10, 20, 30, 34, 56]\n"
          ]
        }
      ]
    },
    {
      "cell_type": "code",
      "source": [
        "# Sorting\n",
        "Alphabets=['A','Y','U','O','P','W','R','T','a','b','c','d','r','e']\n",
        "Alphabets.sort()\n",
        "print(Alphabets)"
      ],
      "metadata": {
        "colab": {
          "base_uri": "https://localhost:8080/"
        },
        "id": "Q4S4SXbSjpCt",
        "outputId": "2b024e0c-2ab9-4b0f-c90b-05081d4b96cf"
      },
      "execution_count": 48,
      "outputs": [
        {
          "output_type": "stream",
          "name": "stdout",
          "text": [
            "['A', 'O', 'P', 'R', 'T', 'U', 'W', 'Y', 'a', 'b', 'c', 'd', 'e', 'r']\n"
          ]
        }
      ]
    },
    {
      "cell_type": "code",
      "source": [
        "# Descending order\n",
        "Alphabets=['A','Y','U','O','P','W','R','T','a','b','c','d','r','e']\n",
        "Alphabets.sort(reverse = True)\n",
        "print(Alphabets)"
      ],
      "metadata": {
        "colab": {
          "base_uri": "https://localhost:8080/"
        },
        "id": "vcFoTVlWieMV",
        "outputId": "5a7c68a4-8b56-4080-a9fd-b045b15d80b4"
      },
      "execution_count": 46,
      "outputs": [
        {
          "output_type": "stream",
          "name": "stdout",
          "text": [
            "['r', 'e', 'd', 'c', 'b', 'a', 'Y', 'W', 'U', 'T', 'R', 'P', 'O', 'A']\n"
          ]
        }
      ]
    },
    {
      "cell_type": "code",
      "source": [
        "# Descending order\n",
        "Number=[10,34,56,1,2,3,4,5,8,20,30]\n",
        "Number.sort(reverse = True)\n",
        "print(Number)"
      ],
      "metadata": {
        "colab": {
          "base_uri": "https://localhost:8080/"
        },
        "id": "2XyWjZKkj989",
        "outputId": "f13b7fd8-cb79-4470-8df5-415be1d575a0"
      },
      "execution_count": 49,
      "outputs": [
        {
          "output_type": "stream",
          "name": "stdout",
          "text": [
            "[56, 34, 30, 20, 10, 8, 5, 4, 3, 2, 1]\n"
          ]
        }
      ]
    },
    {
      "cell_type": "code",
      "source": [
        "# Reverse\n",
        "Alphabets=['A','Y','U','O','P','W','R','T','a','b','c','d','r','e']\n",
        "Alphabets.reverse()\n",
        "print(Alphabets)"
      ],
      "metadata": {
        "colab": {
          "base_uri": "https://localhost:8080/"
        },
        "id": "yo2og0lRjRBF",
        "outputId": "ffb4bb20-d6ca-4fff-c7b5-00739c203015"
      },
      "execution_count": 47,
      "outputs": [
        {
          "output_type": "stream",
          "name": "stdout",
          "text": [
            "['e', 'r', 'd', 'c', 'b', 'a', 'T', 'R', 'W', 'P', 'O', 'U', 'Y', 'A']\n"
          ]
        }
      ]
    },
    {
      "cell_type": "code",
      "source": [
        "# Reverse\n",
        "Number=[10,34,56,1,2,3,4,5,8,20,30]\n",
        "Number.reverse()\n",
        "print(Number)"
      ],
      "metadata": {
        "colab": {
          "base_uri": "https://localhost:8080/"
        },
        "id": "ycbXJcuFkIq8",
        "outputId": "f17c8932-b307-4da3-d338-a854bea48cd1"
      },
      "execution_count": 50,
      "outputs": [
        {
          "output_type": "stream",
          "name": "stdout",
          "text": [
            "[30, 20, 8, 5, 4, 3, 2, 1, 56, 34, 10]\n"
          ]
        }
      ]
    },
    {
      "cell_type": "code",
      "source": [
        "# List length\n",
        "Alphabets=['A','Y','U','O','P','W','R','T','a','b','c','d','r','e']\n",
        "print(len(Alphabets))"
      ],
      "metadata": {
        "colab": {
          "base_uri": "https://localhost:8080/"
        },
        "id": "-dIlOMpCmjDc",
        "outputId": "836bc0bb-dc1e-473b-a1e4-ae6917ae21b2"
      },
      "execution_count": 52,
      "outputs": [
        {
          "output_type": "stream",
          "name": "stdout",
          "text": [
            "14\n"
          ]
        }
      ]
    },
    {
      "cell_type": "code",
      "source": [
        "# List length\n",
        "Number=[10,34,56,1,2,3,4,5,8,20,30]\n",
        "print(len(Number))"
      ],
      "metadata": {
        "colab": {
          "base_uri": "https://localhost:8080/"
        },
        "id": "WYolQzBCmtpW",
        "outputId": "4b1d06a2-2bbe-42b8-8f2e-8d480005ff7e"
      },
      "execution_count": 53,
      "outputs": [
        {
          "output_type": "stream",
          "name": "stdout",
          "text": [
            "11\n"
          ]
        }
      ]
    }
  ]
}