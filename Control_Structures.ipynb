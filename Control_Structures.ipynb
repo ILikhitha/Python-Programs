{
  "nbformat": 4,
  "nbformat_minor": 0,
  "metadata": {
    "colab": {
      "name": "Control Structures",
      "provenance": [],
      "collapsed_sections": [],
      "authorship_tag": "ABX9TyOFBTh2xbYaOdiH4sLm+vuV",
      "include_colab_link": true
    },
    "kernelspec": {
      "name": "python3",
      "display_name": "Python 3"
    },
    "language_info": {
      "name": "python"
    }
  },
  "cells": [
    {
      "cell_type": "markdown",
      "metadata": {
        "id": "view-in-github",
        "colab_type": "text"
      },
      "source": [
        "<a href=\"https://colab.research.google.com/github/ILikhitha/Python-Programs/blob/main/Control_Structures.ipynb\" target=\"_parent\"><img src=\"https://colab.research.google.com/assets/colab-badge.svg\" alt=\"Open In Colab\"/></a>"
      ]
    },
    {
      "cell_type": "code",
      "source": [
        "# Check whether triangle is equilateral,Isoceles or scalene\n",
        "a=int(input(\"Enter first side:\"))\n",
        "b=int(input(\"Enter second side:\"))\n",
        "c=int(input(\"Enter third side:\"))\n",
        "if a==b==c:\n",
        "      print(\"Triangle is equilateral\")\n",
        "elif a==b or b==c:\n",
        "      print(\"Triangle is Isoceles\")\n",
        "else:\n",
        "      print(\"Triangle is scalene\")"
      ],
      "metadata": {
        "colab": {
          "base_uri": "https://localhost:8080/"
        },
        "id": "mUuNzB29L_sp",
        "outputId": "31a24254-4e97-4467-aa25-49b00a9bd9d0"
      },
      "execution_count": 8,
      "outputs": [
        {
          "output_type": "stream",
          "name": "stdout",
          "text": [
            "Enter first side:60\n",
            "Enter second side:60\n",
            "Enter third side:60\n",
            "Triangle is equilateral\n"
          ]
        }
      ]
    },
    {
      "cell_type": "code",
      "source": [
        "# Check whether year is leap year or not\n",
        "a=int(input(\"Enter Year:\"))\n",
        "if a%400==0:\n",
        "             print(\"Leap year\")\n",
        "else:\n",
        "             print(\"not a leap year\")"
      ],
      "metadata": {
        "colab": {
          "base_uri": "https://localhost:8080/"
        },
        "id": "tbau5VobQG74",
        "outputId": "5be53231-0cf2-462e-a27e-43bdef607613"
      },
      "execution_count": 16,
      "outputs": [
        {
          "output_type": "stream",
          "name": "stdout",
          "text": [
            "Enter Year:2022\n",
            "not a leap year\n"
          ]
        }
      ]
    },
    {
      "cell_type": "code",
      "source": [
        "# Minimum of three numbers\n",
        "a=int(input(\"Enter first number:\"))\n",
        "b=int(input(\"Enter second number:\"))\n",
        "c=int(input(\"Enter third number:\"))\n",
        "if a<b and a<c:\n",
        "       print(\"a is minimum\")\n",
        "elif b<a and b<c:\n",
        "       print(\"b is minimum\")\n",
        "else:\n",
        "       print(\"c is minimum\")"
      ],
      "metadata": {
        "colab": {
          "base_uri": "https://localhost:8080/"
        },
        "id": "HnOVATRtRClQ",
        "outputId": "7800d295-8d87-4077-d175-3e6df7a43e53"
      },
      "execution_count": 17,
      "outputs": [
        {
          "output_type": "stream",
          "name": "stdout",
          "text": [
            "Enter first number:3\n",
            "Enter second number:4\n",
            "Enter third number:5\n",
            "a is minimum\n"
          ]
        }
      ]
    },
    {
      "cell_type": "code",
      "source": [
        "# Check whether the number is divisible by 5 and 11 or not\n",
        "a=int(input(\"Enter number:\"))\n",
        "if a%5==0 and a%11==0:\n",
        "          print(\"divisible by 5 and 11\")\n",
        "else:\n",
        "          print(\"not divisible by 5 and 11\")"
      ],
      "metadata": {
        "colab": {
          "base_uri": "https://localhost:8080/"
        },
        "id": "n9zS4aW-SaKv",
        "outputId": "f39877b0-f8b2-43c4-8032-4983674653fc"
      },
      "execution_count": 20,
      "outputs": [
        {
          "output_type": "stream",
          "name": "stdout",
          "text": [
            "Enter number:55\n",
            "divisible by 5 and 11\n"
          ]
        }
      ]
    },
    {
      "cell_type": "code",
      "source": [
        "# Roots of a quadratic equation\n",
        "import math\n",
        "a=int(input(\"Enter a value:\"))\n",
        "b=int(input(\"Enter b value:\"))\n",
        "c=int(input(\"Enter c value:\"))\n",
        "d=b*b-4*a*c\n",
        "if d>0:\n",
        " x=-b+sqrt(d)/2*a\n",
        " y=-b-sqrt(d)/2*a\n",
        " print(x,y)\n",
        "elif d==40:\n",
        "          print(\"Equal roots\")\n",
        "else:\n",
        "          print(\"Imaginary roots\")"
      ],
      "metadata": {
        "colab": {
          "base_uri": "https://localhost:8080/"
        },
        "id": "vpYAHzEUTHWn",
        "outputId": "11d53fbd-c65a-4d04-f523-a7a8dec5a127"
      },
      "execution_count": 35,
      "outputs": [
        {
          "output_type": "stream",
          "name": "stdout",
          "text": [
            "Enter a value:2\n",
            "Enter b value:4\n",
            "Enter c value:5\n",
            "Imaginary roots\n"
          ]
        }
      ]
    },
    {
      "cell_type": "markdown",
      "source": [
        ""
      ],
      "metadata": {
        "id": "xTFtPW-8LzB8"
      }
    }
  ]
}