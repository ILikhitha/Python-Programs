{
  "nbformat": 4,
  "nbformat_minor": 0,
  "metadata": {
    "colab": {
      "name": "Strings(Modify).ipynb",
      "provenance": [],
      "collapsed_sections": [],
      "authorship_tag": "ABX9TyNQfuF3+q69tk0Ps5wW568n",
      "include_colab_link": true
    },
    "kernelspec": {
      "name": "python3",
      "display_name": "Python 3"
    },
    "language_info": {
      "name": "python"
    }
  },
  "cells": [
    {
      "cell_type": "markdown",
      "metadata": {
        "id": "view-in-github",
        "colab_type": "text"
      },
      "source": [
        "<a href=\"https://colab.research.google.com/github/ILikhitha/Python-Programs/blob/main/Strings(Modify).ipynb\" target=\"_parent\"><img src=\"https://colab.research.google.com/assets/colab-badge.svg\" alt=\"Open In Colab\"/></a>"
      ]
    },
    {
      "cell_type": "markdown",
      "source": [
        "# Modify strings"
      ],
      "metadata": {
        "id": "skyo_nAQYVFb"
      }
    },
    {
      "cell_type": "code",
      "source": [
        "# lower to upper\n",
        "a='i went to paris last week'\n",
        "print(a.upper())"
      ],
      "metadata": {
        "colab": {
          "base_uri": "https://localhost:8080/"
        },
        "id": "i0LfnLhlYVxb",
        "outputId": "1be68694-b814-473a-e38a-3230a128de66"
      },
      "execution_count": null,
      "outputs": [
        {
          "output_type": "stream",
          "name": "stdout",
          "text": [
            "I WENT TO PARIS LAST WEEK\n"
          ]
        }
      ]
    },
    {
      "cell_type": "code",
      "source": [
        "# upper to lower\n",
        "a='I WENT TO PARIS LAST WEEK'\n",
        "print(a.lower())"
      ],
      "metadata": {
        "colab": {
          "base_uri": "https://localhost:8080/"
        },
        "id": "8l2lecSPYszs",
        "outputId": "aaf2dff9-c40a-415f-e955-6d78a4719f9a"
      },
      "execution_count": null,
      "outputs": [
        {
          "output_type": "stream",
          "name": "stdout",
          "text": [
            "i went to paris last week\n"
          ]
        }
      ]
    },
    {
      "cell_type": "code",
      "source": [
        "# remove spaces\n",
        "a='        I went to paris last week            '\n",
        "print(a.strip())"
      ],
      "metadata": {
        "colab": {
          "base_uri": "https://localhost:8080/"
        },
        "id": "uKSQk93iZB50",
        "outputId": "5c859118-e146-4678-c955-3dc70396293f"
      },
      "execution_count": null,
      "outputs": [
        {
          "output_type": "stream",
          "name": "stdout",
          "text": [
            "I went to paris last week\n"
          ]
        }
      ]
    },
    {
      "cell_type": "code",
      "source": [
        "# replace string\n",
        "a='I went to paris last week'\n",
        "print(a.replace('paris','Australia'))"
      ],
      "metadata": {
        "colab": {
          "base_uri": "https://localhost:8080/"
        },
        "id": "1cyKg1kbZlTF",
        "outputId": "d26dc27a-aaa8-453f-a9be-4b31c8bb47d1"
      },
      "execution_count": null,
      "outputs": [
        {
          "output_type": "stream",
          "name": "stdout",
          "text": [
            "I went to Australia last week\n"
          ]
        }
      ]
    },
    {
      "cell_type": "code",
      "source": [
        "# replace string\n",
        "a='I went to paris last week'\n",
        "print(a.replace('p','f'))"
      ],
      "metadata": {
        "colab": {
          "base_uri": "https://localhost:8080/"
        },
        "id": "KmXrfbWrbDo7",
        "outputId": "64e89429-9c7a-47a2-8cac-c3d3ccab8593"
      },
      "execution_count": null,
      "outputs": [
        {
          "output_type": "stream",
          "name": "stdout",
          "text": [
            "I went to faris last week\n"
          ]
        }
      ]
    },
    {
      "cell_type": "code",
      "source": [
        "# split string\n",
        "a='I went to paris last week'\n",
        "print(a.split(' '))"
      ],
      "metadata": {
        "colab": {
          "base_uri": "https://localhost:8080/"
        },
        "id": "_i0AObiAaMDs",
        "outputId": "a713dc9b-642e-47f5-8ce7-2bc8a3d0aa87"
      },
      "execution_count": null,
      "outputs": [
        {
          "output_type": "stream",
          "name": "stdout",
          "text": [
            "['I', 'went', 'to', 'paris', 'last', 'week']\n"
          ]
        }
      ]
    },
    {
      "cell_type": "code",
      "source": [
        "# split string\n",
        "a='I went to paris,last week'\n",
        "print(a.split(' , '))"
      ],
      "metadata": {
        "colab": {
          "base_uri": "https://localhost:8080/"
        },
        "id": "z1usgqLccsm-",
        "outputId": "e029248c-cd71-4148-be33-b49454df548d"
      },
      "execution_count": null,
      "outputs": [
        {
          "output_type": "stream",
          "name": "stdout",
          "text": [
            "['I went to paris,last week']\n"
          ]
        }
      ]
    },
    {
      "cell_type": "markdown",
      "source": [
        "# Concatenate strings"
      ],
      "metadata": {
        "id": "KqxEjz4yc72T"
      }
    },
    {
      "cell_type": "code",
      "source": [
        "# Merge\n",
        "a='India'\n",
        "b='China'\n",
        "c=a+b\n",
        "print(c)"
      ],
      "metadata": {
        "colab": {
          "base_uri": "https://localhost:8080/"
        },
        "id": "wIJ2hFX_dAZJ",
        "outputId": "d71df947-718f-489f-87f5-4c7c8e4f4045"
      },
      "execution_count": null,
      "outputs": [
        {
          "output_type": "stream",
          "name": "stdout",
          "text": [
            "IndiaChina\n"
          ]
        }
      ]
    },
    {
      "cell_type": "code",
      "source": [
        "# add space\n",
        "a='India'\n",
        "b='China'\n",
        "c=a + ' '+ b\n",
        "print(c)"
      ],
      "metadata": {
        "colab": {
          "base_uri": "https://localhost:8080/"
        },
        "id": "N0Ec8HfVdVi8",
        "outputId": "aa7e3944-23af-4eaa-d2e7-862dd7927cfb"
      },
      "execution_count": null,
      "outputs": [
        {
          "output_type": "stream",
          "name": "stdout",
          "text": [
            "India China\n"
          ]
        }
      ]
    },
    {
      "cell_type": "code",
      "source": [
        "a='1,2,3'\n",
        "b='Movie'\n",
        "c=a+b\n",
        "print(c)"
      ],
      "metadata": {
        "colab": {
          "base_uri": "https://localhost:8080/"
        },
        "id": "eo3Esy4NeC38",
        "outputId": "e4551333-2c77-44dc-aa11-eff533cbaeb8"
      },
      "execution_count": null,
      "outputs": [
        {
          "output_type": "stream",
          "name": "stdout",
          "text": [
            "1,2,3Movie\n"
          ]
        }
      ]
    },
    {
      "cell_type": "code",
      "source": [
        "a='1,2,3'\n",
        "b='Movie'\n",
        "c=a+ ' '+b\n",
        "print(c)"
      ],
      "metadata": {
        "colab": {
          "base_uri": "https://localhost:8080/"
        },
        "id": "olFNuT5gejHz",
        "outputId": "25475b39-d16d-4c69-cd40-dbb4a993f48c"
      },
      "execution_count": null,
      "outputs": [
        {
          "output_type": "stream",
          "name": "stdout",
          "text": [
            "1,2,3 Movie\n"
          ]
        }
      ]
    },
    {
      "cell_type": "markdown",
      "source": [
        "# Format strings"
      ],
      "metadata": {
        "id": "Sb-p1p3mexr6"
      }
    },
    {
      "cell_type": "code",
      "source": [
        "# cannot combine numbers and strings"
      ],
      "metadata": {
        "id": "d3ySKljXe2QZ"
      },
      "execution_count": null,
      "outputs": []
    },
    {
      "cell_type": "code",
      "source": [
        "# numbers to strings\n",
        "a=5\n",
        "b='They have {} chocolates'\n",
        "print(b.format(a))"
      ],
      "metadata": {
        "colab": {
          "base_uri": "https://localhost:8080/"
        },
        "id": "H6QixuEigLT0",
        "outputId": "de13c8a2-aa4a-45e4-b89a-7dc313d2d8bd"
      },
      "execution_count": null,
      "outputs": [
        {
          "output_type": "stream",
          "name": "stdout",
          "text": [
            "They have 5 chocolates\n"
          ]
        }
      ]
    },
    {
      "cell_type": "code",
      "source": [
        "Quantity=5\n",
        "ItemNo=55\n",
        "price=50\n",
        "order='I want to buy {} pieces of item {} for {} Yuan'\n",
        "print(order.format(Quantity,ItemNo,price))"
      ],
      "metadata": {
        "colab": {
          "base_uri": "https://localhost:8080/"
        },
        "id": "h-7tnFfFha7j",
        "outputId": "17f3848a-66d6-48c1-faf1-c017372bee8b"
      },
      "execution_count": null,
      "outputs": [
        {
          "output_type": "stream",
          "name": "stdout",
          "text": [
            "I want to buy 5 pieces of item 55 for 50 Yuan\n"
          ]
        }
      ]
    },
    {
      "cell_type": "code",
      "source": [
        "Quantity=5\n",
        "ItemNo=55\n",
        "price=50\n",
        "order='I want to buy {2} pieces of item {0} for {1} Yuan'\n",
        "print(order.format(Quantity,ItemNo,price))"
      ],
      "metadata": {
        "id": "_nsDLabJiXQU",
        "colab": {
          "base_uri": "https://localhost:8080/"
        },
        "outputId": "d14f56bc-3fd7-4e34-9dbb-e43d7be37c20"
      },
      "execution_count": 31,
      "outputs": [
        {
          "output_type": "stream",
          "name": "stdout",
          "text": [
            "I want to buy 50 pieces of item 5 for 55 Yuan\n"
          ]
        }
      ]
    },
    {
      "cell_type": "code",
      "source": [
        "s1=int(input(\"Enter first marks\"))\n",
        "s2=int(input(\"Enter second marks\"))\n",
        "s3=int(input('Enter third marks'))\n",
        "s4=int(input(\"Enter fourth marks\"))\n",
        "Result='I got the marks memo of s1,s2,s3,s4 are {},{},{},{}'\n",
        "print(Result.format(s1,s2,s3,s4))"
      ],
      "metadata": {
        "colab": {
          "base_uri": "https://localhost:8080/"
        },
        "id": "_sur8e8ZjnGD",
        "outputId": "df7115d1-9300-46d6-d8ed-677efdf68917"
      },
      "execution_count": 35,
      "outputs": [
        {
          "output_type": "stream",
          "name": "stdout",
          "text": [
            "Enter first marks80\n",
            "Enter second marks85\n",
            "Enter third marks90\n",
            "Enter fourth marks95\n",
            "I got the marks memo of s1,s2,s3,s4 are 80,85,90,95\n"
          ]
        }
      ]
    },
    {
      "cell_type": "markdown",
      "source": [
        "# Escape characters"
      ],
      "metadata": {
        "id": "3b5Hu8Aei_BM"
      }
    },
    {
      "cell_type": "code",
      "source": [
        "a='The place so called \\\"paris\\\" is a wonderful place'\n",
        "print(a)"
      ],
      "metadata": {
        "colab": {
          "base_uri": "https://localhost:8080/"
        },
        "id": "nqQa0N1_jCoQ",
        "outputId": "68d48a4b-89ec-4faa-a6ef-10ca3e0f8f95"
      },
      "execution_count": 36,
      "outputs": [
        {
          "output_type": "stream",
          "name": "stdout",
          "text": [
            "The place so called \"paris\" is a wonderful place\n"
          ]
        }
      ]
    },
    {
      "cell_type": "code",
      "source": [
        "a='The place so called \\\\paris is a wonderful place'\n",
        "print(a)"
      ],
      "metadata": {
        "colab": {
          "base_uri": "https://localhost:8080/"
        },
        "id": "iZabJNcQlXJi",
        "outputId": "4f75167e-b751-47ee-aa9d-eb737133474d"
      },
      "execution_count": 39,
      "outputs": [
        {
          "output_type": "stream",
          "name": "stdout",
          "text": [
            "The place so called \\paris is a wonderful place\n"
          ]
        }
      ]
    },
    {
      "cell_type": "code",
      "source": [
        "a='The place so called \\nparis is a wonderful place'\n",
        "print(a)"
      ],
      "metadata": {
        "colab": {
          "base_uri": "https://localhost:8080/"
        },
        "id": "KbgqKAlvnInK",
        "outputId": "dd955443-2dc8-4261-9258-71a73226eb2f"
      },
      "execution_count": 40,
      "outputs": [
        {
          "output_type": "stream",
          "name": "stdout",
          "text": [
            "The place so called \n",
            "paris is a wonderful place\n"
          ]
        }
      ]
    },
    {
      "cell_type": "code",
      "source": [
        "a='The place so called \\tparis is a wonderful place'\n",
        "print(a)"
      ],
      "metadata": {
        "colab": {
          "base_uri": "https://localhost:8080/"
        },
        "id": "TeR6pWdOnJkp",
        "outputId": "3aa5dd82-0d5f-4dd0-d4cb-08d0ba3d68a9"
      },
      "execution_count": 38,
      "outputs": [
        {
          "output_type": "stream",
          "name": "stdout",
          "text": [
            "The place so called \tparis is a wonderful place\n"
          ]
        }
      ]
    },
    {
      "cell_type": "code",
      "source": [
        "a='The place so called \\bparis is a wonderful place'\n",
        "print(a)"
      ],
      "metadata": {
        "colab": {
          "base_uri": "https://localhost:8080/"
        },
        "id": "LWDi0UQznS_h",
        "outputId": "6ef89f22-bb86-49c8-8b3c-0e904d76c250"
      },
      "execution_count": 41,
      "outputs": [
        {
          "output_type": "stream",
          "name": "stdout",
          "text": [
            "The place so called\bparis is a wonderful place\n"
          ]
        }
      ]
    },
    {
      "cell_type": "code",
      "source": [
        "a='The place so called\\bparis is a wonderful place'\n",
        "print(a)"
      ],
      "metadata": {
        "colab": {
          "base_uri": "https://localhost:8080/"
        },
        "id": "inhIe6fEo0X8",
        "outputId": "38b1b30a-ebe7-4daf-8e4f-11491545c484"
      },
      "execution_count": 42,
      "outputs": [
        {
          "output_type": "stream",
          "name": "stdout",
          "text": [
            "The place so called\bparis is a wonderful place\n"
          ]
        }
      ]
    },
    {
      "cell_type": "code",
      "source": [
        "# octal\n",
        "a=\"\\110\\145\\154\\154\\157\"\n",
        "print(a)"
      ],
      "metadata": {
        "colab": {
          "base_uri": "https://localhost:8080/"
        },
        "id": "qS0DFJcSpZr6",
        "outputId": "d55291f0-d732-48f5-d078-6e12a5414cd1"
      },
      "execution_count": 45,
      "outputs": [
        {
          "output_type": "stream",
          "name": "stdout",
          "text": [
            "Hello\n"
          ]
        }
      ]
    },
    {
      "cell_type": "markdown",
      "source": [
        "# String methods"
      ],
      "metadata": {
        "id": "5mCgXdD9qjnE"
      }
    },
    {
      "cell_type": "code",
      "source": [
        "# capitalze\n",
        "a='paris'\n",
        "b=a.capitalize()\n",
        "print(b)"
      ],
      "metadata": {
        "colab": {
          "base_uri": "https://localhost:8080/"
        },
        "id": "JQa59aQIqm65",
        "outputId": "4115ea7b-f1d5-458b-9995-b6f3287bcb95"
      },
      "execution_count": 47,
      "outputs": [
        {
          "output_type": "stream",
          "name": "stdout",
          "text": [
            "Paris\n"
          ]
        }
      ]
    },
    {
      "cell_type": "code",
      "source": [
        "# casefold\n",
        "a='Paris'\n",
        "b=a.casefold()\n",
        "print(b)"
      ],
      "metadata": {
        "colab": {
          "base_uri": "https://localhost:8080/"
        },
        "id": "bIFUyM2Cq7RZ",
        "outputId": "1664a28b-da70-483c-fbbc-17bdf0e740e1"
      },
      "execution_count": 49,
      "outputs": [
        {
          "output_type": "stream",
          "name": "stdout",
          "text": [
            "paris\n"
          ]
        }
      ]
    },
    {
      "cell_type": "code",
      "source": [
        "# center\n",
        "a='paris'\n",
        "b=a.center(50)\n",
        "print(b)"
      ],
      "metadata": {
        "colab": {
          "base_uri": "https://localhost:8080/"
        },
        "id": "Hx3KvoY7rQhT",
        "outputId": "1e5379b2-19da-481d-e467-d33ce3dc16df"
      },
      "execution_count": 52,
      "outputs": [
        {
          "output_type": "stream",
          "name": "stdout",
          "text": [
            "                      paris                       \n"
          ]
        }
      ]
    },
    {
      "cell_type": "code",
      "source": [
        "# count\n",
        "a='Welcome to python'\n",
        "b=a.count('e')\n",
        "print(b)"
      ],
      "metadata": {
        "colab": {
          "base_uri": "https://localhost:8080/"
        },
        "id": "DjZb3CzUrpiy",
        "outputId": "267036f4-ca6a-4b6d-be09-9e3c6df50874"
      },
      "execution_count": 56,
      "outputs": [
        {
          "output_type": "stream",
          "name": "stdout",
          "text": [
            "2\n"
          ]
        }
      ]
    },
    {
      "cell_type": "code",
      "source": [
        "# encode\n",
        "a='Welcome to python'\n",
        "b=a.encode()\n",
        "print(b)"
      ],
      "metadata": {
        "colab": {
          "base_uri": "https://localhost:8080/"
        },
        "id": "DXFHu2gqsA2b",
        "outputId": "2cc07ed0-43c2-4162-d558-99eaadbfc03e"
      },
      "execution_count": 57,
      "outputs": [
        {
          "output_type": "stream",
          "name": "stdout",
          "text": [
            "b'Welcome to python'\n"
          ]
        }
      ]
    }
  ]
}