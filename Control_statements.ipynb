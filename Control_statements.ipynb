{
  "nbformat": 4,
  "nbformat_minor": 0,
  "metadata": {
    "colab": {
      "name": "Control statements.ipynb",
      "provenance": [],
      "authorship_tag": "ABX9TyPnMycCvEvjhKkCmvXIwZxl",
      "include_colab_link": true
    },
    "kernelspec": {
      "name": "python3",
      "display_name": "Python 3"
    },
    "language_info": {
      "name": "python"
    }
  },
  "cells": [
    {
      "cell_type": "markdown",
      "metadata": {
        "id": "view-in-github",
        "colab_type": "text"
      },
      "source": [
        "<a href=\"https://colab.research.google.com/github/ILikhitha/Python-Programs/blob/main/Control_statements.ipynb\" target=\"_parent\"><img src=\"https://colab.research.google.com/assets/colab-badge.svg\" alt=\"Open In Colab\"/></a>"
      ]
    },
    {
      "cell_type": "code",
      "execution_count": 1,
      "metadata": {
        "colab": {
          "base_uri": "https://localhost:8080/"
        },
        "id": "AgsDCPCHpjOs",
        "outputId": "95a5ce54-4471-4823-fe65-a055b2ea2c33"
      },
      "outputs": [
        {
          "output_type": "stream",
          "name": "stdout",
          "text": [
            "You are eligible for voting\n"
          ]
        }
      ],
      "source": [
        "a=20\n",
        "if a>=18:\n",
        "  print(\"You are eligible for voting\")"
      ]
    },
    {
      "cell_type": "code",
      "source": [
        "a=20\n",
        "if a>=18:\n",
        "  print(\"You are eligible for voting\")\n",
        "  # else:\n",
        "  print(\"You are not eligible for voting\")"
      ],
      "metadata": {
        "colab": {
          "base_uri": "https://localhost:8080/"
        },
        "id": "4RFPVzBQqbgB",
        "outputId": "98a99869-ec1a-48ac-c03e-f1c90825335c"
      },
      "execution_count": 4,
      "outputs": [
        {
          "output_type": "stream",
          "name": "stdout",
          "text": [
            "You are eligible for voting\n",
            "You are not eligible for voting\n"
          ]
        }
      ]
    },
    {
      "cell_type": "code",
      "source": [
        "a=20\n",
        "if a>=18:\n",
        "           print(\"You are elgible for voting\")\n",
        "else:\n",
        "          print(\"your not eligible\")"
      ],
      "metadata": {
        "colab": {
          "base_uri": "https://localhost:8080/"
        },
        "id": "tGFFzmArrWbh",
        "outputId": "d414c01b-b925-4970-c13a-b5d7ce04c625"
      },
      "execution_count": 5,
      "outputs": [
        {
          "output_type": "stream",
          "name": "stdout",
          "text": [
            "You are elgible for voting\n"
          ]
        }
      ]
    },
    {
      "cell_type": "code",
      "source": [
        "a=int(input(\"Enter your age:\"))\n",
        "if a>=18:\n",
        "       print(\"You are eligible for voting\")\n",
        "else:\n",
        "       print(\"You are not eligible\")"
      ],
      "metadata": {
        "colab": {
          "base_uri": "https://localhost:8080/"
        },
        "id": "6SNlry7fr1Yp",
        "outputId": "e6ecca9b-02ed-4f57-cf93-2856000aef15"
      },
      "execution_count": 10,
      "outputs": [
        {
          "output_type": "stream",
          "name": "stdout",
          "text": [
            "Enter your age:18\n",
            "You are eligible for voting\n"
          ]
        }
      ]
    },
    {
      "cell_type": "code",
      "source": [
        "a=int(input(\"Enter first number:\"))\n",
        "b=int(input(\"Enter second number:\"))\n",
        "c=int(input(\"Enter third number:\"))\n",
        "if a>b and a>c:\n",
        "               print(\"a is largest\")\n",
        "elif b>a and b>c:\n",
        "               print(\"b is largest\")\n",
        "else:\n",
        "               print(\"c is largest\")"
      ],
      "metadata": {
        "colab": {
          "base_uri": "https://localhost:8080/"
        },
        "id": "vTTUmJm8suBx",
        "outputId": "db3bcce6-db24-48ee-b206-bc3bf2e5448b"
      },
      "execution_count": 17,
      "outputs": [
        {
          "output_type": "stream",
          "name": "stdout",
          "text": [
            "Enter first number:5\n",
            "Enter second number:10\n",
            "Enter third number:15\n",
            "c is largest\n"
          ]
        }
      ]
    },
    {
      "cell_type": "code",
      "source": [
        "a=int(input(\"Enter first number\"))\n",
        "b=int(input(\"Enter second number\"))\n",
        "c=int(input(\"Enter third number\"))\n",
        "d=int(input(\"Enter fourth number\"))\n",
        "e=int(input(\"Enter fifth number\"))\n",
        "if a>b and a>c and a>d and a>e:\n",
        "        print(\"a is largest\")\n",
        "elif b>a and b>c and b>d and b>e:\n",
        "        print(\"b is largest\")\n",
        "elif c>a and c>b and c>d and c>e:\n",
        "        print(\"c is largest\")\n",
        "elif d>a and d>b and d>c and d>e:\n",
        "        print(\"d is largest\")\n",
        "else:\n",
        "        print(\"e is largest\")"
      ],
      "metadata": {
        "colab": {
          "base_uri": "https://localhost:8080/"
        },
        "id": "v7vk9dX2upVB",
        "outputId": "c9d5c464-330a-412d-c03d-f45004e3809c"
      },
      "execution_count": 18,
      "outputs": [
        {
          "output_type": "stream",
          "name": "stdout",
          "text": [
            "Enter first number5\n",
            "Enter second number10\n",
            "Enter third number15\n",
            "Enter fourth number20\n",
            "Enter fifth number25\n",
            "e is largest\n"
          ]
        }
      ]
    },
    {
      "cell_type": "code",
      "source": [
        "i=1\n",
        "for i in range(1,100):\n",
        " if i%2==0:\n",
        "          print(\"Even number\") \n",
        "#else:\n",
        "          print(\"Odd number\")\n"
      ],
      "metadata": {
        "colab": {
          "base_uri": "https://localhost:8080/"
        },
        "id": "vOz4NYzZ52Kh",
        "outputId": "7e6f49ac-f4b7-4b2c-a55a-c83e5decf4b2"
      },
      "execution_count": 35,
      "outputs": [
        {
          "output_type": "stream",
          "name": "stdout",
          "text": [
            "Even number\n",
            "Odd number\n",
            "Even number\n",
            "Odd number\n",
            "Even number\n",
            "Odd number\n",
            "Even number\n",
            "Odd number\n",
            "Even number\n",
            "Odd number\n",
            "Even number\n",
            "Odd number\n",
            "Even number\n",
            "Odd number\n",
            "Even number\n",
            "Odd number\n",
            "Even number\n",
            "Odd number\n",
            "Even number\n",
            "Odd number\n",
            "Even number\n",
            "Odd number\n",
            "Even number\n",
            "Odd number\n",
            "Even number\n",
            "Odd number\n",
            "Even number\n",
            "Odd number\n",
            "Even number\n",
            "Odd number\n",
            "Even number\n",
            "Odd number\n",
            "Even number\n",
            "Odd number\n",
            "Even number\n",
            "Odd number\n",
            "Even number\n",
            "Odd number\n",
            "Even number\n",
            "Odd number\n",
            "Even number\n",
            "Odd number\n",
            "Even number\n",
            "Odd number\n",
            "Even number\n",
            "Odd number\n",
            "Even number\n",
            "Odd number\n",
            "Even number\n",
            "Odd number\n",
            "Even number\n",
            "Odd number\n",
            "Even number\n",
            "Odd number\n",
            "Even number\n",
            "Odd number\n",
            "Even number\n",
            "Odd number\n",
            "Even number\n",
            "Odd number\n",
            "Even number\n",
            "Odd number\n",
            "Even number\n",
            "Odd number\n",
            "Even number\n",
            "Odd number\n",
            "Even number\n",
            "Odd number\n",
            "Even number\n",
            "Odd number\n",
            "Even number\n",
            "Odd number\n",
            "Even number\n",
            "Odd number\n",
            "Even number\n",
            "Odd number\n",
            "Even number\n",
            "Odd number\n",
            "Even number\n",
            "Odd number\n",
            "Even number\n",
            "Odd number\n",
            "Even number\n",
            "Odd number\n",
            "Even number\n",
            "Odd number\n",
            "Even number\n",
            "Odd number\n",
            "Even number\n",
            "Odd number\n",
            "Even number\n",
            "Odd number\n",
            "Even number\n",
            "Odd number\n",
            "Even number\n",
            "Odd number\n",
            "Even number\n",
            "Odd number\n"
          ]
        }
      ]
    }
  ]
}