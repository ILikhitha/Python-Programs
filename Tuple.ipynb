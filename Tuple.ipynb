{
  "nbformat": 4,
  "nbformat_minor": 0,
  "metadata": {
    "colab": {
      "name": "Tuple.ipynb",
      "provenance": [],
      "collapsed_sections": [],
      "authorship_tag": "ABX9TyPVDYDiXAzEDYilIEUD0wEM",
      "include_colab_link": true
    },
    "kernelspec": {
      "name": "python3",
      "display_name": "Python 3"
    },
    "language_info": {
      "name": "python"
    }
  },
  "cells": [
    {
      "cell_type": "markdown",
      "metadata": {
        "id": "view-in-github",
        "colab_type": "text"
      },
      "source": [
        "<a href=\"https://colab.research.google.com/github/ILikhitha/Python-Programs/blob/main/Tuple.ipynb\" target=\"_parent\"><img src=\"https://colab.research.google.com/assets/colab-badge.svg\" alt=\"Open In Colab\"/></a>"
      ]
    },
    {
      "cell_type": "code",
      "execution_count": null,
      "metadata": {
        "colab": {
          "base_uri": "https://localhost:8080/"
        },
        "id": "ER7V6KXxZhFI",
        "outputId": "7c7e6681-b333-442e-a55c-a08d59931305"
      },
      "outputs": [
        {
          "output_type": "stream",
          "name": "stdout",
          "text": [
            "['Apple', 'Mango', 'Litchi', 'Kiwi']\n"
          ]
        }
      ],
      "source": [
        "Fruits=['Apple','Mango','Litchi','Kiwi']\n",
        "print(Fruits)"
      ]
    },
    {
      "cell_type": "code",
      "source": [
        "Fruits=['Apple','Mango','Litchi','Kiwi','Apple','Mango']\n",
        "print(Fruits)"
      ],
      "metadata": {
        "colab": {
          "base_uri": "https://localhost:8080/"
        },
        "id": "rmjcx3dzaBYY",
        "outputId": "3bd59097-ffa4-41fe-914f-7353ed2fc164"
      },
      "execution_count": null,
      "outputs": [
        {
          "output_type": "stream",
          "name": "stdout",
          "text": [
            "['Apple', 'Mango', 'Litchi', 'Kiwi', 'Apple', 'Mango']\n"
          ]
        }
      ]
    },
    {
      "cell_type": "code",
      "source": [
        "Fruits=['Apple','Mango','Litchi','Kiwi']\n",
        "print(len(Fruits))"
      ],
      "metadata": {
        "colab": {
          "base_uri": "https://localhost:8080/"
        },
        "id": "dZ3tlvzwaOYm",
        "outputId": "0e26a221-38c1-4055-c5e0-35c899a2bec1"
      },
      "execution_count": null,
      "outputs": [
        {
          "output_type": "stream",
          "name": "stdout",
          "text": [
            "4\n"
          ]
        }
      ]
    },
    {
      "cell_type": "code",
      "source": [
        "Fruits=('Dragon fruit',)\n",
        "print(type(Fruits))\n",
        "Fruits=('Dragon fruit')\n",
        "print(type(Fruits))"
      ],
      "metadata": {
        "colab": {
          "base_uri": "https://localhost:8080/"
        },
        "id": "ZP9OFAuxaqDg",
        "outputId": "5a00e225-ca9e-4e53-9562-20904bb80aeb"
      },
      "execution_count": null,
      "outputs": [
        {
          "output_type": "stream",
          "name": "stdout",
          "text": [
            "<class 'tuple'>\n",
            "<class 'str'>\n"
          ]
        }
      ]
    },
    {
      "cell_type": "code",
      "source": [
        "Fruits1=('Apple','Mango','Litchi','Kiwi')\n",
        "Fruits2=(5,10,15,20,25)\n",
        "Fruits3=(True,True,True)\n",
        "print(Fruits1)\n",
        "print(Fruits2)\n",
        "print(Fruits3)"
      ],
      "metadata": {
        "colab": {
          "base_uri": "https://localhost:8080/"
        },
        "id": "0ByHEIU8bcm4",
        "outputId": "6d7844eb-6e8a-4419-a8fd-2c849645125a"
      },
      "execution_count": null,
      "outputs": [
        {
          "output_type": "stream",
          "name": "stdout",
          "text": [
            "('Apple', 'Mango', 'Litchi', 'Kiwi')\n",
            "(5, 10, 15, 20, 25)\n",
            "(True, True, True)\n"
          ]
        }
      ]
    },
    {
      "cell_type": "code",
      "source": [
        "a=('Movie',5,True,55,'China')\n",
        "print(a)"
      ],
      "metadata": {
        "id": "Um8ZPQLncLCw",
        "colab": {
          "base_uri": "https://localhost:8080/"
        },
        "outputId": "df13416f-956a-4af0-f474-e8bb561d0ff1"
      },
      "execution_count": 8,
      "outputs": [
        {
          "output_type": "stream",
          "name": "stdout",
          "text": [
            "('Movie', 5, True, 55, 'China')\n"
          ]
        }
      ]
    },
    {
      "cell_type": "code",
      "source": [
        "Fruits=('Apple','Mango','Litchi','Kiwi')\n",
        "print(type(Fruits))"
      ],
      "metadata": {
        "colab": {
          "base_uri": "https://localhost:8080/"
        },
        "id": "j2pXKalRrAV-",
        "outputId": "25adc85d-b332-4c2e-ea6d-6d27e2fd4d8d"
      },
      "execution_count": 10,
      "outputs": [
        {
          "output_type": "stream",
          "name": "stdout",
          "text": [
            "<class 'tuple'>\n"
          ]
        }
      ]
    },
    {
      "cell_type": "code",
      "source": [
        "Fruits=tuple(('Apple','Mango','Litchi','Kiwi'))\n",
        "print(Fruits)"
      ],
      "metadata": {
        "colab": {
          "base_uri": "https://localhost:8080/"
        },
        "id": "tUWmyQDxrhp8",
        "outputId": "578ab0f4-907d-4032-b1da-b8ca5476aba4"
      },
      "execution_count": 14,
      "outputs": [
        {
          "output_type": "stream",
          "name": "stdout",
          "text": [
            "('Apple', 'Mango', 'Litchi', 'Kiwi')\n"
          ]
        }
      ]
    },
    {
      "cell_type": "code",
      "source": [
        "Fruits=['Apple','Mango','Litchi','Kiwi']\n",
        "print(Fruits[1])"
      ],
      "metadata": {
        "colab": {
          "base_uri": "https://localhost:8080/"
        },
        "id": "_GVjyiWYsJD1",
        "outputId": "e1b7898f-5954-4ca5-b020-cde551a25377"
      },
      "execution_count": 15,
      "outputs": [
        {
          "output_type": "stream",
          "name": "stdout",
          "text": [
            "Mango\n"
          ]
        }
      ]
    },
    {
      "cell_type": "code",
      "source": [
        "Fruits=['Apple','Mango','Litchi','Kiwi']\n",
        "print(Fruits[-2])"
      ],
      "metadata": {
        "colab": {
          "base_uri": "https://localhost:8080/"
        },
        "id": "Onb6SWnPs6dd",
        "outputId": "35dff50d-fdae-4d72-f8f4-3cd5ceb9bb85"
      },
      "execution_count": 16,
      "outputs": [
        {
          "output_type": "stream",
          "name": "stdout",
          "text": [
            "Litchi\n"
          ]
        }
      ]
    },
    {
      "cell_type": "code",
      "source": [
        "Fruits=['Apple','Mango','Litchi','Kiwi']\n",
        "print(Fruits[1:3])"
      ],
      "metadata": {
        "colab": {
          "base_uri": "https://localhost:8080/"
        },
        "id": "Kj_sFa2JtA-0",
        "outputId": "37276ceb-26c4-4117-8719-036fead9b5f2"
      },
      "execution_count": 18,
      "outputs": [
        {
          "output_type": "stream",
          "name": "stdout",
          "text": [
            "['Mango', 'Litchi']\n"
          ]
        }
      ]
    },
    {
      "cell_type": "code",
      "source": [
        "Fruits=['Apple','Mango','Litchi','Kiwi']\n",
        "print(Fruits[:3])"
      ],
      "metadata": {
        "colab": {
          "base_uri": "https://localhost:8080/"
        },
        "id": "BkNfFHY4tkRs",
        "outputId": "3c1c22fc-3267-49f8-83b4-3a60fdde3303"
      },
      "execution_count": 19,
      "outputs": [
        {
          "output_type": "stream",
          "name": "stdout",
          "text": [
            "['Apple', 'Mango', 'Litchi']\n"
          ]
        }
      ]
    },
    {
      "cell_type": "code",
      "source": [
        "Fruits=['Apple','Mango','Litchi','Kiwi']\n",
        "print(Fruits[2:])"
      ],
      "metadata": {
        "colab": {
          "base_uri": "https://localhost:8080/"
        },
        "id": "J5xyolEeuTSd",
        "outputId": "6dcd25a8-7dc3-4858-80bf-f67329d4ae9a"
      },
      "execution_count": 21,
      "outputs": [
        {
          "output_type": "stream",
          "name": "stdout",
          "text": [
            "['Litchi', 'Kiwi']\n"
          ]
        }
      ]
    },
    {
      "cell_type": "code",
      "source": [
        "Fruits=['Apple','Mango','Litchi','Kiwi','Cherry','Dragon fruit']\n",
        "print(Fruits[-3:-1])"
      ],
      "metadata": {
        "colab": {
          "base_uri": "https://localhost:8080/"
        },
        "id": "RQZtwzQgujaU",
        "outputId": "648e525f-97cf-47e0-bc60-65b8357a3e02"
      },
      "execution_count": 22,
      "outputs": [
        {
          "output_type": "stream",
          "name": "stdout",
          "text": [
            "['Kiwi', 'Cherry']\n"
          ]
        }
      ]
    }
  ]
}