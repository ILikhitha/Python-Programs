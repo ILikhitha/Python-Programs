{
  "nbformat": 4,
  "nbformat_minor": 0,
  "metadata": {
    "colab": {
      "name": "Tuple.ipynb",
      "provenance": [],
      "collapsed_sections": [],
      "authorship_tag": "ABX9TyPAkrmaUSUTHwAtMUnix3/Q",
      "include_colab_link": true
    },
    "kernelspec": {
      "name": "python3",
      "display_name": "Python 3"
    },
    "language_info": {
      "name": "python"
    }
  },
  "cells": [
    {
      "cell_type": "markdown",
      "metadata": {
        "id": "view-in-github",
        "colab_type": "text"
      },
      "source": [
        "<a href=\"https://colab.research.google.com/github/ILikhitha/Python-Programs/blob/main/Tuple.ipynb\" target=\"_parent\"><img src=\"https://colab.research.google.com/assets/colab-badge.svg\" alt=\"Open In Colab\"/></a>"
      ]
    },
    {
      "cell_type": "markdown",
      "source": [
        "## Tuples and Access Tuples"
      ],
      "metadata": {
        "id": "wlswMKRexBy4"
      }
    },
    {
      "cell_type": "code",
      "execution_count": null,
      "metadata": {
        "colab": {
          "base_uri": "https://localhost:8080/"
        },
        "id": "ER7V6KXxZhFI",
        "outputId": "e8781d6e-3023-4c3c-a031-6118e264d207"
      },
      "outputs": [
        {
          "output_type": "stream",
          "name": "stdout",
          "text": [
            "('Apple', 'Mango', 'Litchi', 'Kiwi')\n"
          ]
        }
      ],
      "source": [
        "Fruits=('Apple','Mango','Litchi','Kiwi')\n",
        "print(Fruits)"
      ]
    },
    {
      "cell_type": "code",
      "source": [
        "Fruits=('Apple','Mango','Litchi','Kiwi','Apple','Mango')\n",
        "print(Fruits)\n",
        "print(type(Fruits))"
      ],
      "metadata": {
        "colab": {
          "base_uri": "https://localhost:8080/"
        },
        "id": "rmjcx3dzaBYY",
        "outputId": "473c6743-54b1-415a-f87f-ca270a4c277f"
      },
      "execution_count": null,
      "outputs": [
        {
          "output_type": "stream",
          "name": "stdout",
          "text": [
            "('Apple', 'Mango', 'Litchi', 'Kiwi', 'Apple', 'Mango')\n",
            "<class 'tuple'>\n"
          ]
        }
      ]
    },
    {
      "cell_type": "code",
      "source": [
        "Fruits=('Apple','Mango','Litchi','Kiwi')\n",
        "print(len(Fruits))"
      ],
      "metadata": {
        "colab": {
          "base_uri": "https://localhost:8080/"
        },
        "id": "dZ3tlvzwaOYm",
        "outputId": "0e26a221-38c1-4055-c5e0-35c899a2bec1"
      },
      "execution_count": null,
      "outputs": [
        {
          "output_type": "stream",
          "name": "stdout",
          "text": [
            "4\n"
          ]
        }
      ]
    },
    {
      "cell_type": "code",
      "source": [
        "Fruits=('Dragon fruit',)\n",
        "print(type(Fruits))\n",
        "Fruits=('Dragon fruit')\n",
        "print(type(Fruits))"
      ],
      "metadata": {
        "colab": {
          "base_uri": "https://localhost:8080/"
        },
        "id": "ZP9OFAuxaqDg",
        "outputId": "5a00e225-ca9e-4e53-9562-20904bb80aeb"
      },
      "execution_count": null,
      "outputs": [
        {
          "output_type": "stream",
          "name": "stdout",
          "text": [
            "<class 'tuple'>\n",
            "<class 'str'>\n"
          ]
        }
      ]
    },
    {
      "cell_type": "code",
      "source": [
        "Fruits1=('Apple','Mango','Litchi','Kiwi')\n",
        "Fruits2=(5,10,15,20,25)\n",
        "Fruits3=(True,True,True)\n",
        "print(Fruits1)\n",
        "print(Fruits2)\n",
        "print(Fruits3)"
      ],
      "metadata": {
        "colab": {
          "base_uri": "https://localhost:8080/"
        },
        "id": "0ByHEIU8bcm4",
        "outputId": "6d7844eb-6e8a-4419-a8fd-2c849645125a"
      },
      "execution_count": null,
      "outputs": [
        {
          "output_type": "stream",
          "name": "stdout",
          "text": [
            "('Apple', 'Mango', 'Litchi', 'Kiwi')\n",
            "(5, 10, 15, 20, 25)\n",
            "(True, True, True)\n"
          ]
        }
      ]
    },
    {
      "cell_type": "code",
      "source": [
        "a=('Movie',5,True,55,'China')\n",
        "print(a)"
      ],
      "metadata": {
        "id": "Um8ZPQLncLCw",
        "colab": {
          "base_uri": "https://localhost:8080/"
        },
        "outputId": "df13416f-956a-4af0-f474-e8bb561d0ff1"
      },
      "execution_count": null,
      "outputs": [
        {
          "output_type": "stream",
          "name": "stdout",
          "text": [
            "('Movie', 5, True, 55, 'China')\n"
          ]
        }
      ]
    },
    {
      "cell_type": "code",
      "source": [
        "Fruits=('Apple','Mango','Litchi','Kiwi')\n",
        "print(type(Fruits))"
      ],
      "metadata": {
        "colab": {
          "base_uri": "https://localhost:8080/"
        },
        "id": "j2pXKalRrAV-",
        "outputId": "25adc85d-b332-4c2e-ea6d-6d27e2fd4d8d"
      },
      "execution_count": null,
      "outputs": [
        {
          "output_type": "stream",
          "name": "stdout",
          "text": [
            "<class 'tuple'>\n"
          ]
        }
      ]
    },
    {
      "cell_type": "code",
      "source": [
        "Fruits=tuple(('Apple','Mango','Litchi','Kiwi'))\n",
        "print(Fruits)"
      ],
      "metadata": {
        "colab": {
          "base_uri": "https://localhost:8080/"
        },
        "id": "tUWmyQDxrhp8",
        "outputId": "578ab0f4-907d-4032-b1da-b8ca5476aba4"
      },
      "execution_count": null,
      "outputs": [
        {
          "output_type": "stream",
          "name": "stdout",
          "text": [
            "('Apple', 'Mango', 'Litchi', 'Kiwi')\n"
          ]
        }
      ]
    },
    {
      "cell_type": "code",
      "source": [
        "Fruits=('Apple','Mango','Litchi','Kiwi')\n",
        "print(Fruits[1])"
      ],
      "metadata": {
        "colab": {
          "base_uri": "https://localhost:8080/"
        },
        "id": "_GVjyiWYsJD1",
        "outputId": "b21d619c-ee5c-45fd-9c5e-49b425c98adf"
      },
      "execution_count": null,
      "outputs": [
        {
          "output_type": "stream",
          "name": "stdout",
          "text": [
            "Mango\n"
          ]
        }
      ]
    },
    {
      "cell_type": "code",
      "source": [
        "Fruits=('Apple','Mango','Litchi','Kiwi')\n",
        "print(Fruits[-2])"
      ],
      "metadata": {
        "colab": {
          "base_uri": "https://localhost:8080/"
        },
        "id": "Onb6SWnPs6dd",
        "outputId": "ea80a765-eb99-4e4d-c4e0-b6a87d86b178"
      },
      "execution_count": null,
      "outputs": [
        {
          "output_type": "stream",
          "name": "stdout",
          "text": [
            "Litchi\n"
          ]
        }
      ]
    },
    {
      "cell_type": "code",
      "source": [
        "Fruits=('Apple','Mango','Litchi','Kiwi')\n",
        "print(Fruits[1:3])"
      ],
      "metadata": {
        "colab": {
          "base_uri": "https://localhost:8080/"
        },
        "id": "Kj_sFa2JtA-0",
        "outputId": "87c07d18-09ac-403a-dc88-edfb64d5a082"
      },
      "execution_count": null,
      "outputs": [
        {
          "output_type": "stream",
          "name": "stdout",
          "text": [
            "('Mango', 'Litchi')\n"
          ]
        }
      ]
    },
    {
      "cell_type": "code",
      "source": [
        "Fruits=('Apple','Mango','Litchi','Kiwi')\n",
        "print(Fruits[:3])"
      ],
      "metadata": {
        "colab": {
          "base_uri": "https://localhost:8080/"
        },
        "id": "BkNfFHY4tkRs",
        "outputId": "3072eb4f-17ea-478d-f83e-60aba38f7b51"
      },
      "execution_count": null,
      "outputs": [
        {
          "output_type": "stream",
          "name": "stdout",
          "text": [
            "('Apple', 'Mango', 'Litchi')\n"
          ]
        }
      ]
    },
    {
      "cell_type": "code",
      "source": [
        "Fruits=('Apple','Mango','Litchi','Kiwi')\n",
        "print(Fruits[2:])"
      ],
      "metadata": {
        "colab": {
          "base_uri": "https://localhost:8080/"
        },
        "id": "J5xyolEeuTSd",
        "outputId": "b66f294b-3677-4dc6-dfd9-bb6c9e6b2672"
      },
      "execution_count": null,
      "outputs": [
        {
          "output_type": "stream",
          "name": "stdout",
          "text": [
            "('Litchi', 'Kiwi')\n"
          ]
        }
      ]
    },
    {
      "cell_type": "code",
      "source": [
        "Fruits=('Apple','Mango','Litchi','Kiwi','Cherry','Dragon fruit')\n",
        "print(Fruits[-3:-1])"
      ],
      "metadata": {
        "colab": {
          "base_uri": "https://localhost:8080/"
        },
        "id": "RQZtwzQgujaU",
        "outputId": "b862d570-a3a0-4ec5-af2c-64b9a92c4b2f"
      },
      "execution_count": null,
      "outputs": [
        {
          "output_type": "stream",
          "name": "stdout",
          "text": [
            "('Kiwi', 'Cherry')\n"
          ]
        }
      ]
    },
    {
      "cell_type": "code",
      "source": [
        "Fruits=('Cherry','Litchi','Kiwi')\n",
        "if 'Cherry' in Fruits:\n",
        "  print('Cherry fruit is present')"
      ],
      "metadata": {
        "colab": {
          "base_uri": "https://localhost:8080/"
        },
        "id": "eTUs7cDjvqAs",
        "outputId": "8729e227-34e4-4232-828e-886660ec6de5"
      },
      "execution_count": null,
      "outputs": [
        {
          "output_type": "stream",
          "name": "stdout",
          "text": [
            "Cherry fruit is present\n"
          ]
        }
      ]
    },
    {
      "cell_type": "markdown",
      "source": [
        "## Update Tuples"
      ],
      "metadata": {
        "id": "dsBw3Od2xNFy"
      }
    },
    {
      "cell_type": "code",
      "source": [
        "# Changing tuple values\n",
        "a=('Cherry','Litchi','Kiwi')\n",
        "b=list(a)\n",
        "b[0]='Dragon fruit'\n",
        "a=tuple(b)\n",
        "print(a)"
      ],
      "metadata": {
        "colab": {
          "base_uri": "https://localhost:8080/"
        },
        "id": "JarAXjZQxS6Q",
        "outputId": "f9f0def9-dbb9-44a5-fd53-96ec12ba20c4"
      },
      "execution_count": null,
      "outputs": [
        {
          "output_type": "stream",
          "name": "stdout",
          "text": [
            "('Dragon fruit', 'Litchi', 'Kiwi')\n"
          ]
        }
      ]
    },
    {
      "cell_type": "code",
      "source": [
        "# Add Items\n",
        "# changing into list\n",
        "a=('Cherry','Litchi','Kiwi')\n",
        "b=list(a)\n",
        "b.append('Dragon fruit')\n",
        "a=tuple(b)\n",
        "print(a)"
      ],
      "metadata": {
        "colab": {
          "base_uri": "https://localhost:8080/"
        },
        "id": "oYty1oRCx_Hj",
        "outputId": "76a993eb-66f0-4928-ee56-3b7912318124"
      },
      "execution_count": null,
      "outputs": [
        {
          "output_type": "stream",
          "name": "stdout",
          "text": [
            "('Cherry', 'Litchi', 'Kiwi', 'Dragon fruit')\n"
          ]
        }
      ]
    },
    {
      "cell_type": "code",
      "source": [
        "# Add tuple to tuple\n",
        "a=('Cherry','Litchi','Kiwi')\n",
        "b=('Dragon fruit',)\n",
        "a+=b\n",
        "print(a)"
      ],
      "metadata": {
        "colab": {
          "base_uri": "https://localhost:8080/"
        },
        "id": "JtsBw-D1ycJT",
        "outputId": "ddcfaede-9e7e-4e9b-b7cd-c43d39859eb1"
      },
      "execution_count": null,
      "outputs": [
        {
          "output_type": "stream",
          "name": "stdout",
          "text": [
            "('Cherry', 'Litchi', 'Kiwi', 'Dragon fruit')\n"
          ]
        }
      ]
    },
    {
      "cell_type": "code",
      "source": [
        "# Remove by converting into list\n",
        "a=('Cherry','Litchi','Kiwi')\n",
        "b=list(a)\n",
        "b.remove('Cherry')\n",
        "a=tuple(b)\n",
        "print(a)"
      ],
      "metadata": {
        "colab": {
          "base_uri": "https://localhost:8080/"
        },
        "id": "77frPkavzJ_9",
        "outputId": "9361e8c7-3512-4d85-bbe8-61c6ee7f9d16"
      },
      "execution_count": null,
      "outputs": [
        {
          "output_type": "stream",
          "name": "stdout",
          "text": [
            "('Litchi', 'Kiwi')\n"
          ]
        }
      ]
    },
    {
      "cell_type": "code",
      "source": [
        "# delete the tuple\n",
        "a=('Cherry','Litchi','Kiwi')\n",
        "del a\n",
        "print(a)\n",
        "# error occurs because the tuple not exist"
      ],
      "metadata": {
        "id": "n8oclAXT0Zdy"
      },
      "execution_count": null,
      "outputs": []
    },
    {
      "cell_type": "markdown",
      "source": [
        "## Unpack Tuples"
      ],
      "metadata": {
        "id": "3xIvnURk0yBB"
      }
    },
    {
      "cell_type": "code",
      "source": [
        "# packing a tuple\n",
        "a=('Cherry','Litchi','Kiwi')\n",
        "# unpacking a tuple\n",
        "(Red,White,Green) =a\n",
        "print(Red)\n",
        "print(White)\n",
        "print(Green)"
      ],
      "metadata": {
        "colab": {
          "base_uri": "https://localhost:8080/"
        },
        "id": "JWbPq3kU004V",
        "outputId": "0707485d-1f72-4a9f-92e8-0d56f4157cc0"
      },
      "execution_count": null,
      "outputs": [
        {
          "output_type": "stream",
          "name": "stdout",
          "text": [
            "Cherry\n",
            "Litchi\n",
            "Kiwi\n"
          ]
        }
      ]
    },
    {
      "cell_type": "code",
      "source": [
        "# Using *asterisk\n",
        "a=('Cherry','Litchi','Kiwi','Watermelon','Dragonfruit')\n",
        "(Red,White,*Green) =a\n",
        "print(Red)\n",
        "print(White)\n",
        "print(Green)"
      ],
      "metadata": {
        "colab": {
          "base_uri": "https://localhost:8080/"
        },
        "id": "9EMrlps32IYq",
        "outputId": "b13d89ed-96d0-41f0-8118-d23a2800770c"
      },
      "execution_count": null,
      "outputs": [
        {
          "output_type": "stream",
          "name": "stdout",
          "text": [
            "Cherry\n",
            "Litchi\n",
            "['Kiwi', 'Watermelon', 'Dragonfruit']\n"
          ]
        }
      ]
    },
    {
      "cell_type": "code",
      "source": [
        "a=('Cherry','Litchi','Kiwi','Watermelon','Dragonfruit')\n",
        "(Red,White,*Green) =a\n",
        "print(Red)"
      ],
      "metadata": {
        "colab": {
          "base_uri": "https://localhost:8080/"
        },
        "id": "JHDiiBnG794P",
        "outputId": "61e40abd-74c2-48a3-93f7-006bb2c92ec0"
      },
      "execution_count": null,
      "outputs": [
        {
          "output_type": "stream",
          "name": "stdout",
          "text": [
            "Cherry\n"
          ]
        }
      ]
    },
    {
      "cell_type": "code",
      "source": [
        "a=('Cherry','Litchi','Kiwi','Watermelon','Dragonfruit')\n",
        "(Red,*White,Green) =a\n",
        "print(Red)\n",
        "print(White)"
      ],
      "metadata": {
        "colab": {
          "base_uri": "https://localhost:8080/"
        },
        "id": "c8x1mnu58EiX",
        "outputId": "294863f4-fce9-473d-ce16-189d81bb6b97"
      },
      "execution_count": null,
      "outputs": [
        {
          "output_type": "stream",
          "name": "stdout",
          "text": [
            "Cherry\n",
            "['Litchi', 'Kiwi', 'Watermelon']\n"
          ]
        }
      ]
    },
    {
      "cell_type": "code",
      "source": [
        "# add list values to 'a' variable\n",
        "a=('Cherry','Litchi','Kiwi','Watermelon','Dragonfruit')\n",
        "(Red,*some,Green) =a\n",
        "print(Red)\n",
        "print(some)\n",
        "print(Green)"
      ],
      "metadata": {
        "colab": {
          "base_uri": "https://localhost:8080/"
        },
        "id": "LG_D6ysP20a5",
        "outputId": "08e5172c-e524-4638-aa5c-2cbcef58c07f"
      },
      "execution_count": null,
      "outputs": [
        {
          "output_type": "stream",
          "name": "stdout",
          "text": [
            "Cherry\n",
            "['Litchi', 'Kiwi', 'Watermelon']\n",
            "Dragonfruit\n"
          ]
        }
      ]
    },
    {
      "cell_type": "markdown",
      "source": [
        "## Loop Tuples"
      ],
      "metadata": {
        "id": "v1sOl2s730tw"
      }
    },
    {
      "cell_type": "code",
      "source": [
        "a=('Cherry','Litchi','Kiwi','Watermelon','Dragonfruit')\n",
        "for i in a:\n",
        "  print(i)"
      ],
      "metadata": {
        "colab": {
          "base_uri": "https://localhost:8080/"
        },
        "id": "BRyor55x3-1_",
        "outputId": "50fadb0c-9885-4e1d-ba92-41063d255f1d"
      },
      "execution_count": null,
      "outputs": [
        {
          "output_type": "stream",
          "name": "stdout",
          "text": [
            "Cherry\n",
            "Litchi\n",
            "Kiwi\n",
            "Watermelon\n",
            "Dragonfruit\n"
          ]
        }
      ]
    },
    {
      "cell_type": "code",
      "source": [
        "a=('Cherry','Litchi','Kiwi','Watermelon','Dragonfruit')\n",
        "for i in range(len(a)):\n",
        "  print(i)"
      ],
      "metadata": {
        "colab": {
          "base_uri": "https://localhost:8080/"
        },
        "id": "9rjSRoVv4hbA",
        "outputId": "4756dcb7-7a5b-4178-dc60-60309eaad1f5"
      },
      "execution_count": null,
      "outputs": [
        {
          "output_type": "stream",
          "name": "stdout",
          "text": [
            "0\n",
            "1\n",
            "2\n",
            "3\n",
            "4\n"
          ]
        }
      ]
    },
    {
      "cell_type": "code",
      "source": [
        "a=('Cherry','Litchi','Kiwi','Watermelon','Dragonfruit')\n",
        "for i in range(len(a)):\n",
        "  print(a[i])"
      ],
      "metadata": {
        "colab": {
          "base_uri": "https://localhost:8080/"
        },
        "id": "sap4vPd84JyA",
        "outputId": "84d23bcc-2fd2-431a-9b14-94d02caccaea"
      },
      "execution_count": null,
      "outputs": [
        {
          "output_type": "stream",
          "name": "stdout",
          "text": [
            "Cherry\n",
            "Litchi\n",
            "Kiwi\n",
            "Watermelon\n",
            "Dragonfruit\n"
          ]
        }
      ]
    },
    {
      "cell_type": "code",
      "source": [
        "a=('Cherry','Litchi','Kiwi','Watermelon','Dragonfruit')\n",
        "i=0\n",
        "while i<len(a):\n",
        "  print(a[i])\n",
        "  i+=1"
      ],
      "metadata": {
        "colab": {
          "base_uri": "https://localhost:8080/"
        },
        "id": "DDV1Gfxh4mLo",
        "outputId": "186d3e50-ed87-4024-8992-8d8216495140"
      },
      "execution_count": null,
      "outputs": [
        {
          "output_type": "stream",
          "name": "stdout",
          "text": [
            "Cherry\n",
            "Litchi\n",
            "Kiwi\n",
            "Watermelon\n",
            "Dragonfruit\n"
          ]
        }
      ]
    },
    {
      "cell_type": "markdown",
      "source": [
        "## Join Tuples"
      ],
      "metadata": {
        "id": "bqUicAfr5LVt"
      }
    },
    {
      "cell_type": "code",
      "source": [
        "# Join two tuples\n",
        "a=('a','b','c','d','e')\n",
        "b=(1,2,3,4,5)\n",
        "c=a+b\n",
        "print(c)"
      ],
      "metadata": {
        "colab": {
          "base_uri": "https://localhost:8080/"
        },
        "id": "tKihxMHS5My1",
        "outputId": "dec1680b-68e0-4978-fd3d-cbea600f1fef"
      },
      "execution_count": null,
      "outputs": [
        {
          "output_type": "stream",
          "name": "stdout",
          "text": [
            "('a', 'b', 'c', 'd', 'e', 1, 2, 3, 4, 5)\n"
          ]
        }
      ]
    },
    {
      "cell_type": "code",
      "source": [
        "# Multiply tuples\n",
        "Fruits=('Apple','Mango','Litchi','Kiwi','Cherry','Dragon fruit')\n",
        "b=Fruits*2\n",
        "print(b)"
      ],
      "metadata": {
        "colab": {
          "base_uri": "https://localhost:8080/"
        },
        "id": "Y9LRJO-s54QB",
        "outputId": "7e6c761d-be41-486d-ea08-4c39c7591270"
      },
      "execution_count": null,
      "outputs": [
        {
          "output_type": "stream",
          "name": "stdout",
          "text": [
            "('Apple', 'Mango', 'Litchi', 'Kiwi', 'Cherry', 'Dragon fruit', 'Apple', 'Mango', 'Litchi', 'Kiwi', 'Cherry', 'Dragon fruit')\n"
          ]
        }
      ]
    },
    {
      "cell_type": "markdown",
      "source": [
        "## Tuple methods"
      ],
      "metadata": {
        "id": "RPvveL5I6mFo"
      }
    },
    {
      "cell_type": "code",
      "source": [
        "# Count\n",
        "a=(1,2,3,4,5,6,7,5,5,5,5)\n",
        "b=a.count(5)\n",
        "print(b)"
      ],
      "metadata": {
        "colab": {
          "base_uri": "https://localhost:8080/"
        },
        "id": "BDDk_Jn56u7k",
        "outputId": "f8c86bc8-3b47-45ef-dc06-00f2a5cf97fc"
      },
      "execution_count": null,
      "outputs": [
        {
          "output_type": "stream",
          "name": "stdout",
          "text": [
            "5\n"
          ]
        }
      ]
    },
    {
      "cell_type": "code",
      "source": [
        "# Index\n",
        "a=(1,2,3,4,5,6,7,8,9,10)\n",
        "b=a.index(5)\n",
        "print(b)"
      ],
      "metadata": {
        "colab": {
          "base_uri": "https://localhost:8080/"
        },
        "id": "_V61k2pB7GXg",
        "outputId": "2de3d40a-6af1-4e73-cb7a-78bb1b9c56b7"
      },
      "execution_count": null,
      "outputs": [
        {
          "output_type": "stream",
          "name": "stdout",
          "text": [
            "4\n"
          ]
        }
      ]
    }
  ]
}