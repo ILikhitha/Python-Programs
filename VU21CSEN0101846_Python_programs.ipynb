{
  "cells": [
    {
      "cell_type": "markdown",
      "metadata": {
        "id": "view-in-github",
        "colab_type": "text"
      },
      "source": [
        "<a href=\"https://colab.research.google.com/github/ILikhitha/Python-Programs/blob/main/VU21CSEN0101846_Python_programs.ipynb\" target=\"_parent\"><img src=\"https://colab.research.google.com/assets/colab-badge.svg\" alt=\"Open In Colab\"/></a>"
      ]
    },
    {
      "cell_type": "markdown",
      "id": "c9583584",
      "metadata": {
        "id": "c9583584"
      },
      "source": [
        "# Static average of three numbers"
      ]
    },
    {
      "cell_type": "code",
      "execution_count": null,
      "id": "fba67ec7",
      "metadata": {
        "id": "fba67ec7",
        "outputId": "06627c9d-0bc0-4297-cac1-b2f5c29e64c6"
      },
      "outputs": [
        {
          "name": "stdout",
          "output_type": "stream",
          "text": [
            "20.0\n",
            "<class 'float'>\n",
            "10\n",
            "<class 'int'>\n"
          ]
        }
      ],
      "source": [
        "a=10\n",
        "b=20\n",
        "c=30\n",
        "average=(a+b+c)/3\n",
        "print(average)\n",
        "print(type(average))\n",
        "print(a)\n",
        "print(type(a))"
      ]
    },
    {
      "cell_type": "markdown",
      "id": "2cf4661c",
      "metadata": {
        "id": "2cf4661c"
      },
      "source": [
        "# Static multiplication of three numbers"
      ]
    },
    {
      "cell_type": "code",
      "execution_count": null,
      "id": "50aa5a71",
      "metadata": {
        "id": "50aa5a71",
        "outputId": "08e6f4cd-a989-4183-d092-8818893dd97a"
      },
      "outputs": [
        {
          "name": "stdout",
          "output_type": "stream",
          "text": [
            "40\n",
            "<class 'int'>\n",
            "2\n",
            "<class 'int'>\n"
          ]
        }
      ],
      "source": [
        "a=2\n",
        "b=4\n",
        "c=5\n",
        "multiply=a*b*c\n",
        "print(multiply)\n",
        "print(type(multiply))\n",
        "print(a)\n",
        "print(type(a))"
      ]
    },
    {
      "cell_type": "markdown",
      "id": "514e5143",
      "metadata": {
        "id": "514e5143"
      },
      "source": [
        "# Dynamic addition of two numbers"
      ]
    },
    {
      "cell_type": "code",
      "execution_count": null,
      "id": "c140f163",
      "metadata": {
        "id": "c140f163",
        "outputId": "9925ab93-de1b-406b-bae2-fc9e188fa519"
      },
      "outputs": [
        {
          "name": "stdout",
          "output_type": "stream",
          "text": [
            "Enter a5\n",
            "Enter b10\n",
            "15\n",
            "<class 'int'>\n"
          ]
        }
      ],
      "source": [
        "a=int(input(\"Enter a\"))\n",
        "b=int(input(\"Enter b\"))\n",
        "c=a+b\n",
        "print(c)\n",
        "print(type(c))"
      ]
    },
    {
      "cell_type": "markdown",
      "id": "2f1a15d9",
      "metadata": {
        "id": "2f1a15d9"
      },
      "source": [
        "# Dynamic multiplication of two numbers"
      ]
    },
    {
      "cell_type": "code",
      "execution_count": null,
      "id": "62be2d10",
      "metadata": {
        "id": "62be2d10",
        "outputId": "c41ee6a2-d837-43c5-fbe0-770a07b44d5a"
      },
      "outputs": [
        {
          "name": "stdout",
          "output_type": "stream",
          "text": [
            "Enter a5\n",
            "Enter b10\n",
            "50\n",
            "<class 'int'>\n"
          ]
        }
      ],
      "source": [
        "a=int(input(\"Enter a\"))\n",
        "b=int(input(\"Enter b\"))\n",
        "c=a*b\n",
        "print(c)\n",
        "print(type(c))"
      ]
    },
    {
      "cell_type": "markdown",
      "id": "8e445fd2",
      "metadata": {
        "id": "8e445fd2"
      },
      "source": [
        "# Type Conversions"
      ]
    },
    {
      "cell_type": "markdown",
      "id": "7987eb87",
      "metadata": {
        "id": "7987eb87"
      },
      "source": [
        "## Convert int to float"
      ]
    },
    {
      "cell_type": "code",
      "execution_count": null,
      "id": "1853ecfe",
      "metadata": {
        "id": "1853ecfe",
        "outputId": "7fe80284-abb3-42d7-a8b0-02f234b2c404"
      },
      "outputs": [
        {
          "name": "stdout",
          "output_type": "stream",
          "text": [
            "10\n",
            "<class 'int'>\n",
            "10.0\n",
            "<class 'float'>\n"
          ]
        }
      ],
      "source": [
        "a=10\n",
        "print(a)\n",
        "print(type(a))\n",
        "b=float(a)\n",
        "print(b)\n",
        "print(type(b))"
      ]
    },
    {
      "cell_type": "markdown",
      "id": "042a46ff",
      "metadata": {
        "id": "042a46ff"
      },
      "source": [
        "## Convert float to int"
      ]
    },
    {
      "cell_type": "code",
      "execution_count": null,
      "id": "8b6dab73",
      "metadata": {
        "id": "8b6dab73",
        "outputId": "e757a199-c184-4972-ef61-d18e10aa6db3"
      },
      "outputs": [
        {
          "name": "stdout",
          "output_type": "stream",
          "text": [
            "5.5\n",
            "<class 'float'>\n",
            "5\n",
            "<class 'int'>\n"
          ]
        }
      ],
      "source": [
        "a=5.5\n",
        "print(a)\n",
        "print(type(a))\n",
        "b=int(a)\n",
        "print(b)\n",
        "print(type(b))"
      ]
    },
    {
      "cell_type": "markdown",
      "id": "33a8cc29",
      "metadata": {
        "id": "33a8cc29"
      },
      "source": [
        "## Convert int to string"
      ]
    },
    {
      "cell_type": "code",
      "execution_count": null,
      "id": "70c299b9",
      "metadata": {
        "id": "70c299b9",
        "outputId": "3303feaf-e7e8-4360-9506-fa2ca0a0224a"
      },
      "outputs": [
        {
          "name": "stdout",
          "output_type": "stream",
          "text": [
            "10\n",
            "<class 'int'>\n",
            "10\n",
            "<class 'str'>\n"
          ]
        }
      ],
      "source": [
        "a=10\n",
        "print(a)\n",
        "print(type(a))\n",
        "b=str(a)\n",
        "print(b)\n",
        "print(type(b))"
      ]
    },
    {
      "cell_type": "markdown",
      "id": "a7da7687",
      "metadata": {
        "id": "a7da7687"
      },
      "source": [
        "## Convert float to string"
      ]
    },
    {
      "cell_type": "code",
      "execution_count": null,
      "id": "0abb4fe0",
      "metadata": {
        "id": "0abb4fe0",
        "outputId": "e3d2dba7-cd46-4719-9b5c-c1793d831f1d"
      },
      "outputs": [
        {
          "name": "stdout",
          "output_type": "stream",
          "text": [
            "5.5\n",
            "<class 'float'>\n",
            "5.5\n",
            "<class 'str'>\n"
          ]
        }
      ],
      "source": [
        "a=5.5\n",
        "print(a)\n",
        "print(type(a))\n",
        "b=str(a)\n",
        "print(b)\n",
        "print(type(b))"
      ]
    },
    {
      "cell_type": "markdown",
      "id": "2a6b7c19",
      "metadata": {
        "id": "2a6b7c19"
      },
      "source": [
        "## Convert string to int "
      ]
    },
    {
      "cell_type": "code",
      "execution_count": null,
      "id": "31d8c774",
      "metadata": {
        "id": "31d8c774",
        "outputId": "e727a02f-7b3c-407d-8b06-f184000c8a30"
      },
      "outputs": [
        {
          "name": "stdout",
          "output_type": "stream",
          "text": [
            "55\n",
            "<class 'str'>\n",
            "55\n",
            "<class 'int'>\n"
          ]
        }
      ],
      "source": [
        "a='55'\n",
        "print(a)\n",
        "print(type(a))\n",
        "b=int(a)\n",
        "print(b)\n",
        "print(type(b))"
      ]
    },
    {
      "cell_type": "markdown",
      "id": "741c972e",
      "metadata": {
        "id": "741c972e"
      },
      "source": [
        "## Convert string to float"
      ]
    },
    {
      "cell_type": "code",
      "execution_count": null,
      "id": "d14ac540",
      "metadata": {
        "id": "d14ac540",
        "outputId": "1f6200dc-d837-46b4-8eda-4839702005be"
      },
      "outputs": [
        {
          "name": "stdout",
          "output_type": "stream",
          "text": [
            "5.5\n",
            "<class 'str'>\n",
            "5.5\n",
            "<class 'float'>\n"
          ]
        }
      ],
      "source": [
        "a='5.5'\n",
        "print(a)\n",
        "print(type(a))\n",
        "b=float(a)\n",
        "print(b)\n",
        "print(type(b))"
      ]
    },
    {
      "cell_type": "markdown",
      "id": "2d04e089",
      "metadata": {
        "id": "2d04e089"
      },
      "source": [
        "# Boolean datatype conversions"
      ]
    },
    {
      "cell_type": "markdown",
      "id": "d65df744",
      "metadata": {
        "id": "d65df744"
      },
      "source": [
        "## Convert int to boolean"
      ]
    },
    {
      "cell_type": "code",
      "execution_count": null,
      "id": "23f9bf10",
      "metadata": {
        "id": "23f9bf10",
        "outputId": "d41112ca-1381-42f5-f2e4-88b5c939308b"
      },
      "outputs": [
        {
          "name": "stdout",
          "output_type": "stream",
          "text": [
            "50\n",
            "<class 'int'>\n",
            "True\n",
            "<class 'bool'>\n"
          ]
        }
      ],
      "source": [
        "a=50\n",
        "print(a)\n",
        "print(type(a))\n",
        "b=bool(a)\n",
        "print(b)\n",
        "print(type(b))"
      ]
    },
    {
      "cell_type": "markdown",
      "id": "9195a391",
      "metadata": {
        "id": "9195a391"
      },
      "source": [
        "## Boolean conditions check"
      ]
    },
    {
      "cell_type": "code",
      "execution_count": null,
      "id": "7a3b83da",
      "metadata": {
        "id": "7a3b83da",
        "outputId": "99f8457f-5304-4996-ca87-41a4db43b2b0"
      },
      "outputs": [
        {
          "name": "stdout",
          "output_type": "stream",
          "text": [
            "False\n"
          ]
        }
      ],
      "source": [
        "print(5==6)"
      ]
    },
    {
      "cell_type": "code",
      "execution_count": null,
      "id": "9404921e",
      "metadata": {
        "id": "9404921e",
        "outputId": "8dde8f80-dca5-4234-8431-cbb1574d3a8b"
      },
      "outputs": [
        {
          "name": "stdout",
          "output_type": "stream",
          "text": [
            "True\n"
          ]
        }
      ],
      "source": [
        "print(6>4)"
      ]
    },
    {
      "cell_type": "markdown",
      "id": "f54cb0b7",
      "metadata": {
        "id": "f54cb0b7"
      },
      "source": [
        "## Convert float to boolean"
      ]
    },
    {
      "cell_type": "code",
      "execution_count": null,
      "id": "56ef22ae",
      "metadata": {
        "id": "56ef22ae",
        "outputId": "7ddb07e7-1636-446a-b449-39aa390ab137"
      },
      "outputs": [
        {
          "name": "stdout",
          "output_type": "stream",
          "text": [
            "5.5\n",
            "<class 'float'>\n",
            "True\n",
            "<class 'bool'>\n"
          ]
        }
      ],
      "source": [
        "a=5.5\n",
        "print(a)\n",
        "print(type(a))\n",
        "b=bool(a)\n",
        "print(b)\n",
        "print(type(b))"
      ]
    },
    {
      "cell_type": "markdown",
      "id": "2db27146",
      "metadata": {
        "id": "2db27146"
      },
      "source": [
        "## Convert string to boolean"
      ]
    },
    {
      "cell_type": "code",
      "execution_count": null,
      "id": "5a1a0b90",
      "metadata": {
        "id": "5a1a0b90",
        "outputId": "c2071ba9-cc3e-4761-f78a-a4ca513272bd"
      },
      "outputs": [
        {
          "name": "stdout",
          "output_type": "stream",
          "text": [
            "55\n",
            "<class 'str'>\n",
            "True\n",
            "<class 'bool'>\n"
          ]
        }
      ],
      "source": [
        "a='55'\n",
        "print(a)\n",
        "print(type(a))\n",
        "b=bool(a)\n",
        "print(b)\n",
        "print(type(b))"
      ]
    },
    {
      "cell_type": "markdown",
      "id": "bfe1b4a4",
      "metadata": {
        "id": "bfe1b4a4"
      },
      "source": [
        "## Convert boolean to int"
      ]
    },
    {
      "cell_type": "code",
      "execution_count": null,
      "id": "4f6a6e9c",
      "metadata": {
        "id": "4f6a6e9c",
        "outputId": "b5b7ec8f-a5d4-44db-e046-e4152c5f5405"
      },
      "outputs": [
        {
          "name": "stdout",
          "output_type": "stream",
          "text": [
            "True\n",
            "<class 'bool'>\n",
            "1\n",
            "<class 'int'>\n"
          ]
        }
      ],
      "source": [
        "a=True\n",
        "print(a)\n",
        "print(type(a))\n",
        "b=int(a)\n",
        "print(b)\n",
        "print(type(b))"
      ]
    },
    {
      "cell_type": "markdown",
      "id": "9d274615",
      "metadata": {
        "id": "9d274615"
      },
      "source": [
        "## Convert boolean to float"
      ]
    },
    {
      "cell_type": "code",
      "execution_count": null,
      "id": "0d45a527",
      "metadata": {
        "id": "0d45a527",
        "outputId": "d94899a4-25f2-48e0-e199-a79cd735c22d"
      },
      "outputs": [
        {
          "name": "stdout",
          "output_type": "stream",
          "text": [
            "False\n",
            "<class 'bool'>\n",
            "0.0\n",
            "<class 'float'>\n"
          ]
        }
      ],
      "source": [
        "a=False\n",
        "print(a)\n",
        "print(type(a))\n",
        "b=float(a)\n",
        "print(b)\n",
        "print(type(b))"
      ]
    },
    {
      "cell_type": "markdown",
      "id": "e4322f3a",
      "metadata": {
        "id": "e4322f3a"
      },
      "source": [
        "## Convert boolean to string"
      ]
    },
    {
      "cell_type": "code",
      "execution_count": null,
      "id": "1e81f04c",
      "metadata": {
        "id": "1e81f04c",
        "outputId": "84c15295-fd43-4a43-82e3-92a80c90b190"
      },
      "outputs": [
        {
          "name": "stdout",
          "output_type": "stream",
          "text": [
            "True\n",
            "<class 'bool'>\n",
            "True\n",
            "<class 'str'>\n"
          ]
        }
      ],
      "source": [
        "a=True\n",
        "print(a)\n",
        "print(type(a))\n",
        "b=str(a)\n",
        "print(b)\n",
        "print(type(b))"
      ]
    },
    {
      "cell_type": "markdown",
      "id": "7d84f0b7",
      "metadata": {
        "id": "7d84f0b7"
      },
      "source": [
        "## int to boolean(with condition)"
      ]
    },
    {
      "cell_type": "code",
      "execution_count": null,
      "id": "2592fbd9",
      "metadata": {
        "id": "2592fbd9",
        "outputId": "043c45ab-09e4-43a2-f90d-70ac17fa46ac"
      },
      "outputs": [
        {
          "name": "stdout",
          "output_type": "stream",
          "text": [
            "False\n",
            "<class 'bool'>\n"
          ]
        }
      ],
      "source": [
        "a=5\n",
        "b=10\n",
        "c=(a>b)\n",
        "print(c)\n",
        "print(type(c))"
      ]
    },
    {
      "cell_type": "markdown",
      "id": "b74984a7",
      "metadata": {
        "id": "b74984a7"
      },
      "source": [
        "## boolean to int(with condition)"
      ]
    },
    {
      "cell_type": "code",
      "execution_count": null,
      "id": "c1a9348f",
      "metadata": {
        "id": "c1a9348f",
        "outputId": "e704a740-7816-4571-ed69-e4557ec77941"
      },
      "outputs": [
        {
          "name": "stdout",
          "output_type": "stream",
          "text": [
            "True\n",
            "<class 'bool'>\n",
            "1\n",
            "<class 'int'>\n"
          ]
        }
      ],
      "source": [
        "a=bool(10)\n",
        "print(a)\n",
        "print(type(a))\n",
        "b=int(a)\n",
        "print(b)\n",
        "print(type(b))"
      ]
    },
    {
      "cell_type": "markdown",
      "id": "0a0bac62",
      "metadata": {
        "id": "0a0bac62"
      },
      "source": [
        "## float to boolean(with condition)"
      ]
    },
    {
      "cell_type": "code",
      "execution_count": null,
      "id": "5267c04a",
      "metadata": {
        "id": "5267c04a",
        "outputId": "f31cb094-b2c8-4ca1-f84a-8bbfb3c960c0"
      },
      "outputs": [
        {
          "name": "stdout",
          "output_type": "stream",
          "text": [
            "True\n",
            "<class 'bool'>\n",
            "1.0\n",
            "<class 'float'>\n"
          ]
        }
      ],
      "source": [
        "a=bool(10)\n",
        "print(a)\n",
        "print(type(a))\n",
        "b=float(a)\n",
        "print(b)\n",
        "print(type(b))"
      ]
    },
    {
      "cell_type": "code",
      "execution_count": null,
      "id": "284ebada",
      "metadata": {
        "id": "284ebada"
      },
      "outputs": [],
      "source": [
        ""
      ]
    }
  ],
  "metadata": {
    "kernelspec": {
      "display_name": "Python 3 (ipykernel)",
      "language": "python",
      "name": "python3"
    },
    "language_info": {
      "codemirror_mode": {
        "name": "ipython",
        "version": 3
      },
      "file_extension": ".py",
      "mimetype": "text/x-python",
      "name": "python",
      "nbconvert_exporter": "python",
      "pygments_lexer": "ipython3",
      "version": "3.9.7"
    },
    "colab": {
      "name": "VU21CSEN0101846 Python programs.ipynb",
      "provenance": [],
      "include_colab_link": true
    }
  },
  "nbformat": 4,
  "nbformat_minor": 5
}