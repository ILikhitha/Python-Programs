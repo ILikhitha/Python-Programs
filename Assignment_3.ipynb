{
  "nbformat": 4,
  "nbformat_minor": 0,
  "metadata": {
    "colab": {
      "name": "Assignment-3.ipynb",
      "provenance": [],
      "collapsed_sections": [],
      "authorship_tag": "ABX9TyMmxAOOrWPxhTStBYepZWRJ",
      "include_colab_link": true
    },
    "kernelspec": {
      "name": "python3",
      "display_name": "Python 3"
    },
    "language_info": {
      "name": "python"
    }
  },
  "cells": [
    {
      "cell_type": "markdown",
      "metadata": {
        "id": "view-in-github",
        "colab_type": "text"
      },
      "source": [
        "<a href=\"https://colab.research.google.com/github/ILikhitha/Python-Programs/blob/main/Assignment_3.ipynb\" target=\"_parent\"><img src=\"https://colab.research.google.com/assets/colab-badge.svg\" alt=\"Open In Colab\"/></a>"
      ]
    },
    {
      "cell_type": "code",
      "execution_count": null,
      "metadata": {
        "colab": {
          "base_uri": "https://localhost:8080/"
        },
        "id": "d089NN19keGs",
        "outputId": "6b3ee3ff-5d6a-4d46-cdb6-fae7767a52b1"
      },
      "outputs": [
        {
          "output_type": "stream",
          "name": "stdout",
          "text": [
            "Enter base: 2\n",
            "Enter exponential value: 3\n",
            "Result: 8\n"
          ]
        }
      ],
      "source": [
        "# 1)write a python program to find power of number with recursion(input n=2 , p=3)\n",
        "def power(n,p):\n",
        "    if(p==1):\n",
        "        return(n)\n",
        "    if(p!=1):\n",
        "        return(n*power(n,p-1))\n",
        "n=int(input(\"Enter base: \"))\n",
        "p=int(input(\"Enter exponential value: \"))\n",
        "print(\"Result:\",power(n,p))"
      ]
    },
    {
      "cell_type": "code",
      "source": [
        "# 1)write a python program to find power of number without recursion(input n=2,p=3)\n",
        "n=int(input(\"Enter base:\"))\n",
        "p=int(input(\"Enter exponenetial value:\"))\n",
        "power=n**p\n",
        "print(\"Result:\",power)"
      ],
      "metadata": {
        "colab": {
          "base_uri": "https://localhost:8080/"
        },
        "id": "WNJUn9w2kt4i",
        "outputId": "1431b141-0b1f-4654-937c-875d6aa066be"
      },
      "execution_count": null,
      "outputs": [
        {
          "output_type": "stream",
          "name": "stdout",
          "text": [
            "Enter base:2\n",
            "Enter exponenetial value:3\n",
            "Result: 8\n"
          ]
        }
      ]
    },
    {
      "cell_type": "code",
      "source": [
        "# 2)write a program to sort tuple by total digits (input: list=[(3,4,6,723),(1,2),(134,234,34)] output:[(1,2)(3,4,6,723)(34,134,234)]\n",
        "a=[(3,4,6,723),(1,2),(134,234,34)]\n",
        "print(a)\n",
        "b=sorted(a)\n",
        "print(b)"
      ],
      "metadata": {
        "colab": {
          "base_uri": "https://localhost:8080/"
        },
        "id": "czN_P_jilPlM",
        "outputId": "03483660-0b2d-4e5d-e3d1-b09e60a43f30"
      },
      "execution_count": null,
      "outputs": [
        {
          "output_type": "stream",
          "name": "stdout",
          "text": [
            "[(3, 4, 6, 723), (1, 2), (134, 234, 34)]\n",
            "[(1, 2), (3, 4, 6, 723), (134, 234, 34)]\n"
          ]
        }
      ]
    },
    {
      "cell_type": "code",
      "source": [
        "a=eval(input(\"Enter the list of tuples:\"))\n",
        "print(a)\n",
        "b=sorted(a)\n",
        "print(b)"
      ],
      "metadata": {
        "colab": {
          "base_uri": "https://localhost:8080/"
        },
        "id": "iuk2qVfEprkO",
        "outputId": "b92a8b8f-5fe2-4a70-bbcb-b0b45e9d29db"
      },
      "execution_count": null,
      "outputs": [
        {
          "output_type": "stream",
          "name": "stdout",
          "text": [
            "Enter the list of tuples:[(3,4,6,723),(1,2),(134,234,34)]\n",
            "[(3, 4, 6, 723), (1, 2), (134, 234, 34)]\n",
            "[(1, 2), (3, 4, 6, 723), (134, 234, 34)]\n"
          ]
        }
      ]
    },
    {
      "cell_type": "code",
      "source": [
        "# 3)take five subjects from the user and display the grade of the student,if average is 90-100(o),80-89(a+),70-79(a)...\n",
        "a=int(input(\"Enter first subject marks:\"))\n",
        "b=int(input(\"Enter second subject marks:\"))\n",
        "c=int(input(\"Enter third subject marks:\"))\n",
        "d=int(input(\"Enter fourth subject marks:\"))\n",
        "e=int(input(\"Enter fifth subject marks:\"))\n",
        "avg=(a+b+c+d+e)/5\n",
        "if avg>=90 and avg<=100:\n",
        "  print(\"Grade is O\")\n",
        "elif avg>=80 and avg<=89:\n",
        "  print(\"Grade is A+\")\n",
        "elif avg>=70 and avg<=79:\n",
        "  print(\"Grade is A\")\n",
        "elif avg>=60 and avg<=69:\n",
        "  print(\"Grade is B\")\n",
        "else:\n",
        "  print(\"Fail\")"
      ],
      "metadata": {
        "colab": {
          "base_uri": "https://localhost:8080/"
        },
        "id": "iAcvCU0EoWEE",
        "outputId": "b6cbe72c-cdf7-4339-8b5c-8c08804044c1"
      },
      "execution_count": null,
      "outputs": [
        {
          "output_type": "stream",
          "name": "stdout",
          "text": [
            "Enter first subject marks:90\n",
            "Enter second subject marks:92\n",
            "Enter third subject marks:94\n",
            "Enter fourth subject marks:96\n",
            "Enter fifth subject marks:98\n",
            "Grade is O\n"
          ]
        }
      ]
    },
    {
      "cell_type": "code",
      "source": [
        "# 4)write a python program that prints 1 if all three given numbers are ascending order.\n",
        "a=int(input(\"Enter first number:\"))\n",
        "b=int(input(\"Enter second number:\"))\n",
        "c=int(input(\"Enter third number:\"))\n",
        "if a<b<c:\n",
        "  print(\"1\")\n",
        "else:\n",
        "  print(\"0\")"
      ],
      "metadata": {
        "id": "D-PnLDTTque1",
        "colab": {
          "base_uri": "https://localhost:8080/"
        },
        "outputId": "87fb31eb-6b9b-46da-c847-288032657fd0"
      },
      "execution_count": null,
      "outputs": [
        {
          "output_type": "stream",
          "name": "stdout",
          "text": [
            "Enter first number:5\n",
            "Enter second number:55\n",
            "Enter third number:555\n",
            "1\n"
          ]
        }
      ]
    },
    {
      "cell_type": "code",
      "source": [
        "a,b,c=map(int,input().split())\n",
        "if b!=a+1 or c!=b+1:\n",
        "  print(0)\n",
        "elif b==a+1 or c==b+1:\n",
        "  print(1)\n",
        "else:\n",
        "  print(\"None\")"
      ],
      "metadata": {
        "colab": {
          "base_uri": "https://localhost:8080/"
        },
        "id": "JzfovyKF0Lxg",
        "outputId": "32788528-7119-4a6c-8035-b3fbf72e4145"
      },
      "execution_count": null,
      "outputs": [
        {
          "output_type": "stream",
          "name": "stdout",
          "text": [
            "2 3 4\n",
            "1\n"
          ]
        }
      ]
    },
    {
      "cell_type": "code",
      "source": [
        "# 5)check a given number is perfect number are not\n",
        "n = int(input(\"Enter any number: \"))\n",
        "sum = 0\n",
        "for i in range(1, n):\n",
        "    if(n % i == 0):\n",
        "        sum = sum + i\n",
        "if (sum == n):\n",
        "    print(\"Number is a Perfect number\")\n",
        "else:\n",
        "    print(\"Number is not a Perfect number!\")"
      ],
      "metadata": {
        "colab": {
          "base_uri": "https://localhost:8080/"
        },
        "id": "wWnwt7bGtKv1",
        "outputId": "f487f045-e804-4409-89d8-3e8fd559c59b"
      },
      "execution_count": null,
      "outputs": [
        {
          "output_type": "stream",
          "name": "stdout",
          "text": [
            "Enter any number: 5\n",
            "Number is not a Perfect number!\n"
          ]
        }
      ]
    },
    {
      "cell_type": "code",
      "source": [
        "# 6)check a given string is a pallindrome or not\n",
        "a=input(\"Enter a string:\")\n",
        "a=a.casefold()\n",
        "b=reversed(a)\n",
        "if list(a)==list(b):\n",
        "   print(\"String is a palindrome\")\n",
        "else:\n",
        "   print(\"String is not a palindrome\")"
      ],
      "metadata": {
        "id": "VciDt0aVtWCG",
        "colab": {
          "base_uri": "https://localhost:8080/"
        },
        "outputId": "ca6cc189-d701-4577-eb45-0a57248db613"
      },
      "execution_count": null,
      "outputs": [
        {
          "output_type": "stream",
          "name": "stdout",
          "text": [
            "Enter a string:Yang isi gnaY\n",
            "String is a palindrome\n"
          ]
        }
      ]
    },
    {
      "cell_type": "code",
      "source": [
        "# 7)find the gcd of two numbers without recursion(5,3=1)\n",
        "a=int(input(\"Enter 1st number: \"))\n",
        "b=int(input(\"Enter 2nd number: \"))\n",
        "i = 1\n",
        "while(i<=a and i<=b):\n",
        "  if(a%i==0 and b%i==0):\n",
        "    gcd = i\n",
        "  i = i + 1\n",
        "print(\"GCD is\", gcd)"
      ],
      "metadata": {
        "id": "ZEr71x8mu3pO",
        "colab": {
          "base_uri": "https://localhost:8080/"
        },
        "outputId": "e97ad5b7-3417-4b60-ab98-ad47fbc817ec"
      },
      "execution_count": null,
      "outputs": [
        {
          "output_type": "stream",
          "name": "stdout",
          "text": [
            "Enter 1st number: 5\n",
            "Enter 2nd number: 3\n",
            "GCD is 1\n"
          ]
        }
      ]
    },
    {
      "cell_type": "code",
      "source": [
        "# 7)find the gcd of two numbers with recursion(5,3=1)\n",
        "def gcd(a,b):\n",
        "  c=a%b\n",
        "  if (c==0):\n",
        "    return b\n",
        "  else:\n",
        "    return gcd(b,c)\n",
        "x=int(input(\"Enter 1st number: \"))\n",
        "y=int(input(\"Enter 2nd number: \"))\n",
        "print(\"GCD:\",gcd(x,y))"
      ],
      "metadata": {
        "id": "E-j83AqWu-R-",
        "colab": {
          "base_uri": "https://localhost:8080/"
        },
        "outputId": "0f3ff1fd-2ca2-491e-fb22-42fef900ac9d"
      },
      "execution_count": null,
      "outputs": [
        {
          "output_type": "stream",
          "name": "stdout",
          "text": [
            "Enter 1st number: 5\n",
            "Enter 2nd number: 3\n",
            "GCD: 1\n"
          ]
        }
      ]
    },
    {
      "cell_type": "code",
      "source": [
        "# 8)print sum of even and odd digits in a given number\n",
        "n = int(input(\"Enter a number:\"))\n",
        "se = 0\n",
        "sodd = 0\n",
        "while n > 0:\n",
        "    r = n % 10\n",
        "    if r % 2 == 0:\n",
        "        se = se + r\n",
        "    else:\n",
        "        sodd = sodd + r\n",
        "    n = int(n / 10)\n",
        "print(\"Sum of even digits:\", se)\n",
        "print(\"Sum of odd digits:\", sodd)"
      ],
      "metadata": {
        "colab": {
          "base_uri": "https://localhost:8080/"
        },
        "id": "r_zVR9o1vswW",
        "outputId": "9e3ac3dd-dc38-4432-c1c6-f1c5c979ddee"
      },
      "execution_count": null,
      "outputs": [
        {
          "output_type": "stream",
          "name": "stdout",
          "text": [
            "Enter a number:12345\n",
            "Sum of even digits: 6\n",
            "Sum of odd digits: 9\n"
          ]
        }
      ]
    },
    {
      "cell_type": "code",
      "source": [
        "# 9)calculate the product of digits of a number\n",
        "def Product(n):\n",
        "  product = 1\n",
        "  while (n != 0):\n",
        "        product = product * (n % 10)\n",
        "        n = n // 10\n",
        "  return product\n",
        "n=int(input(\"Enter a number:\"))\n",
        "print(Product(n))"
      ],
      "metadata": {
        "colab": {
          "base_uri": "https://localhost:8080/"
        },
        "id": "DjwxI1E0qICh",
        "outputId": "81d12475-2f7a-4c7a-dea6-245fea67fff8"
      },
      "execution_count": null,
      "outputs": [
        {
          "output_type": "stream",
          "name": "stdout",
          "text": [
            "Enter a number:155\n",
            "25\n"
          ]
        }
      ]
    },
    {
      "cell_type": "code",
      "source": [
        "# 10)write a program to calculate the sum of squares given by user(123=14)\n",
        "num = int(input(\"Enter a number:\"))\n",
        "sum = 0\n",
        "while num!=0:\n",
        "    rem = num%10\n",
        "    sqr = rem*rem\n",
        "    sum = sum+sqr\n",
        "    num = int(num/10)\n",
        "\n",
        "print(\"Sum of squares of digits of the number is: \")\n",
        "print(sum)"
      ],
      "metadata": {
        "colab": {
          "base_uri": "https://localhost:8080/"
        },
        "id": "27R2REYhrqmm",
        "outputId": "b6997f10-8f4e-47a0-c522-c3bb99a522fb"
      },
      "execution_count": null,
      "outputs": [
        {
          "output_type": "stream",
          "name": "stdout",
          "text": [
            "Enter a number:555\n",
            "Sum of squares of digits of the number is: \n",
            "75\n"
          ]
        }
      ]
    },
    {
      "cell_type": "code",
      "source": [
        "# 11)given a string is s= abcdefcba how many times ith character from the front equals last ith element\n",
        "# print(countfrontbackmatches('abcdefcba'))\n",
        "a=input(\"Enter a string:\")\n",
        "b=a[::-1]\n",
        "l=int((len(a)/2))\n",
        "c=0\n",
        "for i in range(0,l):\n",
        "  if a[i]==b[i]:\n",
        "    c=c+1\n",
        "print(c)"
      ],
      "metadata": {
        "id": "DHf9cW-ltQ_C",
        "colab": {
          "base_uri": "https://localhost:8080/"
        },
        "outputId": "68b0bcee-d708-4293-9860-293f2378f149"
      },
      "execution_count": 15,
      "outputs": [
        {
          "output_type": "stream",
          "name": "stdout",
          "text": [
            "Enter a string:abcdefcba\n",
            "3\n"
          ]
        }
      ]
    },
    {
      "cell_type": "code",
      "source": [
        "# 12)given an integer n, return a list containing 1223334444.. and finaly n repeated n times(n>0)\n",
        "n=int(input(\"Enter an integer:\"))\n",
        "a=0\n",
        "for x in range(0,n):\n",
        "  if a<x:\n",
        "   print(x*x)"
      ],
      "metadata": {
        "colab": {
          "base_uri": "https://localhost:8080/"
        },
        "id": "wcU_1gK1133J",
        "outputId": "7a49eabe-2e17-418f-af87-f7dcc1932a54"
      },
      "execution_count": 31,
      "outputs": [
        {
          "output_type": "stream",
          "name": "stdout",
          "text": [
            "Enter an integer:5\n",
            "1\n",
            "4\n",
            "9\n",
            "16\n"
          ]
        }
      ]
    },
    {
      "cell_type": "code",
      "source": [
        "# 13)print number of vowels and consonents in a given string(gitam university)\n",
        "vowels=['a','e','i','o','u']\n",
        "a=input(\"Enter a string:\")\n",
        "v=0\n",
        "c=0\n",
        "for i in a:\n",
        "  if i in vowels:\n",
        "    v+=1\n",
        "  elif i != ' ':\n",
        "        c+= 1\n",
        "print(\"Vowels: \",v)\n",
        "print(\"Consonants: \",c)"
      ],
      "metadata": {
        "colab": {
          "base_uri": "https://localhost:8080/"
        },
        "id": "YMiVwCGADhV5",
        "outputId": "2a0bc5fd-e8f3-4161-c37b-a314d49a3672"
      },
      "execution_count": 32,
      "outputs": [
        {
          "output_type": "stream",
          "name": "stdout",
          "text": [
            "Enter a string:Gitam University\n",
            "Vowels:  5\n",
            "Consonants:  10\n"
          ]
        }
      ]
    },
    {
      "cell_type": "code",
      "source": [
        "# 14)Given two numbers a,b; if a<b,Print all the numbers from a to b(inclusively) ,if a>=b,Print in descending order\n",
        "a=int(input(\"Enter first number:\"))\n",
        "b=int(input(\"Enter second number:\"))\n",
        "if a<b:\n",
        "  for i in range(a,b+1):\n",
        "    print(i)\n",
        "else:\n",
        "  for i in range(a,b-1,-1):\n",
        "    print(i)"
      ],
      "metadata": {
        "colab": {
          "base_uri": "https://localhost:8080/"
        },
        "id": "q310Ix0pzUeO",
        "outputId": "e5caa1ae-cd79-4f11-c027-9b1c4d1beefb"
      },
      "execution_count": null,
      "outputs": [
        {
          "output_type": "stream",
          "name": "stdout",
          "text": [
            "Enter first number:1\n",
            "Enter second number:10\n",
            "1\n",
            "2\n",
            "3\n",
            "4\n",
            "5\n",
            "6\n",
            "7\n",
            "8\n",
            "9\n",
            "10\n"
          ]
        }
      ]
    },
    {
      "cell_type": "code",
      "source": [
        "# 14)Given two numbers a,b; if a<b,Print all the numbers from a to b(inclusively) ,if a>=b,Print in descending order\n",
        "a=int(input(\"Enter first number:\"))\n",
        "b=int(input(\"Enter second number:\"))\n",
        "if a<b:\n",
        "  for i in range(a,b+1):\n",
        "    print(i)\n",
        "else:\n",
        "  for i in range(a,b-1,-1):\n",
        "    print(i)"
      ],
      "metadata": {
        "colab": {
          "base_uri": "https://localhost:8080/"
        },
        "id": "rqOd_bLyzZ3m",
        "outputId": "1411fd9d-8396-446c-c6c9-eddf0446af42"
      },
      "execution_count": null,
      "outputs": [
        {
          "output_type": "stream",
          "name": "stdout",
          "text": [
            "Enter first number:10\n",
            "Enter second number:1\n",
            "10\n",
            "9\n",
            "8\n",
            "7\n",
            "6\n",
            "5\n",
            "4\n",
            "3\n",
            "2\n",
            "1\n"
          ]
        }
      ]
    },
    {
      "cell_type": "code",
      "source": [
        "# 15)program to print greatest of three numbers\n",
        "a=int(input(\"Enter first number:\"))\n",
        "b=int(input(\"Enter second number:\"))\n",
        "c=int(input(\"Enter third number:\"))\n",
        "if a>b and a>c:\n",
        "  print(\"a is largest\")\n",
        "elif b>a and b>c:\n",
        "  print(\"b is largest\")\n",
        "else:\n",
        "  print(\"c is largest\")"
      ],
      "metadata": {
        "colab": {
          "base_uri": "https://localhost:8080/"
        },
        "id": "J5WDSo5DGXUi",
        "outputId": "abc897f1-f545-4e46-b29b-eb21298b122f"
      },
      "execution_count": 34,
      "outputs": [
        {
          "output_type": "stream",
          "name": "stdout",
          "text": [
            "Enter first number:5\n",
            "Enter second number:55\n",
            "Enter third number:555\n",
            "c is largest\n"
          ]
        }
      ]
    },
    {
      "cell_type": "code",
      "source": [
        "# 16)write a program to print numbers of strings where the string length is 2 or more and the fist and last are same from given input\n",
        "def compare(a):\n",
        "    c= 0\n",
        "    for i in a:\n",
        "        if len(i) > 2 and i[0] == i[-1]:\n",
        "            c+= 1\n",
        "    return c\n",
        "a = ['abc', 'xyz', 'aba', '1221', 'aaa', 'asdasdsada']\n",
        "for i in a:\n",
        "    b= compare(a)\n",
        "print(b)"
      ],
      "metadata": {
        "colab": {
          "base_uri": "https://localhost:8080/"
        },
        "id": "Cn2HvESDHH2G",
        "outputId": "cc2dfff5-09f0-4e67-b9d7-a92fb14bc186"
      },
      "execution_count": 38,
      "outputs": [
        {
          "output_type": "stream",
          "name": "stdout",
          "text": [
            "4\n"
          ]
        }
      ]
    },
    {
      "cell_type": "code",
      "source": [
        "# 17)round trip of 3+3=6 km.no of days and no of round trips.<40000 meters (need to walk more ) >40000 meters (good job)\n",
        "days=int(input('Enter the no of days:'))\n",
        "no=int(input(\"enter no of meters\"))\n",
        "dis=days*no\n",
        "if dis<40000:\n",
        "  print(\"need to work more\")\n",
        "else:\n",
        "  print(\"well done\")  "
      ],
      "metadata": {
        "colab": {
          "base_uri": "https://localhost:8080/"
        },
        "id": "Nu6YpApRIhQd",
        "outputId": "c51e114c-9a33-433d-cf41-9ad554d753de"
      },
      "execution_count": 40,
      "outputs": [
        {
          "output_type": "stream",
          "name": "stdout",
          "text": [
            "Enter the no of days:5\n",
            "enter no of meters10000\n",
            "well done\n"
          ]
        }
      ]
    },
    {
      "cell_type": "code",
      "source": [
        "# 18)given alist of students l and a character, display the names of the students whose first character is a capital character\n",
        "# print(student details([]))\n",
        "a=['hello','Hello']\n",
        "print(\"The original string is : \" + str(a))\n",
        "for i in a:\n",
        "   if i.isupper():\n",
        "     print(i)\n"
      ],
      "metadata": {
        "colab": {
          "base_uri": "https://localhost:8080/"
        },
        "id": "RScOA16ZI9Rb",
        "outputId": "1cf40772-2560-43d4-a1dc-c325789ffede"
      },
      "execution_count": 43,
      "outputs": [
        {
          "output_type": "stream",
          "name": "stdout",
          "text": [
            "The original string is : ['hello', 'Hello']\n"
          ]
        }
      ]
    },
    {
      "cell_type": "code",
      "source": [
        "# 19)given a list of city names whose length is greater than the given length\n",
        "c=['USA','Paris','France','Australia']\n",
        "a=input(\"Given length:\")\n",
        "for i in c:\n",
        "  if len(i)>1:\n",
        "    print(i)"
      ],
      "metadata": {
        "colab": {
          "base_uri": "https://localhost:8080/"
        },
        "id": "oCREXRUE3N3K",
        "outputId": "0cb33ca8-d394-4590-b4b9-5314c4c50d87"
      },
      "execution_count": 20,
      "outputs": [
        {
          "output_type": "stream",
          "name": "stdout",
          "text": [
            "Given length:4\n",
            "USA\n",
            "Paris\n",
            "France\n",
            "Australia\n"
          ]
        }
      ]
    },
    {
      "cell_type": "code",
      "source": [
        "# 20)write a progam to print prime numbers in given range by using functions(25,50).\n",
        "def prime(n):\n",
        "  if n<2:\n",
        "    return False\n",
        "  for i in range(2,n):\n",
        "    if n%i==0:\n",
        "      return False\n",
        "    return True\n",
        "start=int(input(\"Starting with number:\"))\n",
        "end=int(input(\"End with number:\"))\n",
        "for i in range(start,end):\n",
        "  if prime(i):\n",
        "    print(i,end=\"\\n\")"
      ],
      "metadata": {
        "colab": {
          "base_uri": "https://localhost:8080/"
        },
        "id": "w_RBrh0z-YRU",
        "outputId": "583ea2bc-72cc-41e9-e3b9-8e53d159af22"
      },
      "execution_count": 30,
      "outputs": [
        {
          "output_type": "stream",
          "name": "stdout",
          "text": [
            "Starting with number:25\n",
            "End with number:50\n",
            "25\n",
            "27\n",
            "29\n",
            "31\n",
            "33\n",
            "35\n",
            "37\n",
            "39\n",
            "41\n",
            "43\n",
            "45\n",
            "47\n",
            "49\n"
          ]
        }
      ]
    },
    {
      "cell_type": "code",
      "source": [
        "# 21)write program to read any month in integer and display days for that month.\n",
        "a=int(input(\"Enter the month number:\"))\n",
        "b=[4,6,9,11]\n",
        "if a==2:\n",
        "  print(\"28/29\")\n",
        "elif a in b:\n",
        "  print(\"30\")\n",
        "elif a not in b:\n",
        "  print(\"31\")\n",
        "else:\n",
        "  print(\"Enter the correct choice\")"
      ],
      "metadata": {
        "colab": {
          "base_uri": "https://localhost:8080/"
        },
        "id": "Z-7pDpj995tp",
        "outputId": "cc4a98a3-0d4c-44c6-dd8d-833b9bcaf522"
      },
      "execution_count": 29,
      "outputs": [
        {
          "output_type": "stream",
          "name": "stdout",
          "text": [
            "Enter the month number:5\n",
            "31\n"
          ]
        }
      ]
    },
    {
      "cell_type": "code",
      "source": [
        "# 22)write a python program to print even length words in string.\n",
        "#  input:   \" this is a python class\"\n",
        "#  output: this is python\n",
        "a=input(\"Enter a string:\")\n",
        "b=a.split()\n",
        "for x in b:\n",
        "  if len(x)%2==0:\n",
        "    print(x)"
      ],
      "metadata": {
        "colab": {
          "base_uri": "https://localhost:8080/"
        },
        "id": "EEXlrIXi8tAo",
        "outputId": "1e4f108e-bbf3-4746-b2a4-4094efbd6c6b"
      },
      "execution_count": 28,
      "outputs": [
        {
          "output_type": "stream",
          "name": "stdout",
          "text": [
            "Enter a string:this is a python class\n",
            "this\n",
            "is\n",
            "python\n"
          ]
        }
      ]
    },
    {
      "cell_type": "code",
      "source": [
        "# 23)write a python program to captalise the first and last of each word\n",
        "String = input('Enter a string:')\n",
        "String = String[0:1].upper() + String[1:len(String)-1] + String[len(String)-1:len(String)].upper()\n",
        "print(String)"
      ],
      "metadata": {
        "colab": {
          "base_uri": "https://localhost:8080/"
        },
        "id": "HROicfqE8jfH",
        "outputId": "af0b5ff8-44d3-4b38-c66d-334753cadfe5"
      },
      "execution_count": 23,
      "outputs": [
        {
          "output_type": "stream",
          "name": "stdout",
          "text": [
            "Enter a string:yang is a top star\n",
            "Yang is a top staR\n"
          ]
        }
      ]
    },
    {
      "cell_type": "code",
      "source": [
        "# 24)write a python program to convert a list of multiple integers into a single line. input:[11,22,33] and output:112233\n",
        "a=[11,22,33]\n",
        "for i in a:\n",
        "  print(i,end='')"
      ],
      "metadata": {
        "id": "wJrG2EgQFUZ_",
        "colab": {
          "base_uri": "https://localhost:8080/"
        },
        "outputId": "b9c42d8b-92e6-47e3-d1c9-6a175d4569ef"
      },
      "execution_count": null,
      "outputs": [
        {
          "output_type": "stream",
          "name": "stdout",
          "text": [
            "112233"
          ]
        }
      ]
    },
    {
      "cell_type": "code",
      "source": [
        "# 25)Write a program to check given number is fibonacci or not\n",
        "n=int(input(\"Enter the Number:\"))\n",
        "c=0\n",
        "a=1\n",
        "b=1\n",
        "if n==0 or n==1:\n",
        "    print(\"fibonacci number\")\n",
        "else:\n",
        "    while c<n:\n",
        "        c=a+b\n",
        "        b=a\n",
        "        a=c\n",
        "    if c==n:\n",
        "        print(\"fibonacci number\")\n",
        "    else:\n",
        "        print(\"Not a fibonacci number\")\n"
      ],
      "metadata": {
        "colab": {
          "base_uri": "https://localhost:8080/"
        },
        "id": "BpVjYxBRy6cu",
        "outputId": "319a395b-adeb-4bc8-e3ab-40abfee88776"
      },
      "execution_count": null,
      "outputs": [
        {
          "output_type": "stream",
          "name": "stdout",
          "text": [
            "Enter the Number:5\n",
            "fibonacci number\n"
          ]
        }
      ]
    },
    {
      "cell_type": "code",
      "source": [
        "# 26)Read a string from user and display the string with first character capital Ex. Yang went to college\n",
        "a=input(\"Enter a string:\")\n",
        "b=a.capitalize()\n",
        "print(b)"
      ],
      "metadata": {
        "colab": {
          "base_uri": "https://localhost:8080/"
        },
        "id": "QvPN6awUzAfl",
        "outputId": "6f92ad50-43e1-452d-fa92-928ad37309b7"
      },
      "execution_count": null,
      "outputs": [
        {
          "output_type": "stream",
          "name": "stdout",
          "text": [
            "Enter a string:yang is a top star\n",
            "Yang is a top star\n"
          ]
        }
      ]
    }
  ]
}