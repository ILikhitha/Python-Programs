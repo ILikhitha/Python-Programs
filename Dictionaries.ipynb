{
  "nbformat": 4,
  "nbformat_minor": 0,
  "metadata": {
    "colab": {
      "name": "Dictionaries.ipynb",
      "provenance": [],
      "collapsed_sections": [],
      "authorship_tag": "ABX9TyNJKanXbh5Xb7ZfhH8BiSOV",
      "include_colab_link": true
    },
    "kernelspec": {
      "name": "python3",
      "display_name": "Python 3"
    },
    "language_info": {
      "name": "python"
    }
  },
  "cells": [
    {
      "cell_type": "markdown",
      "metadata": {
        "id": "view-in-github",
        "colab_type": "text"
      },
      "source": [
        "<a href=\"https://colab.research.google.com/github/ILikhitha/Python-Programs/blob/main/Dictionaries.ipynb\" target=\"_parent\"><img src=\"https://colab.research.google.com/assets/colab-badge.svg\" alt=\"Open In Colab\"/></a>"
      ]
    },
    {
      "cell_type": "markdown",
      "source": [
        "## Dictionaries"
      ],
      "metadata": {
        "id": "JPmSGBYELwpB"
      }
    },
    {
      "cell_type": "code",
      "execution_count": null,
      "metadata": {
        "colab": {
          "base_uri": "https://localhost:8080/"
        },
        "id": "qJSurMeVISrx",
        "outputId": "12d5ea5e-67dc-4637-9970-f96a5c37b40f"
      },
      "outputs": [
        {
          "output_type": "stream",
          "name": "stdout",
          "text": [
            "{'Item': 'Ferro Rocher', ' Chocolate type': 'Milk', 'Price': 1000}\n"
          ]
        }
      ],
      "source": [
        "Dict ={\n",
        "    \"Item\": \"Ferro Rocher\",\n",
        "    \" Chocolate type\": \"Milk\",\n",
        "     \"Price\": 1000\n",
        "}\n",
        "print(Dict)"
      ]
    },
    {
      "cell_type": "code",
      "source": [
        "Dict ={\n",
        "    \"Item\": \"Ferro Rocher\",\n",
        "    \" Chocolate type\": \"Milk\",\n",
        "     \"Price\": 1000\n",
        "}\n",
        "print(Dict[\"Item\"])"
      ],
      "metadata": {
        "colab": {
          "base_uri": "https://localhost:8080/"
        },
        "id": "E_OfWVl-KPd8",
        "outputId": "3c10c3db-ef73-40f6-abe9-3268690b5703"
      },
      "execution_count": null,
      "outputs": [
        {
          "output_type": "stream",
          "name": "stdout",
          "text": [
            "Ferro Rocher\n"
          ]
        }
      ]
    },
    {
      "cell_type": "code",
      "source": [
        "Dict ={\n",
        "    \"Item\": \"Ferro Rocher\",\n",
        "    \" Chocolate type\": \"Milk\",\n",
        "     \"Price\": 1000,\n",
        "    \"Year\": 1982\n",
        "}\n",
        "print(Dict)"
      ],
      "metadata": {
        "colab": {
          "base_uri": "https://localhost:8080/"
        },
        "id": "Lx7tWnlqKf1T",
        "outputId": "724dd03c-f27d-4af4-ace0-9e7b816a7be9"
      },
      "execution_count": null,
      "outputs": [
        {
          "output_type": "stream",
          "name": "stdout",
          "text": [
            "{'Item': 'Ferro Rocher', ' Chocolate type': 'Milk', 'Price': 1000, 'Year': 1982}\n"
          ]
        }
      ]
    },
    {
      "cell_type": "code",
      "source": [
        "Dict ={\n",
        "    \"Item\": \"Ferro Rocher\",\n",
        "    \" Chocolate type\": \"Milk\",\n",
        "     \"Price\": 1000\n",
        "}\n",
        "print(len(Dict))"
      ],
      "metadata": {
        "colab": {
          "base_uri": "https://localhost:8080/"
        },
        "id": "TTjoPocrK4k7",
        "outputId": "cebd4aaf-9921-4fe3-df1e-0c536d71b3bf"
      },
      "execution_count": null,
      "outputs": [
        {
          "output_type": "stream",
          "name": "stdout",
          "text": [
            "3\n"
          ]
        }
      ]
    },
    {
      "cell_type": "code",
      "source": [
        "Dict ={\n",
        "    \"Item\": \"Ferro Rocher\",\n",
        "    \" Chocolate type\": \"Milk\",\n",
        "     \"Price\": 1000,\n",
        "     \"colors\":['Brown']\n",
        "}\n",
        "print(Dict)"
      ],
      "metadata": {
        "colab": {
          "base_uri": "https://localhost:8080/"
        },
        "id": "6ftLTo4xLFJI",
        "outputId": "9cae275a-e45f-44ce-cb19-141cab3d876b"
      },
      "execution_count": 21,
      "outputs": [
        {
          "output_type": "stream",
          "name": "stdout",
          "text": [
            "{'Item': 'Ferro Rocher', ' Chocolate type': 'Milk', 'Price': 1000, 'colors': ['Brown']}\n"
          ]
        }
      ]
    },
    {
      "cell_type": "code",
      "source": [
        "Dict ={\n",
        "    \"Item\": \"Ferro Rocher\",\n",
        "    \" Chocolate type\": \"Milk\",\n",
        "     \"Price\": 1000\n",
        "}\n",
        "print(type(Dict))"
      ],
      "metadata": {
        "colab": {
          "base_uri": "https://localhost:8080/"
        },
        "id": "F7KivOOWLjOz",
        "outputId": "6d188c8b-fc4e-401c-d6c8-882b5996fd08"
      },
      "execution_count": null,
      "outputs": [
        {
          "output_type": "stream",
          "name": "stdout",
          "text": [
            "<class 'dict'>\n"
          ]
        }
      ]
    },
    {
      "cell_type": "markdown",
      "source": [
        "## Access Dictionary Items"
      ],
      "metadata": {
        "id": "LGf9dvGrL3LS"
      }
    },
    {
      "cell_type": "code",
      "source": [
        "Dict ={\n",
        "    \"Item\": \"Ferro Rocher\",\n",
        "    \" Chocolate type\": \"Milk\",\n",
        "     \"Price\": 1000\n",
        "}\n",
        "i=Dict[\"Item\"]\n",
        "print(i)"
      ],
      "metadata": {
        "colab": {
          "base_uri": "https://localhost:8080/"
        },
        "id": "858dkqkeL97f",
        "outputId": "6aa00258-ebec-46b3-c189-98ca653258d2"
      },
      "execution_count": null,
      "outputs": [
        {
          "output_type": "stream",
          "name": "stdout",
          "text": [
            "Ferro Rocher\n"
          ]
        }
      ]
    },
    {
      "cell_type": "code",
      "source": [
        "# get()\n",
        "Dict ={\n",
        "    \"Item\": \"Ferro Rocher\",\n",
        "    \"Flavour\": \"Chocalate and Milk\",\n",
        "     \"Price\": 1000\n",
        "}\n",
        "i= Dict.get(\"Flavour\")\n",
        "print(i)"
      ],
      "metadata": {
        "colab": {
          "base_uri": "https://localhost:8080/"
        },
        "id": "dEna333iMZLp",
        "outputId": "1c5602dc-74d3-427d-b97f-83aa2a4f04e3"
      },
      "execution_count": null,
      "outputs": [
        {
          "output_type": "stream",
          "name": "stdout",
          "text": [
            "Chocalate and Milk\n"
          ]
        }
      ]
    },
    {
      "cell_type": "code",
      "source": [
        "# keys()\n",
        "Dict ={\n",
        "    \"Item\": \"Ferro Rocher\",\n",
        "    \"Flavour\": \"Chocalate and Milk\",\n",
        "     \"Price\": 1000\n",
        "}\n",
        "i= Dict.keys()\n",
        "print(i)"
      ],
      "metadata": {
        "colab": {
          "base_uri": "https://localhost:8080/"
        },
        "id": "U12HabSuNW8T",
        "outputId": "1b459edc-0443-44a8-f510-1c52dd61df6b"
      },
      "execution_count": null,
      "outputs": [
        {
          "output_type": "stream",
          "name": "stdout",
          "text": [
            "dict_keys(['Item', 'Flavour', 'Price'])\n"
          ]
        }
      ]
    },
    {
      "cell_type": "code",
      "source": [
        "Chocolate ={\n",
        "    \"Item\": \"Ferro Rocher\",\n",
        "    \"Flavour\": \"Chocalate and Milk\",\n",
        "     \"Price\": 1000\n",
        "}\n",
        "i= Chocolate.keys()\n",
        "print(i)\n",
        "Chocolate[\"Color\"]=\"Brown\"\n",
        "print(i)"
      ],
      "metadata": {
        "colab": {
          "base_uri": "https://localhost:8080/"
        },
        "id": "LGtyNeMDNooi",
        "outputId": "4c71346b-68c2-4b7b-dd1f-f393d6b41bcc"
      },
      "execution_count": 22,
      "outputs": [
        {
          "output_type": "stream",
          "name": "stdout",
          "text": [
            "dict_keys(['Item', 'Flavour', 'Price'])\n",
            "dict_keys(['Item', 'Flavour', 'Price', 'Color'])\n"
          ]
        }
      ]
    },
    {
      "cell_type": "code",
      "source": [
        "#values()\n",
        "Dict ={\n",
        "    \"Item\": \"Ferro Rocher\",\n",
        "    \"Flavour\": \"Chocalate and Milk\",\n",
        "     \"Price\": 1000\n",
        "}\n",
        "i= Dict.values()\n",
        "print(i)"
      ],
      "metadata": {
        "colab": {
          "base_uri": "https://localhost:8080/"
        },
        "id": "OU_QJyoTONwr",
        "outputId": "06bd6d45-434c-4202-81c3-bc1e89c2b6e7"
      },
      "execution_count": null,
      "outputs": [
        {
          "output_type": "stream",
          "name": "stdout",
          "text": [
            "dict_values(['Ferro Rocher', 'Chocalate and Milk', 1000])\n"
          ]
        }
      ]
    },
    {
      "cell_type": "code",
      "source": [
        "Chocolate ={\n",
        "    \"Item\": \"Ferro Rocher\",\n",
        "    \"Flavour\": \"Chocalate and Milk\",\n",
        "     \"Price\": 1000\n",
        "}\n",
        "i= Chocolate.values()\n",
        "print(i)\n",
        "Chocolate[\"Color\"]=\"Brown\"\n",
        "print(i)"
      ],
      "metadata": {
        "colab": {
          "base_uri": "https://localhost:8080/"
        },
        "id": "E2oRmiIZOcDA",
        "outputId": "d4533d0e-503e-4459-f5e2-0b4d8c351570"
      },
      "execution_count": 23,
      "outputs": [
        {
          "output_type": "stream",
          "name": "stdout",
          "text": [
            "dict_values(['Ferro Rocher', 'Chocalate and Milk', 1000])\n",
            "dict_values(['Ferro Rocher', 'Chocalate and Milk', 1000, 'Brown'])\n"
          ]
        }
      ]
    },
    {
      "cell_type": "code",
      "source": [
        "Chocolate ={\n",
        "    \"Item\": \"Ferro Rocher\",\n",
        "    \"Flavour\": \"Chocalate and Milk\",\n",
        "     \"Price\": 1000\n",
        "}\n",
        "i= Chocolate.values()\n",
        "print(i)\n",
        "Chocolate[\"Year\"]=1982\n",
        "print(i)"
      ],
      "metadata": {
        "colab": {
          "base_uri": "https://localhost:8080/"
        },
        "id": "LptrSlB8OlhQ",
        "outputId": "df13bc60-2400-4465-cfbe-97ec5c2eabef"
      },
      "execution_count": null,
      "outputs": [
        {
          "output_type": "stream",
          "name": "stdout",
          "text": [
            "dict_values(['Ferro Rocher', 'Chocalate and Milk', 1000])\n",
            "dict_values(['Ferro Rocher', 'Chocalate and Milk', 1000, 1982])\n"
          ]
        }
      ]
    },
    {
      "cell_type": "code",
      "source": [
        "# items()\n",
        "Dict ={\n",
        "    \"Item\": \"Ferro Rocher\",\n",
        "    \"Flavour\": \"Chocalate and Milk\",\n",
        "     \"Price\": 1000\n",
        "}\n",
        "i= Dict.items()\n",
        "print(i)"
      ],
      "metadata": {
        "colab": {
          "base_uri": "https://localhost:8080/"
        },
        "id": "FqRov3q9O0LC",
        "outputId": "4f3db008-a848-419c-fbb2-064dd5a10829"
      },
      "execution_count": null,
      "outputs": [
        {
          "output_type": "stream",
          "name": "stdout",
          "text": [
            "dict_items([('Item', 'Ferro Rocher'), ('Flavour', 'Chocalate and Milk'), ('Price', 1000)])\n"
          ]
        }
      ]
    },
    {
      "cell_type": "code",
      "source": [
        "Chocolate ={\n",
        "    \"Item\": \"Ferro Rocher\",\n",
        "    \"Flavour\": \"Chocalate and Milk\",\n",
        "     \"Price\": 1000\n",
        "}\n",
        "i= Chocolate.items()\n",
        "print(i)\n",
        "Chocolate[\"Color\"]=\"Brown\"\n",
        "print(i)"
      ],
      "metadata": {
        "colab": {
          "base_uri": "https://localhost:8080/"
        },
        "id": "k2o2GWjiPGUF",
        "outputId": "c9ba6f26-42be-45c3-a851-fd234611f510"
      },
      "execution_count": 24,
      "outputs": [
        {
          "output_type": "stream",
          "name": "stdout",
          "text": [
            "dict_items([('Item', 'Ferro Rocher'), ('Flavour', 'Chocalate and Milk'), ('Price', 1000)])\n",
            "dict_items([('Item', 'Ferro Rocher'), ('Flavour', 'Chocalate and Milk'), ('Price', 1000), ('Color', 'Brown')])\n"
          ]
        }
      ]
    },
    {
      "cell_type": "code",
      "source": [
        "Chocolate ={\n",
        "    \"Item\": \"Ferro Rocher\",\n",
        "    \"Flavour\": \"Chocalate and Milk\",\n",
        "     \"Price\": 1000\n",
        "}\n",
        "i= Chocolate.items()\n",
        "print(i)\n",
        "Chocolate[\"Year\"]=1982\n",
        "print(i)"
      ],
      "metadata": {
        "colab": {
          "base_uri": "https://localhost:8080/"
        },
        "id": "LvA5s18tO9uA",
        "outputId": "dc078682-51bb-43ee-8fad-ed363580e1db"
      },
      "execution_count": null,
      "outputs": [
        {
          "output_type": "stream",
          "name": "stdout",
          "text": [
            "dict_items([('Item', 'Ferro Rocher'), ('Flavour', 'Chocalate and Milk'), ('Price', 1000)])\n",
            "dict_items([('Item', 'Ferro Rocher'), ('Flavour', 'Chocalate and Milk'), ('Price', 1000), ('Year', 1982)])\n"
          ]
        }
      ]
    },
    {
      "cell_type": "code",
      "source": [
        "# if key exists\n",
        "Chocolate ={\n",
        "    \"Item\": \"Ferro Rocher\",\n",
        "    \"Flavour\": \"Chocalate and Milk\",\n",
        "     \"Price\": 1000\n",
        "}\n",
        "if \"Item\" in Chocolate:\n",
        "  print(\"The Item present in chocolate dictionary\")"
      ],
      "metadata": {
        "colab": {
          "base_uri": "https://localhost:8080/"
        },
        "id": "4hg0XlZAPNwl",
        "outputId": "a49507e3-596f-454c-d9ee-a2bea815c041"
      },
      "execution_count": null,
      "outputs": [
        {
          "output_type": "stream",
          "name": "stdout",
          "text": [
            "The Item present in chocolate dictionary\n"
          ]
        }
      ]
    },
    {
      "cell_type": "markdown",
      "source": [
        "## Change Items"
      ],
      "metadata": {
        "id": "sEOrOJ1ePvMo"
      }
    },
    {
      "cell_type": "code",
      "source": [
        "# Change values\n",
        "Dict ={\n",
        "    \"Item\": \"Ferro Rocher\",\n",
        "    \"Flavour\": \"Chocalate and Milk\",\n",
        "     \"Year\": 2022\n",
        "}\n",
        "Dict[\"Year\"]=1982\n",
        "print(Dict)"
      ],
      "metadata": {
        "colab": {
          "base_uri": "https://localhost:8080/"
        },
        "id": "m_64x12VPx3H",
        "outputId": "3b2413b5-1816-4537-ea2b-24a83aa8cf97"
      },
      "execution_count": null,
      "outputs": [
        {
          "output_type": "stream",
          "name": "stdout",
          "text": [
            "{'Item': 'Ferro Rocher', 'Flavour': 'Chocalate and Milk', 'Year': 1982}\n"
          ]
        }
      ]
    },
    {
      "cell_type": "code",
      "source": [
        "# Update dictionary\n",
        "# Change values\n",
        "Dict ={\n",
        "    \"Item\": \"Ferro Rocher\",\n",
        "    \"Flavour\": \"Chocalate and Milk\",\n",
        "     \"Year\": 2022\n",
        "}\n",
        "Dict.update({\"Year\": 1982})\n",
        "print(Dict)"
      ],
      "metadata": {
        "colab": {
          "base_uri": "https://localhost:8080/"
        },
        "id": "h4afuAJFQaki",
        "outputId": "e2af78c6-6780-474d-debb-68d46d1310b8"
      },
      "execution_count": null,
      "outputs": [
        {
          "output_type": "stream",
          "name": "stdout",
          "text": [
            "{'Item': 'Ferro Rocher', 'Flavour': 'Chocalate and Milk', 'Year': 1982}\n"
          ]
        }
      ]
    },
    {
      "cell_type": "markdown",
      "source": [
        "## Add Dictionary items"
      ],
      "metadata": {
        "id": "_KCGocKQQ5ok"
      }
    },
    {
      "cell_type": "code",
      "source": [
        "Chocolate ={\n",
        "    \"Item\": \"Ferro Rocher\",\n",
        "    \"Flavour\": \"Chocalate and Milk\",\n",
        "     \"Price\": 1000\n",
        "}\n",
        "Chocolate[\"Color\"]=\"Brown\"\n",
        "print(Chocolate)"
      ],
      "metadata": {
        "colab": {
          "base_uri": "https://localhost:8080/"
        },
        "id": "3eBdxkhwRAV9",
        "outputId": "56ac3411-d820-4011-90f6-85b41ee6970b"
      },
      "execution_count": 25,
      "outputs": [
        {
          "output_type": "stream",
          "name": "stdout",
          "text": [
            "{'Item': 'Ferro Rocher', 'Flavour': 'Chocalate and Milk', 'Price': 1000, 'Color': 'Brown'}\n"
          ]
        }
      ]
    },
    {
      "cell_type": "code",
      "source": [
        "# update dictionary\n",
        "Chocolate ={\n",
        "    \"Item\": \"Ferro Rocher\",\n",
        "    \"Flavour\": \"Chocalate and Milk\",\n",
        "     \"Color\" : \"Brown\"\n",
        "}\n",
        "Chocolate.update({\"Color\": \"Brown\"})\n",
        "print(Chocolate)"
      ],
      "metadata": {
        "colab": {
          "base_uri": "https://localhost:8080/"
        },
        "id": "Rg9ebqfdRZvp",
        "outputId": "72fc62c1-92a4-4fe6-d182-9fe3be32bbd2"
      },
      "execution_count": 26,
      "outputs": [
        {
          "output_type": "stream",
          "name": "stdout",
          "text": [
            "{'Item': 'Ferro Rocher', 'Flavour': 'Chocalate and Milk', 'Color': 'Brown'}\n"
          ]
        }
      ]
    },
    {
      "cell_type": "markdown",
      "source": [
        "## Remove dictionary items"
      ],
      "metadata": {
        "id": "iVJcFHRwSBX6"
      }
    },
    {
      "cell_type": "code",
      "source": [
        "Chocolate ={\n",
        "    \"Item\": \"Ferro Rocher\",\n",
        "    \"Flavour\": \"Chocalate and Milk\",\n",
        "     \"Price\": 1000\n",
        "}\n",
        "Chocolate.pop(\"Price\")\n",
        "print(Chocolate)"
      ],
      "metadata": {
        "colab": {
          "base_uri": "https://localhost:8080/"
        },
        "id": "0DPI84vTSEho",
        "outputId": "986b0039-b915-4afe-f166-293b102d5095"
      },
      "execution_count": null,
      "outputs": [
        {
          "output_type": "stream",
          "name": "stdout",
          "text": [
            "{'Item': 'Ferro Rocher', 'Flavour': 'Chocalate and Milk'}\n"
          ]
        }
      ]
    },
    {
      "cell_type": "code",
      "source": [
        "Chocolate ={\n",
        "    \"Item\": \"Ferro Rocher\",\n",
        "    \"Flavour\": \"Chocalate and Milk\",\n",
        "     \"Price\": 1000\n",
        "}\n",
        "Chocolate.popitem()\n",
        "print(Chocolate)"
      ],
      "metadata": {
        "colab": {
          "base_uri": "https://localhost:8080/"
        },
        "id": "EpPpXZZ4Sa6C",
        "outputId": "c0344057-dad0-47da-f7f3-a217b4a331f8"
      },
      "execution_count": null,
      "outputs": [
        {
          "output_type": "stream",
          "name": "stdout",
          "text": [
            "{'Item': 'Ferro Rocher', 'Flavour': 'Chocalate and Milk'}\n"
          ]
        }
      ]
    },
    {
      "cell_type": "code",
      "source": [
        "Chocolate ={\n",
        "    \"Item\": \"Ferro Rocher\",\n",
        "    \"Flavour\": \"Chocalate and Milk\",\n",
        "     \"Price\": 1000\n",
        "}\n",
        "del Chocolate[\"Price\"]\n",
        "print(Chocolate)"
      ],
      "metadata": {
        "colab": {
          "base_uri": "https://localhost:8080/"
        },
        "id": "bM467l6ESooL",
        "outputId": "f77f7f66-47eb-440b-fbf5-51e670f85686"
      },
      "execution_count": null,
      "outputs": [
        {
          "output_type": "stream",
          "name": "stdout",
          "text": [
            "{'Item': 'Ferro Rocher', 'Flavour': 'Chocalate and Milk'}\n"
          ]
        }
      ]
    },
    {
      "cell_type": "code",
      "source": [
        "Chocolate ={\n",
        "    \"Item\": \"Ferro Rocher\",\n",
        "    \"Flavour\": \"Chocalate and Milk\",\n",
        "     \"Price\": 1000\n",
        "}\n",
        "del Chocolate()\n",
        "print(Chocolate)\n",
        "# \"Chocolate\" no longer exist"
      ],
      "metadata": {
        "id": "jSIBFUbiTYeC"
      },
      "execution_count": null,
      "outputs": []
    },
    {
      "cell_type": "code",
      "source": [
        "#clear()\n",
        "Chocolate ={\n",
        "    \"Item\": \"Ferro Rocher\",\n",
        "    \"Flavour\": \"Chocalate and Milk\",\n",
        "     \"Price\": 1000\n",
        "}\n",
        "Chocolate.clear()\n",
        "print(Chocolate)"
      ],
      "metadata": {
        "colab": {
          "base_uri": "https://localhost:8080/"
        },
        "id": "WSDeFzYZTZjc",
        "outputId": "016c7dc9-5ab1-43e5-886f-c3571099fed1"
      },
      "execution_count": null,
      "outputs": [
        {
          "output_type": "stream",
          "name": "stdout",
          "text": [
            "{}\n"
          ]
        }
      ]
    },
    {
      "cell_type": "markdown",
      "source": [
        "## Loop Dictionaries"
      ],
      "metadata": {
        "id": "qvW_7bLdTmgR"
      }
    },
    {
      "cell_type": "markdown",
      "source": [
        "#### # Loop through Dictionary"
      ],
      "metadata": {
        "id": "RFCqwm_MUWfn"
      }
    },
    {
      "cell_type": "code",
      "source": [
        "Chocolate ={\n",
        "    \"Item\": \"Ferro Rocher\",\n",
        "    \"Flavour\": \"Chocalate and Milk\",\n",
        "     \"Price\": 1000\n",
        "}\n",
        "for i in Chocolate:\n",
        "  print(i)"
      ],
      "metadata": {
        "colab": {
          "base_uri": "https://localhost:8080/"
        },
        "id": "5Vm-t6jCUZBl",
        "outputId": "a0ab25d4-adf6-438d-f78a-945b54f8faba"
      },
      "execution_count": null,
      "outputs": [
        {
          "output_type": "stream",
          "name": "stdout",
          "text": [
            "Item\n",
            "Flavour\n",
            "Price\n"
          ]
        }
      ]
    },
    {
      "cell_type": "code",
      "source": [
        "Chocolate ={\n",
        "    \"Item\": \"Ferro Rocher\",\n",
        "    \"Flavour\": \"Chocalate and Milk\",\n",
        "     \"Price\": 1000\n",
        "}\n",
        "for i in Chocolate:\n",
        "  print(Chocolate[i])"
      ],
      "metadata": {
        "colab": {
          "base_uri": "https://localhost:8080/"
        },
        "id": "1Q-B9g7NVE3A",
        "outputId": "be9f71ae-2fb4-4d9f-fa6e-3a267aa6ba01"
      },
      "execution_count": null,
      "outputs": [
        {
          "output_type": "stream",
          "name": "stdout",
          "text": [
            "Ferro Rocher\n",
            "Chocalate and Milk\n",
            "1000\n"
          ]
        }
      ]
    },
    {
      "cell_type": "code",
      "source": [
        "# values()\n",
        "Chocolate ={\n",
        "    \"Item\": \"Ferro Rocher\",\n",
        "    \"Flavour\": \"Chocalate and Milk\",\n",
        "     \"Price\": 1000\n",
        "}\n",
        "for i in Chocolate.values():\n",
        "  print(i)"
      ],
      "metadata": {
        "colab": {
          "base_uri": "https://localhost:8080/"
        },
        "id": "NKaLp7DAVNy4",
        "outputId": "2e59c1be-ddda-4759-83d0-1730940c672f"
      },
      "execution_count": null,
      "outputs": [
        {
          "output_type": "stream",
          "name": "stdout",
          "text": [
            "Ferro Rocher\n",
            "Chocalate and Milk\n",
            "1000\n"
          ]
        }
      ]
    },
    {
      "cell_type": "code",
      "source": [
        "# keys()\n",
        "Chocolate ={\n",
        "    \"Item\": \"Ferro Rocher\",\n",
        "    \"Flavour\": \"Chocalate and Milk\",\n",
        "     \"Price\": 1000\n",
        "}\n",
        "for i in Chocolate.keys():\n",
        "  print(i)"
      ],
      "metadata": {
        "colab": {
          "base_uri": "https://localhost:8080/"
        },
        "id": "ZDlIKYA-VSJ3",
        "outputId": "f58644dd-40c6-4909-8839-5a91eca96b71"
      },
      "execution_count": null,
      "outputs": [
        {
          "output_type": "stream",
          "name": "stdout",
          "text": [
            "Item\n",
            "Flavour\n",
            "Price\n"
          ]
        }
      ]
    },
    {
      "cell_type": "code",
      "source": [
        "# items()\n",
        "Chocolate ={\n",
        "    \"Item\": \"Ferro Rocher\",\n",
        "    \"Flavour\": \"Chocalate and Milk\",\n",
        "     \"Price\": 1000\n",
        "}\n",
        "for i in Chocolate.items():\n",
        "  print(i)"
      ],
      "metadata": {
        "colab": {
          "base_uri": "https://localhost:8080/"
        },
        "id": "G2boieKQVSPn",
        "outputId": "b1d33b5c-b511-41c1-b274-5802a8cda099"
      },
      "execution_count": null,
      "outputs": [
        {
          "output_type": "stream",
          "name": "stdout",
          "text": [
            "('Item', 'Ferro Rocher')\n",
            "('Flavour', 'Chocalate and Milk')\n",
            "('Price', 1000)\n"
          ]
        }
      ]
    },
    {
      "cell_type": "markdown",
      "source": [
        "## Copy Dictionaries"
      ],
      "metadata": {
        "id": "U4g9V9-aV-LQ"
      }
    },
    {
      "cell_type": "code",
      "source": [
        "# copy()\n",
        "Chocolate ={\n",
        "    \"Item\": \"Ferro Rocher\",\n",
        "    \"Flavour\": \"Chocalate and Milk\",\n",
        "     \"Price\": 1000\n",
        "}\n",
        "Order=Chocolate.copy()\n",
        "print(Order)"
      ],
      "metadata": {
        "colab": {
          "base_uri": "https://localhost:8080/"
        },
        "id": "mDxtbyoDWCp8",
        "outputId": "5c7b8d51-a578-4a21-da9a-9e3a5e0b2ca3"
      },
      "execution_count": null,
      "outputs": [
        {
          "output_type": "stream",
          "name": "stdout",
          "text": [
            "{'Item': 'Ferro Rocher', 'Flavour': 'Chocalate and Milk', 'Price': 1000}\n"
          ]
        }
      ]
    },
    {
      "cell_type": "code",
      "source": [
        "# dic()\n",
        "Chocolate ={\n",
        "    \"Item\": \"Ferro Rocher\",\n",
        "    \"Flavour\": \"Chocalate and Milk\",\n",
        "     \"Price\": 1000\n",
        "}\n",
        "Order=dict(Chocolate)\n",
        "print(Order)"
      ],
      "metadata": {
        "colab": {
          "base_uri": "https://localhost:8080/"
        },
        "id": "7HAbvGTqWdGK",
        "outputId": "6dc331c0-8f8b-4a85-f578-3a66344eee38"
      },
      "execution_count": null,
      "outputs": [
        {
          "output_type": "stream",
          "name": "stdout",
          "text": [
            "{'Item': 'Ferro Rocher', 'Flavour': 'Chocalate and Milk', 'Price': 1000}\n"
          ]
        }
      ]
    },
    {
      "cell_type": "markdown",
      "source": [
        "## Nested Dictionaries"
      ],
      "metadata": {
        "id": "OpsbMX3fWu-J"
      }
    },
    {
      "cell_type": "code",
      "source": [
        "# Create one dictionary contain 3 dictionaries\n",
        "Persons={\n",
        "    \"Person1\":{\n",
        "        \"Name\": \"Kai\",\n",
        "        \"Year\": 1995\n",
        "    },\n",
        "    \"Person2\":{\n",
        "        \"Name\": \"Yang\",\n",
        "        \"Year\": 1998\n",
        "    },\n",
        "    \"Person3\":{\n",
        "        \"Name\": \"Wang\",\n",
        "        \"Year\": 2000\n",
        "    },\n",
        "}\n",
        "print(Persons)"
      ],
      "metadata": {
        "colab": {
          "base_uri": "https://localhost:8080/"
        },
        "id": "GbiiVwp5W9Os",
        "outputId": "6d1654a9-3ab4-40f4-d20e-12a66311790b"
      },
      "execution_count": null,
      "outputs": [
        {
          "output_type": "stream",
          "name": "stdout",
          "text": [
            "{'Person1': {'Name': 'Kai', 'Year': 1995}, 'Person2': {'Name': 'Yang', 'Year': 1998}, 'Person3': {'Name': 'Wang', 'Year': 2000}}\n"
          ]
        }
      ]
    },
    {
      "cell_type": "code",
      "source": [
        "# Create 3 dictionaries, then create one dictionary that will contain the other three dictionaries\n",
        "Person1={\n",
        "                   \"Name\": \"Kai\",\n",
        "                   \"Year\": 1995\n",
        "    },\n",
        "Person2={\n",
        "                   \"Name\": \"Yang\",\n",
        "                   \"Year\": 1998\n",
        "    },\n",
        "Person3={\n",
        "                   \"Name\": \"Wang\",\n",
        "                   \"Year\": 2000\n",
        "    }\n",
        "Persons = {\n",
        "                  \"Person1\": Person1,\n",
        "                  \"Person2\": Person2,\n",
        "                  \"Person3\": Person3\n",
        "}\n",
        "print(Persons)"
      ],
      "metadata": {
        "colab": {
          "base_uri": "https://localhost:8080/"
        },
        "id": "pRQOVwUUap46",
        "outputId": "3fe5f615-1754-48f8-f8cf-373a94cdcf74"
      },
      "execution_count": null,
      "outputs": [
        {
          "output_type": "stream",
          "name": "stdout",
          "text": [
            "{'Person1': ({'Name': 'Kai', 'Year': 1995},), 'Person2': ({'Name': 'Yang', 'Year': 1998},), 'Person3': {'Name': 'Wang', 'Year': 2000}}\n"
          ]
        }
      ]
    },
    {
      "cell_type": "markdown",
      "source": [
        "## Dictionary Methods"
      ],
      "metadata": {
        "id": "592eyjAedOX5"
      }
    },
    {
      "cell_type": "code",
      "source": [
        "# clear():\tRemoves all the elements from the dictionary\n",
        "Chocolate ={\n",
        "    \"Item\": \"Ferro Rocher\",\n",
        "    \"Flavour\": \"Chocalate and Milk\",\n",
        "     \"Price\": 1000\n",
        "}\n",
        "Chocolate.clear()\n",
        "print(Chocolate)"
      ],
      "metadata": {
        "colab": {
          "base_uri": "https://localhost:8080/"
        },
        "id": "QElESRKvrXjj",
        "outputId": "ecad8f82-7906-40f7-a750-bf43b6fd58f7"
      },
      "execution_count": 1,
      "outputs": [
        {
          "output_type": "stream",
          "name": "stdout",
          "text": [
            "{}\n"
          ]
        }
      ]
    },
    {
      "cell_type": "code",
      "source": [
        "# copy(): Returns a copy of the dictionary\n",
        "Chocolate ={\n",
        "    \"Item\": \"Ferro Rocher\",\n",
        "    \"Flavour\": \"Chocalate and Milk\",\n",
        "     \"Price\": 1000\n",
        "}\n",
        "i=Chocolate.copy()\n",
        "print(i)"
      ],
      "metadata": {
        "colab": {
          "base_uri": "https://localhost:8080/"
        },
        "id": "YNo3GnYbrXuW",
        "outputId": "8b2c691f-840c-4ecf-ca2f-92f68fcf553f"
      },
      "execution_count": 4,
      "outputs": [
        {
          "output_type": "stream",
          "name": "stdout",
          "text": [
            "{'Item': 'Ferro Rocher', 'Flavour': 'Chocalate and Milk', 'Price': 1000}\n"
          ]
        }
      ]
    },
    {
      "cell_type": "code",
      "source": [
        "# fromkeys(): Returns a dictionary with the specified keys and value\n",
        "a=('First','Second','Third')\n",
        "b=0\n",
        "c= dict.fromkeys(a,b)\n",
        "print(c)"
      ],
      "metadata": {
        "colab": {
          "base_uri": "https://localhost:8080/"
        },
        "id": "7Km7rKhSdWcJ",
        "outputId": "e55d8f50-38d1-4b32-cc57-53f1528358b0"
      },
      "execution_count": 5,
      "outputs": [
        {
          "output_type": "stream",
          "name": "stdout",
          "text": [
            "{'First': 0, 'Second': 0, 'Third': 0}\n"
          ]
        }
      ]
    },
    {
      "cell_type": "code",
      "source": [
        "# fromkeys()\n",
        "a=('First','Second','Third')\n",
        "b= dict.fromkeys(a)\n",
        "print(b)"
      ],
      "metadata": {
        "colab": {
          "base_uri": "https://localhost:8080/"
        },
        "id": "njo35pSvgtrW",
        "outputId": "4b11f811-b181-47a6-f0aa-296f418dd24b"
      },
      "execution_count": 6,
      "outputs": [
        {
          "output_type": "stream",
          "name": "stdout",
          "text": [
            "{'First': None, 'Second': None, 'Third': None}\n"
          ]
        }
      ]
    },
    {
      "cell_type": "code",
      "source": [
        "# get(): Returns the value of the specified key\n",
        "Chocolate ={\n",
        "    \"Item\": \"Ferro Rocher\",\n",
        "    \"Flavour\": \"Chocalate and Milk\",\n",
        "     \"Price\": 1000\n",
        "}\n",
        "i=Chocolate.get(\"Item\")\n",
        "print(i)"
      ],
      "metadata": {
        "colab": {
          "base_uri": "https://localhost:8080/"
        },
        "id": "Rx59y727rXz6",
        "outputId": "680db06c-e2d7-4338-bd81-aa9d8205bd16"
      },
      "execution_count": 7,
      "outputs": [
        {
          "output_type": "stream",
          "name": "stdout",
          "text": [
            "Ferro Rocher\n"
          ]
        }
      ]
    },
    {
      "cell_type": "code",
      "source": [
        "# get()\n",
        "Chocolate ={\n",
        "    \"Item\": \"Ferro Rocher\",\n",
        "    \"Flavour\": \"Chocalate and Milk\",\n",
        "     \"Price\": 1000\n",
        "}\n",
        "i=Chocolate.get(\"Year\",1982)\n",
        "print(i)"
      ],
      "metadata": {
        "colab": {
          "base_uri": "https://localhost:8080/"
        },
        "id": "LAiZAJH-rX33",
        "outputId": "4f9f8c38-87b7-417c-b526-bb39f6897b88"
      },
      "execution_count": 11,
      "outputs": [
        {
          "output_type": "stream",
          "name": "stdout",
          "text": [
            "1982\n"
          ]
        }
      ]
    },
    {
      "cell_type": "code",
      "source": [
        "# items():\tReturns a list containing a tuple for each key value pair\n",
        "Chocolate ={\n",
        "    \"Item\": \"Ferro Rocher\",\n",
        "    \"Flavour\": \"Chocalate and Milk\",\n",
        "     \"Price\": 1000\n",
        "}\n",
        "i=Chocolate.items()\n",
        "print(i)"
      ],
      "metadata": {
        "colab": {
          "base_uri": "https://localhost:8080/"
        },
        "id": "MF3hJ9OVrX7p",
        "outputId": "931a0438-1908-4155-dbeb-50d26e01c14c"
      },
      "execution_count": 12,
      "outputs": [
        {
          "output_type": "stream",
          "name": "stdout",
          "text": [
            "dict_items([('Item', 'Ferro Rocher'), ('Flavour', 'Chocalate and Milk'), ('Price', 1000)])\n"
          ]
        }
      ]
    },
    {
      "cell_type": "code",
      "source": [
        "# items()\n",
        "Chocolate ={\n",
        "    \"Item\": \"Ferro Rocher\",\n",
        "    \"Flavour\": \"Chocalate and Milk\",\n",
        "     \"Price\": 1000\n",
        "}\n",
        "i=Chocolate.items()\n",
        "Chocolate[\"Price\"]=5000\n",
        "print(i)"
      ],
      "metadata": {
        "colab": {
          "base_uri": "https://localhost:8080/"
        },
        "id": "81dVlmQbrX-2",
        "outputId": "edbdcd96-2f42-40fc-89dd-3eceea8fa48f"
      },
      "execution_count": 15,
      "outputs": [
        {
          "output_type": "stream",
          "name": "stdout",
          "text": [
            "dict_items([('Item', 'Ferro Rocher'), ('Flavour', 'Chocalate and Milk'), ('Price', 5000)])\n"
          ]
        }
      ]
    },
    {
      "cell_type": "code",
      "source": [
        "# keys():\tReturns a list containing the dictionary's keys\n",
        "Chocolate ={\n",
        "    \"Item\": \"Ferro Rocher\",\n",
        "    \"Flavour\": \"Chocalate and Milk\",\n",
        "     \"Price\": 1000\n",
        "}\n",
        "i=Chocolate.keys()\n",
        "print(i)"
      ],
      "metadata": {
        "colab": {
          "base_uri": "https://localhost:8080/"
        },
        "id": "AILI0Ie-vqud",
        "outputId": "07979c92-a316-4689-db00-8747f7ff5351"
      },
      "execution_count": 17,
      "outputs": [
        {
          "output_type": "stream",
          "name": "stdout",
          "text": [
            "dict_keys(['Item', 'Flavour', 'Price'])\n"
          ]
        }
      ]
    },
    {
      "cell_type": "code",
      "source": [
        "# keys()\n",
        "Chocolate ={\n",
        "    \"Item\": \"Ferro Rocher\",\n",
        "    \"Flavour\": \"Chocalate and Milk\",\n",
        "     \"Price\": 1000\n",
        "}\n",
        "i=Chocolate.keys()\n",
        "Chocolate[\"Color\"]=\"Brown\"\n",
        "print(i)"
      ],
      "metadata": {
        "colab": {
          "base_uri": "https://localhost:8080/"
        },
        "id": "ZeOaqeSwv6g6",
        "outputId": "cc65808d-305e-4062-a8c1-94b92d5d2513"
      },
      "execution_count": 28,
      "outputs": [
        {
          "output_type": "stream",
          "name": "stdout",
          "text": [
            "dict_keys(['Item', 'Flavour', 'Price', 'Color'])\n"
          ]
        }
      ]
    },
    {
      "cell_type": "code",
      "source": [
        "# pop():\tRemoves the element with the specified key\n",
        "Chocolate ={\n",
        "    \"Item\": \"Ferro Rocher\",\n",
        "    \"Flavour\": \"Chocalate and Milk\",\n",
        "     \"Price\": 1000\n",
        "}\n",
        "Chocolate.pop(\"Price\")\n",
        "print(Chocolate)"
      ],
      "metadata": {
        "colab": {
          "base_uri": "https://localhost:8080/"
        },
        "id": "oi4vfl5CvrBz",
        "outputId": "f5cbfff9-143f-41f2-8663-f55399eb2fca"
      },
      "execution_count": 29,
      "outputs": [
        {
          "output_type": "stream",
          "name": "stdout",
          "text": [
            "{'Item': 'Ferro Rocher', 'Flavour': 'Chocalate and Milk'}\n"
          ]
        }
      ]
    },
    {
      "cell_type": "code",
      "source": [
        "# pop()\n",
        "Chocolate ={\n",
        "    \"Item\": \"Ferro Rocher\",\n",
        "    \"Flavour\": \"Chocalate and Milk\",\n",
        "     \"Price\": 1000\n",
        "}\n",
        "i=Chocolate.pop(\"Price\")\n",
        "print(i)"
      ],
      "metadata": {
        "colab": {
          "base_uri": "https://localhost:8080/"
        },
        "id": "QQ84DXW7vrbf",
        "outputId": "9d2d63b8-8071-4cd7-ee10-84dc71594893"
      },
      "execution_count": 32,
      "outputs": [
        {
          "output_type": "stream",
          "name": "stdout",
          "text": [
            "1000\n"
          ]
        }
      ]
    },
    {
      "cell_type": "code",
      "source": [
        "# popitem():\tRemoves the last inserted key-value pair\n",
        "Chocolate ={\n",
        "    \"Item\": \"Ferro Rocher\",\n",
        "    \"Flavour\": \"Chocalate and Milk\",\n",
        "     \"Price\": 1000\n",
        "}\n",
        "Chocolate.popitem()\n",
        "print(Chocolate)"
      ],
      "metadata": {
        "colab": {
          "base_uri": "https://localhost:8080/"
        },
        "id": "t6n2YK0kyzy0",
        "outputId": "8d382385-5c98-42ce-e53a-a407cafd1565"
      },
      "execution_count": 34,
      "outputs": [
        {
          "output_type": "stream",
          "name": "stdout",
          "text": [
            "{'Item': 'Ferro Rocher', 'Flavour': 'Chocalate and Milk'}\n"
          ]
        }
      ]
    },
    {
      "cell_type": "code",
      "source": [
        "# popitem()\n",
        "Chocolate ={\n",
        "    \"Item\": \"Ferro Rocher\",\n",
        "    \"Flavour\": \"Chocalate and Milk\",\n",
        "     \"Price\": 1000\n",
        "}\n",
        "i=Chocolate.popitem()\n",
        "print(i)"
      ],
      "metadata": {
        "colab": {
          "base_uri": "https://localhost:8080/"
        },
        "id": "LQSeUufTyz9F",
        "outputId": "8f46afb4-1faf-43ca-c95c-de5a74800fe4"
      },
      "execution_count": 35,
      "outputs": [
        {
          "output_type": "stream",
          "name": "stdout",
          "text": [
            "('Price', 1000)\n"
          ]
        }
      ]
    },
    {
      "cell_type": "code",
      "source": [
        "# setdefault():\tReturns the value of the specified key. If the key does not exist: insert the key, with the specified value\n",
        "Chocolate ={\n",
        "    \"Item\": \"Ferro Rocher\",\n",
        "    \"Flavour\": \"Chocalate and Milk\",\n",
        "     \"Year\": 1982\n",
        "}\n",
        "i =Chocolate.setdefault(\"Year\",2022)\n",
        "print(i)"
      ],
      "metadata": {
        "colab": {
          "base_uri": "https://localhost:8080/"
        },
        "id": "BSDFamcAy0KW",
        "outputId": "e0a9149e-df9a-4282-f115-35e62fbfca29"
      },
      "execution_count": 39,
      "outputs": [
        {
          "output_type": "stream",
          "name": "stdout",
          "text": [
            "1982\n"
          ]
        }
      ]
    },
    {
      "cell_type": "code",
      "source": [
        "# set default\n",
        "Chocolate ={\n",
        "    \"Item\": \"Ferro Rocher\",\n",
        "    \"Flavour\": \"Chocalate and Milk\",\n",
        "     \"Price\": 5000\n",
        "}\n",
        "i= Chocolate.setdefault(\"Price\",4000)\n",
        "print(i)"
      ],
      "metadata": {
        "id": "dYQahxOChh2_",
        "colab": {
          "base_uri": "https://localhost:8080/"
        },
        "outputId": "299f7112-ab1b-4407-abef-94ce414c987b"
      },
      "execution_count": 42,
      "outputs": [
        {
          "output_type": "stream",
          "name": "stdout",
          "text": [
            "5000\n"
          ]
        }
      ]
    },
    {
      "cell_type": "code",
      "source": [
        "# update():\tUpdates the dictionary with the specified key-value pairs\n",
        "Chocolate ={\n",
        "    \"Item\": \"Ferro Rocher\",\n",
        "    \"Flavour\": \"Chocalate and Milk\",\n",
        "     \"Price\": 5000\n",
        "}\n",
        "Chocolate.update({\"Price\": 5500})\n",
        "print(Chocolate)"
      ],
      "metadata": {
        "colab": {
          "base_uri": "https://localhost:8080/"
        },
        "id": "zwOoghk-0mGU",
        "outputId": "f86c4841-f881-403b-873d-ff462e93e86b"
      },
      "execution_count": 43,
      "outputs": [
        {
          "output_type": "stream",
          "name": "stdout",
          "text": [
            "{'Item': 'Ferro Rocher', 'Flavour': 'Chocalate and Milk', 'Price': 5500}\n"
          ]
        }
      ]
    },
    {
      "cell_type": "code",
      "source": [
        "# values()\tReturns a list of all the values in the dictionary\n",
        "Chocolate ={\n",
        "    \"Item\": \"Ferro Rocher\",\n",
        "    \"Flavour\": \"Chocalate and Milk\",\n",
        "     \"Price\": 5000\n",
        "}\n",
        "i=Chocolate.values()\n",
        "print(i)"
      ],
      "metadata": {
        "colab": {
          "base_uri": "https://localhost:8080/"
        },
        "id": "JsbGEeJz0maJ",
        "outputId": "b9fef973-8871-4086-fe7e-e459d4b206fb"
      },
      "execution_count": 44,
      "outputs": [
        {
          "output_type": "stream",
          "name": "stdout",
          "text": [
            "dict_values(['Ferro Rocher', 'Chocalate and Milk', 5000])\n"
          ]
        }
      ]
    },
    {
      "cell_type": "code",
      "source": [
        "# values()\n",
        "Chocolate ={\n",
        "    \"Item\": \"Ferro Rocher\",\n",
        "    \"Flavour\": \"Chocalate and Milk\",\n",
        "     \"Price\": 5000\n",
        "}\n",
        "i=Chocolate.values()\n",
        "Chocolate[\"Price\"]=5500\n",
        "print(i)"
      ],
      "metadata": {
        "colab": {
          "base_uri": "https://localhost:8080/"
        },
        "id": "YUjpLRuh1o1s",
        "outputId": "894cfa5b-820c-42df-e19f-63065be857ec"
      },
      "execution_count": 45,
      "outputs": [
        {
          "output_type": "stream",
          "name": "stdout",
          "text": [
            "dict_values(['Ferro Rocher', 'Chocalate and Milk', 5500])\n"
          ]
        }
      ]
    }
  ]
}